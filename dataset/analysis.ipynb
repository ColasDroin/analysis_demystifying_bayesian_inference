{
 "cells": [
  {
   "cell_type": "code",
   "execution_count": 1,
   "metadata": {},
   "outputs": [
    {
     "name": "stderr",
     "output_type": "stream",
     "text": [
      "[nltk_data] Downloading package stopwords to\n",
      "[nltk_data]     /Users/cdroin/nltk_data...\n",
      "[nltk_data]   Package stopwords is already up-to-date!\n",
      "[nltk_data] Downloading package averaged_perceptron_tagger_eng to\n",
      "[nltk_data]     /Users/cdroin/nltk_data...\n",
      "[nltk_data]   Package averaged_perceptron_tagger_eng is already up-to-\n",
      "[nltk_data]       date!\n"
     ]
    }
   ],
   "source": [
    "import numpy as np\n",
    "import pandas as pd\n",
    "import re\n",
    "import string\n",
    "import nltk\n",
    "from nltk.corpus import stopwords\n",
    "from nltk import pos_tag\n",
    "\n",
    "nltk.download('stopwords')\n",
    "nltk.download('averaged_perceptron_tagger_eng')\n",
    "from nltk.tokenize import word_tokenize\n",
    "from nltk.stem import WordNetLemmatizer\n",
    "from collections import Counter\n",
    "cnt = Counter()\n",
    "from sklearn.feature_extraction.text import CountVectorizer\n",
    "from nltk.tokenize import RegexpTokenizer\n",
    "from sklearn.model_selection import train_test_split\n",
    "from sklearn.naive_bayes import ComplementNB\n",
    "from sklearn.metrics import classification_report, confusion_matrix\n",
    "from sklearn import metrics\n",
    "from sklearn.naive_bayes import MultinomialNB\n",
    "\n",
    "\n"
   ]
  },
  {
   "cell_type": "markdown",
   "metadata": {},
   "source": [
    "### Load dataset"
   ]
  },
  {
   "cell_type": "code",
   "execution_count": 2,
   "metadata": {},
   "outputs": [],
   "source": [
    "df_init = pd.read_csv('emilia.csv')"
   ]
  },
  {
   "cell_type": "code",
   "execution_count": 3,
   "metadata": {},
   "outputs": [
    {
     "data": {
      "application/vnd.microsoft.datawrangler.viewer.v0+json": {
       "columns": [
        {
         "name": "index",
         "rawType": "int64",
         "type": "integer"
        },
        {
         "name": "Movie",
         "rawType": "float64",
         "type": "float"
        },
        {
         "name": "Title",
         "rawType": "object",
         "type": "string"
        },
        {
         "name": "Content",
         "rawType": "object",
         "type": "string"
        },
        {
         "name": "Rate",
         "rawType": "float64",
         "type": "float"
        },
        {
         "name": "Upvotes",
         "rawType": "int64",
         "type": "integer"
        },
        {
         "name": "Downvotes",
         "rawType": "int64",
         "type": "integer"
        },
        {
         "name": "Polarity",
         "rawType": "float64",
         "type": "float"
        },
        {
         "name": "Subjectivity",
         "rawType": "float64",
         "type": "float"
        }
       ],
       "conversionMethod": "pd.DataFrame",
       "ref": "a6de9e8f-0559-4e72-8c1f-8fa5a6443252",
       "rows": [
        [
         "0",
         null,
         "The Worst representation of Mexico's actual drug problems",
         "I am Mexican, and I can tell you that this movie is an awful representation of the narcotics problem in Mexico. While the story initially seemed interesting, it quickly became ridiculous. The main premise of the film is that a cruel assassin drug lord becomes a martyr after losing his penis. Additionally, Selenas acting is subpar; she cant even speak Spanish well, despite being cast as a Mexican character. None of the main actors are Mexican, and their Spanish accents come from Spain and the Caribbean, and frankly incomprehensible in Selenas case.Overall, a good idea turned into a bad movie.",
         "5.0",
         "1122",
         "116",
         "-0.0729166666666666",
         "0.3708333333333334"
        ],
        [
         "1",
         null,
         "A Tone-Deaf Musical Disaster",
         "Emilia Pérez has sparked significant controversy, and for good reason. From the outset, the lack of Mexican representation like a glaring oversight. The French directors admission that he didnt feel the need to research Mexico, paired with the casting directors claim that no talented Mexican actors could be found, only adds insult to injury. These choices reflect a tone-deaf and dismissive approach to authenticity.Whats even more baffling is how Emilia Pérez managed to garner so many Oscar nominations. While the Academy has a history of nominating films with problematic undertones , those at least offered stories that entertained broad audiences. Emilia Pérez, however, doesnt even accomplish that. The story is dull and lifeless, so much so that out of three of us who watched it, two fell asleep, and the third decided to switch to another movie.To make matters worse, Emilia Pérez is a musical - but not in a good way. The songs are forgettable at best and cringe-worthy at worst, and most of the cast can barely sing. The musical numbers, which should have been a highlight, drag the movie down even further.That said, there are a couple of redeeming elements. Zoe Saldaña and Karla Sofía Gascón deliver strong performances and truly dont deserve the backlash tied to the films broader issues. Their nominations are the only ones that feel genuinely earned. Unfortunately, the rest of the film is a mess.Overall, Emilia Pérez is an underwhelming, uninspired production that fails to justify the attention its received.",
         "4.0",
         "20",
         "2",
         "0.0413628472222222",
         "0.4618923611111111"
        ],
        [
         "2",
         null,
         "okay, so",
         "The problem with this movie is not Selenas Spanish, I dont find this movie particularly bad but some of the dialogue is really cringy and as a Mexican none of the people from here use the terms that were in the movie. The portrayal of Mexico in this film is very stereotypical and sometimes that isnt bad, but I think they should had cast real Latin writers and supervisors to make this movie more accurate and respectful to the country. The fact that the director doesnt speak Spanish or even English speaks volumes of the commitment to understanding what the movie is about and the emotions that triggers.Also the songs are horrible.The only thing salvageable is Zoe Saldañas performance.",
         "6.0",
         "383",
         "104",
         "-0.0192307692307691",
         "0.4358974358974358"
        ],
        [
         "3",
         null,
         "Not Worth Your Time",
         "I will start out by saying I am not a fan of operas. However this film was not what I had expected. The main characters were mostly unlikable. The plot was rather ridiculous. Certain actors were very miscast. Selena Gomez needed Spanish lessons. I am sure that anyone who lives in Mexico will hate this movie. The director isnt Mexican. I saw all the awards at the Golden Globes and that is the ony reason I decided to watch it. If you like any of the actors, you may want to give it a try. However I would have to say watch at your own risk. It is one of the worst films I have seen in the recent past.",
         null,
         "636",
         "69",
         "-0.0001587301587301",
         "0.5262433862433862"
        ],
        [
         "4",
         null,
         "Emilia Perez: Ambitious Themes, Incomplete Execution",
         "Emilia Perez isnt a bad movie, but it felt somewhat flat. At times, the story seemed too easy for the characters, lacking tension or conflict. Emilia, in particular, transforms into an overwhelmingly positive character, even though we know from the backstory that she wasnt always so good.The movie tackles a wide range of themes but struggles to fully explore them. Instead of diving deeply into any one idea, it spreads itself too thin, leaving several threads underdeveloped.As someone who doesnt typically enjoy musicals, this film didnt change my mind. However, I can appreciate that this was the directors vision, and I know many viewers will enjoy the musical elements. To its credit, some of the musical numbers were well done, especially those performed by Zoe Saldana. Her performance was a standout and arguably the films biggest revelation, elevating many scenes with her presence and talent.Overall, Emilia Perez is an enjoyable film. While I dont quite understand its acclaim at Cannes, it has its moments.",
         "6.0",
         "186",
         "128",
         "0.1118983957219251",
         "0.4561051693404634"
        ],
        [
         "5",
         null,
         "No way this got 13 oscar nominations.",
         "Sorry, Ive got to say it. EMILIA PEREZ IS NOT A GOOD MOVIE. Its not a Razzie film by any stretch, but its practically incoherent narrative flow, at times excruciating dialog and lack of internal logic leave it as a mediocre straight-to Netflix commoner in the movie space. Ill give you an example of its bad script, in the movie the characther says Bienvenido which means Welcome, but in the context of the conversation she means to say Your Welcome, De nada in Spanish. It seems they did the writing in French and use google for translation. Yes, it covers some important themes and issues, but that doesnt make your movie good. You still have to build a fundamentally good film around the issues or its just noise. And thats Emilia Perez... just noise.",
         "3.0",
         "721",
         "42",
         "0.0464285714285714",
         "0.6023809523809524"
        ],
        [
         "6",
         null,
         "Overhyped!",
         "Emilia Pérez is, at best, just okay. It feels incredibly overhyped, and I honestly dont understand how its winning so many awards. Zoe Saldana delivers a strong performance, but the rest of the cast is just average.The film tries to mix crime, drama, and musical elements, but the execution is uneven. Some scenes drag, making the pacing feel sluggish, and the emotional moments often seem forced rather than genuine. While the cinematography and production design are impressive, the storytelling lacks depth. Its a film that aims high but doesnt fully deliver. A 6/10 for me-decent but forgettable.",
         "6.0",
         "59",
         "38",
         "0.2819607843137255",
         "0.5084803921568628"
        ],
        [
         "7",
         null,
         "Hard to watch",
         "Emilia Pérez is a musical that has sparked debate due to its themes and execution, particularly in Mexico, where its release has been surrounded by controversy. I watched it with an open mind, aware of its narrative, focus, and genre. However, I came away with mixed feelings, which I will break down into three key points: stereotypes, performances, and the script along with the songs.1. Stereotypes: Its impossible to discuss this movie without addressing its cultural treatment. From the very beginning, it feels more like a collection of clichés about Mexico than a genuine exploration of its culture. As a Mexican, Im not offended by stereotypes per se, but here, there seems to be no interest in delving deeper. It feels like a brainstorm of references-sombreros, skulls, and tequila-without adding anything meaningful to the narrative. This lack of authenticity turns the setting into a caricature. The production could have set the story in any other country, swapped these clichés for others, and it wouldnt have made much difference to the plot.2. Performances: Its interesting that the performances have been nominated for multiple awards. However, as a Spanish speaker, the accent and diction were constant distractions. The actresses seem to be trying hard, but the result fails to convey genuine emotions or connect with the audience. A crucial part of acting is mastering dialogue delivery, intonation, and how these elements evoke empathy or rejection toward the characters. This doesnt happen here. No character made me feel their story-I didnt suffer with them or celebrate their victories.3. Script and songs: The script, unfortunately, is one of the films weakest points. The dialogues feel as though they were mechanically translated into Spanish, riddled with errors in conjugation and awkward phrases. This extends to the songs, which fail to work as either music or narrative tools. In a good musical, the songs should integrate organically and move the story forward, but here, they feel forced, as if they were shoehorned into a pre-existing structure without concern for rhythm or coherence.4. The theme: The film touches on a sensitive nerve for Mexicans. Its complicated to humanize drug cartels in a country that suffers the direct consequences of violence, disappearances, and daily fear. The idea of portraying a drug lord as someone deserving of redemption, who wishes to transition to stay true to their identity and even becomes a benefactor of social causes, can feel insulting. For a foreign audience, it might be an interesting narrative, but for those living in the reality of drug-related violence, this idealization borders on indifference toward collective suffering.In conclusion, Emilia Pérez has some interesting technical elements and isolated moments worth noting, but as a whole, its not an enjoyable film. The lack of authenticity in its cultural representation, performances that fail to connect, and a weak script weigh it down too much. That said, cinema is subjective, and if this movie finds its audience, good for it. But for me, rather than being a captivating musical, it was a frustrating experience.",
         "1.0",
         "1017",
         "65",
         "0.0203544061302682",
         "0.4241858237547892"
        ],
        [
         "8",
         null,
         "Fine, but there are two big problems with this",
         "This is an ambitious film that certainly succeeds in combining several genres. It is also a film that manages to fascinate and captivate for its whole, long running time.However, there are two major problems: First: the film is ridiculously moralistic.Second: it is absurd to believe that nobody would immediately question the identity and therefore the background of the main character. Her motivation is legit, she wants to make amends, but it is mindboggling that the filmmakers apparently thought it could go unquestioned when the protagonist, a mysterious woman in every respect, carelessly decides to enter the spotlight.",
         "6.0",
         "150",
         "120",
         "0.0354166666666666",
         "0.5119047619047619"
        ],
        [
         "9",
         null,
         "WINNING AWARDS DON'T MAKE A FILM GREAT!",
         "Stupid film with stupid sentiment. Lot of the musicals doesnt fit and make sense at all. Felt forced kinda like Joker 2. Why was Rita selected, how she managed to do so many illegal stuff like an expert just with money, nohing explained! Can a lawyer do all of these? Anyways, I couldnt find any fault jn Gustavo. He didnt even know that Emilia was Manitas before his death! And after all that Emilia did, are we supposed to feel sorry for her? She was a cartel leader, did lots of bad stuff and at the end also did bad stuff forcing his children to stay with him without explaining anything to his wife! I feel bad for the kids. Their father ruined the whole family by running after his personal gains only. He never thought of anyone else but himself.And why is Rita always with them? I mean does she have no family or close ones? Rita and Emilia did lots of illegal stuff to get rich and the film tried to justify it by sentiment and emotion. And people are praising them for the NGO whereas they themselves are twisted. The song where Rita mocks the corrupt people also doesnt make sense as she herself did illegal stuffs to get rich!Some of the visuals are good and thats why Ive rated it higher, otherwise this is garbage.",
         "2.0",
         "145",
         "5",
         "-0.2544642857142857",
         "0.6589285714285714"
        ],
        [
         "10",
         null,
         "Too many cooks in the kitchen",
         "Just finished watching Emilia Perez and it was fine I guess. There is a lot to like and dislike in this movie.Positives for Emilia Perez : The movie looks good with some great cinematography. The movie does get ambitious with the blending of genre thrown into the mix and I appreciate that. The performances from Zoe Saldana and Karla Sofia Gascon are very good. The musical numbers are fun to watch. And finally, I thought that the movie did a great job at telling its transgender story.Mixed for Emilia Perez : While the movie is certainly ambitious with its blending of genres, there are elements to this that felt out of place in this movie. The musical numbers feel like they just came out of nowhere and it felt jarring at times.Negatives for Emilia Perez : The movie is way too long and I feel that this movie couldve told its story with a shorter runtime. The movie lost my interest almost immediately and it just became background noise for me.Overall, I admired the filmmakers and actors for being ambitious with this movie, it just fully worked for me. However, I would still recommend this movie to people, if they are interested with this movie.",
         "6.0",
         "76",
         "123",
         "0.3483333333333333",
         "0.5521428571428572"
        ],
        [
         "11",
         null,
         "Is this a joke?",
         "As a Spanish native speaker i found this movie disrespectful and childish. The spanish speakers characters can barely pronounce two words, turning the whole script into an uncomfortable caricature. Although disguised as a modern production, they fall into the same errors of typecast Latinos into same old stereotypes. The only valuable thing is the attempt to offer something different by mixing a Spanish language film with a musical, however its execution becomes irritating to watch. Im sure any positive reviews must come from someone totally unfamiliar with the Spanish language, as this is a determining factor in making this film totally inedible and a endless meme material.",
         "1.0",
         "851",
         "59",
         "0.0024891774891774",
         "0.4349687349687349"
        ],
        [
         "12",
         null,
         "Save your time and money.",
         "The hard truth about this movie is that people who have visited Mexico keep coming only to Cabo and Cancun where drugs, alcohol and sex are still a thing; instead of educating themselves and visiting Mexico City, Guadalajara, Monterrey, or Puebla. The United States of America citizens are the main consumers of narcotics in the world. Natural born consumers of anything they see such the latest IPhone. As long as these ignorant people exist, Mexico will be unsafe for us the citizens.And yet somebody thought it was a good idea to make a movie about this. And to make things worse, filled with stereotypes.There is no place for this kind of content.",
         null,
         "93",
         "15",
         "0.1568181818181818",
         "0.6431818181818183"
        ],
        [
         "13",
         null,
         "The movie has a lack of focus",
         "I think the film juggles too many themes, and none of them are fully explored, leaving the narrative feeling rushed and incomplete. And as a result, it feels like a collection of ideas rather than a cohesive story.I also didnt quite understand why it was framed as a musical-this choice felt disconnected from the rest of the story.The performances are solid, but the characters arent developed enough to create a lasting emotional connection.However, I really liked the cinematography, beautifully shot and visually captivating.To sum up, the movie leaves you wanting more depth and clarity.",
         "6.0",
         "39",
         "74",
         "0.255",
         "0.4349999999999999"
        ],
        [
         "14",
         null,
         "I can't believe this has 13 Oscar nominees",
         "This movie is considered one of the best motion pictures of the past year? How? What a miserable experience. Why is this movie a musical? WHY? None of the songs do anything to advance the plot or tell us more about the characters, in fact the awful songwriting makes every scene with a song feel like instead of getting a deeper understanding of anything through song, the song is being used to tell us things that we can already see on screen and would be way more effectively communicated through better visual storytelling. The songs also dont really have any structure to them, they dont go anywhere. It genuinely feels like it was translated by Duolingo and the awful delivery of the lines doesnt help matters at all. Karla Gascón is fine...but not that fine to be nominated for an Oscar.",
         "1.0",
         "600",
         "45",
         "0.0619047619047619",
         "0.5035714285714286"
        ],
        [
         "15",
         null,
         "Strangely bleak",
         "Enjoyable enough movie with two demanding leading roles and two supporting roles requiring excellent performers. The first two are played by Zoe Saldaña and Karla Sofia Gascón, the second two by Selena Gomez and Adriana Paz. This quartet shared the Best Actress award at Cannes 2024. They deserved it. Saldaña in particular is a revelation.Of writer-director Jacques Audiards previous films, Ive seen four , each memorable in their different ways. None of them prepared me for this one, so hats of to him for not getting stuck in a genre rut.Theres a lot of story and a lot of singing in Emilia Pérez. When the singing is paired with Damien Jalets incisive choreography, the effect is thrilling. Otherwise, the songs drag the movie down. They are musical-theatre lite, dont dig deep, so are not up to the dramatic demands put upon them. Theyre at their best in the rap-inclined numbers, where rhythm is the most important element.The moral of Emilia Pérez seems to be that we can never slough off the past, change who we are or what we want. Its a strangely bleak vision to present in a musical.",
         "6.0",
         "66",
         "141",
         "0.1546296296296296",
         "0.4476273148148148"
        ],
        [
         "16",
         null,
         "It's a caricature",
         "I am speechless... Im guessing all the positive reviews are from people who a) dont speak Spanish and b) wanted their caricatures of Mexicans and trans people confirmed.The dialogues are insufferable, no one speaks like that, the music is jarring, the accents are not good.The bad words sprinkled thought the movie feel so unnatural, not only because of the delivery, but how they are used. This was clearly written by somebody with some vague knowledge of Mexican culture, but definitely not enough to make something good.The only redeeming quality this movie has is that its undoubtedly pretty. Thats it.Mexican people should avoid it at all costs.",
         "2.0",
         "1093",
         "98",
         "-0.0111570247933884",
         "0.5541322314049587"
        ],
        [
         "17",
         null,
         "Felt like a fever dream",
         "A musical about a cartel leader undergoing a transition into a female social activist was not on my Oscars bingo card. I am a bit confused on how it snagged a leading 13 Oscar nominations. I really wanted to like it but it felt all over the place, the story felt off somehow... not satisfying i suppose. The movie being a musical seemed really random and the songs were not that great. I dont want to be super negative because it did have some good moments with the acting, costumes/makeup, and some of the choreography. Zoe Saldana and Karla Sofia Gascón put on a great performance and I think that they are deserving of some recognition but I still cant get over the 13 nominations.",
         "6.0",
         "16",
         "37",
         "0.1344444444444444",
         "0.44"
        ],
        [
         "18",
         null,
         "Everything but mexican",
         "Only money is capable of making someone consider this film a good representation of history, culture or anything, on its own or considering the Mexican context. The number of nominations and awards only demonstrates this, that the outpouring of money moves the vote. The Mexican majority itself finds the film disrespectful. A French director who thinks he knows enough about Mexican culture, an international cast with a Mexican actress who isnt even being considered in the awards campaign. Its simply bizarre and frightening that the film industry and academia genuinely consider this work.",
         "1.0",
         "552",
         "49",
         "0.1199999999999999",
         "0.44"
        ],
        [
         "19",
         null,
         "one word : flabbergasted",
         "Came to write this after seeing its gala screening at the London film festival.A wild, insane roller coaster of a film that mixes crime, comedy, musical and thriller all into one and succeeds with flying colours!The four actresses at the core are the strength and they were directed to perfection by Audiard.Karla plays her character pre transition and post as it comes to her naturally, having underdone it publicly as an actor. Its a powerhouse performance that is so of our time. Im proud to be alive in a time when a trans actress plays a trans role. And not only that, she nails it. The tragedy of leaving a life but the promise of the one shes always needed.Zoe gets to sing, dance, cry and laugh and everything which I think an actor dreams of doing, let alone in one film. I had never seen a film of hers before and I am so happy this was my first because she shines! Theres a scene of her in a car, where realising what has just transpired, she breaks down in hysteria. Think Margo in I, Tonya or Glenn in Dangerous Liasons. That scene alone should win her an Academy award. And she has a beautiful voice!Selena, for whom I was most excited to see this film, kicks it out of the ballpark. Playing a mob wife, that icy, storm-simmering-below-the-surface kind of woman which she needs to revisit IMO because as a young girl who endured intense scrutiny and then went through a psychosis, she knows it too well whats it like to keep a lid on too long. The one time during the screening where I felt I was having an out of body experience is where her character Jessi finally unleashes her emotions onto us the audience after years of being oppressed. The agony and anger is heard in her voice. Its evidence of why she has said acting is her true calling and how passionate she is about it. It would be stupid to still think shes a disney kid and still has something to prove. Her acting journey is truly so exciting as a fan of almost 2 decades.Lastly, Adrianas character is like the sunshine in the otherwise dark and twisted world the film lives in. She is poignant! And it perfectly complements the other 3 actresses work. She brings love and softness to the story through her work.One major thing to note is that this film is like an opera. It reminds one of the Umbrellas of Cherbourg, which was also almost entirely sung. Emotionally its definitely intense like one, with small moments of calm when you realise youre watching a film.The cinematography was brilliant. At the end of the film, selenas character lays almost unconscious on the passenger seat as her lover drives in rage. The way the camera pans across the car to her face... it felt like a painting, very poetic but tragic.So glad to have watched it before its netflix release. Its amazing when a film can make you feel like this. To take you out of your normal and drive you a bit crazy.",
         "9.0",
         "153",
         "840",
         "0.1409580498866213",
         "0.6155895691609976"
        ],
        [
         "20",
         null,
         "Jacques Audiard tried to do too much",
         "Its a musical trans crime drama set in modern times in Mexico, Bangkok, Tel Aviv, Switzerland, and London, England. The two main characters are a Mexican lawyer, Rita Mora Castro , and a vicious cartel drug lord, Juan Manitas . Manitas has a wife, Jessi , and two children. After the film demonstrates Ritas legal capabilities, Manitas hires her to perform a service--find a surgeon willing to perform gender-affirming surgery secretly. Rita is also to resettle his family in Switzerland while Manitas fakes his death and becomes Emelia Pérez.Four years later, Emelia wants her children to live with her as their aunt in Mexico. Rita is again enlisted to assist with things. The film follows this initially successful transition that begins to sour as Jessi pursues a relationship with Gustavo and Emelia explores a relationship with Epifanía . It ends badly.With that plot, its hard to see musical numbers sustaining it. They mostly dont, except for one riveting dance number at a fundraising dinner by Zoe Saldana. The cinematography is occasionally stunning, but the plot jumps from scene to scene with many unresolved issues, e.g., why did the shootout end, and how did Emelia continue to function safely with drug lords after her transition? Jacques Audiard tried to do too much, and it didnt succeed.Zoe Saldana and Karla Sofia Gascón do very well; the direction is the issue.",
         "6.0",
         "26",
         "83",
         "0.1346074380165289",
         "0.4306818181818181"
        ],
        [
         "21",
         null,
         "UNWATCHABLE",
         "As a Mexican and a musician, Emilia Perez was an absolute assault on my ears. The songs were atrociously written and horribly performed-an unbearable disaster from start to finish. The Spanish dialogue? Completely unintelligible, thanks to ridiculous accents and what seemed like Google Translate-level writing. Seriously, who thought this was acceptable?The story might have had some potential, but even that was destroyed by how horribly written it was. Any shred of creativity was drowned in a sea of incompetence. This isnt just a bad movie; its an insult to anyone who appreciates decent filmmaking. A complete and utter failure.",
         "1.0",
         "231",
         "20",
         "-0.2186274509803921",
         "0.6058823529411765"
        ],
        [
         "22",
         null,
         "Hollywood trolls audiences once again...",
         "In what universe is this movie up for 13 Oscar nominations? No, no, Hollywood is trolling us right? Im not even going to waste time outlining the complete lack of talent required to produce this film, and the complete lack of integrity of all the reviewers who are lauding this film for one reason only...THE MESSAGE must go out to the ignorant people. They must take their medicine, no matter how disgusting it tastes...Well Im not going to take it anymore. Im done with the Oscars. Im done with Hollywood. Im done. In what universe is this movie up for 13 Oscar nominations? No, no, Hollywood is trolling us right? Im not even going to waste time outlining the complete lack of talent required to produce this film, and the complete lack of integrity of all the reviewers who are lauding this film for one reason only...THE MESSAGE must go out to the ignorant people. They must take their medicine, no matter how disgusting it tastes...Well Im not going to take it anymore. Im done with the Oscars. Im done with Hollywood. Im done. In what universe is this movie up for 13 Oscar nominations? No, no, Hollywood is trolling us right? Im not even going to waste time outlining the complete lack of talent required to produce this film, and the complete lack of integrity of all the reviewers who are lauding this film for one reason only...THE MESSAGE must go out to the ignorant people. They must take their medicine, no matter how disgusting it tastes...Well Im not going to take it anymore. Im done with the Oscars. Im done with Hollywood. Im done.",
         null,
         "260",
         "54",
         "-0.1428571428571428",
         "0.4671428571428571"
        ],
        [
         "23",
         null,
         "Doesn't live up to its first act",
         "I really enjoy how director Jacques Audiard can embrace genre films, something that stands out in French filmmaking. You never know what to expect next with him, and certainly not a Spanish-language musical set in Mexico and featuring a trans mob boss.Its also interesting to see how the movie does not so much deal with transsexuality or identity but rather use that story as a starting point to ask whether people can change. Whether a criminal rotten to his/her core can become another person, and whether they can truly ever atone for their crimes. Beyond sex and gender, can you change your soul?That being said, the movie ultimately disappoints by leaving that theme aside in its last act, for the benefit of a rather bland kidnapping storyline. You feel like that our master criminal is sliding back toward their old violent habits... until the story drops the ball and goes in a disappointing direction. I was really looking forward to the resolution, a sign that the film was working for me, until I realized there was nothing more to expect from this movie. What a waste.The plot also sacrifices the Zoe Saldana character, who at first appears to be the protagonist, until she fades aways in the background. This points again at a screenplay that is good on buildup but weak on payoff.",
         "6.0",
         "18",
         "67",
         "5.411255411255392e-05",
         "0.4104437229437229"
        ],
        [
         "24",
         null,
         "Overhyped a cringey mess",
         "The portrayal of Mexico is a caricature, riddled with lazy stereotypes - other than the mum saying her son teacher was missing - so it covers a couple of violent headline news, but far from a full critic of why it happens. The fact that not a single Mexican actor graces the screen, a slap in the face to a rich culture and talented performers dealing with difficult themes.The music? An offensive assault on the ears. Its as if the composers Googled Mexican music and slapped together the first five results. No soul, no nuance, just a jarring cacophony. Sorry but hasta mi pinche vulva te extraña is so cringey in spanish!And the trans representation? The film reduces a complex and nuanced identity to a cheap plot device, lacking any genuine depth or respect into a couple of poorly written songs about de pene a vagina.Emilia Pérez is not just a bad movie, its an insult.",
         "1.0",
         "384",
         "38",
         "-0.0612781954887218",
         "0.5810150375939849"
        ],
        [
         "25",
         null,
         "Relentless, thrilling ride that gets rickety, but never derails",
         "Emilia Pérez is a 2024 musical drama starring Zoe Saldana as Rita, a lawyer that is doing her job until a drug lord kidnaps her and requests for a sex change. Along the way we have Selena Gomez play Jessi, the wife of the drug lord that adjusts to new life with the kids she raised with him after the sex change she doesnt know about. Then of course we have Karla Sofía Gascón play Emilia Pérez, the drug lord that changed gender and continues building her empire.Most of the story is delivered with musical numbers so if you dont like that type of genre, stay away from it. This film in particular had a very strange effect on me after it finished as I kind of went into it blind and to be honest, thats what you should do because the film in general is very unexpected in some places and quite comedic as well. After the director and cast of the film presented it to us, then the film started and the audience spread laughs and joy to some of the aspects of the film and I appreciate that. The film shines best with its amazing cinematography , powerhouse acting from all involved and some of the musical numbers.Now, why I say some of the musical numbers, is because most of them are pretty great and impactful to the story but as the film progressed the musical numbers became a lot less eye popping then before and became cliché because of this. The musical performance at the end was dull in my opinion but I think it sumed up some of the story a little bit. But dont listen to me though, as theres a film for everybody and I genuinely liked some of the elements of this film and I think most of you will too when it comes out soon enough.Overall, while not as greatly delivered as I hoped, Emilia Pérez is still a cinematic achievement in musical numbers and great acting that really makes the film all the more engaging and fun. If you like musicals, give Emilia Pérez a try, I think it does successfully deliver of what audiences can expect out of it.Grade: ALondon Film Festival opening gala.",
         "7.0",
         "44",
         "307",
         "0.2575610269360269",
         "0.4226725589225588"
        ],
        [
         "26",
         null,
         "Ignorance is bliss... But it's still ignorance.",
         "The music is awful The characters are awful Representation is awful Privileged people thinking how exotic is to live in a country full of violence as if it was the wild west.Devoid of the logical rationality behind human rights.Finally, making the literal comparison of a cartel leader becoming a SAINT.They absolutely have no idea of the real world.Even from the title they thought of the most common stereotypical name...Also its really ironic how they used Google translate but couldnt use google search. Im not even asking for realism, just for them to show they didnt do less than minimum effort.",
         "1.0",
         "263",
         "24",
         "-0.0822390572390572",
         "0.6398148148148148"
        ],
        [
         "27",
         null,
         "Outstanding",
         "This film is unique in every way possible. To take such a story as this and add music seemed so bizarre and should not work. However the incredible performances of both Saldana and Gascon drew me in. I cant believe how I fell in love with Amelia Perez because one shouldnt but I did.The music too was emotive especially Papa sung by Amelias son.I dont understand the negative reviews but I do understand why it has been nominated for so many Academy Awards.Only in very well thought out films can one be sucked into caring for a character which in life one really should not.This film is about truth and redemption as much as it is about understanding our own identities.",
         "10.0",
         "7",
         "18",
         "0.275",
         "0.6307692307692307"
        ],
        [
         "28",
         null,
         "a very mixed bag",
         "The critiques of this movie as inauthentic and cringy are not wrong. In particular the music was really bad, the songs are barely songs, theyre more like chants. On the other hand this movie tells a unique story and has great preformances by Zoe Saldana and Karla Gascon. Zaldana in particular is the only one who is entertaining in her musical numbers becuase she is actually a good dancer and a comelling preformer. I almost felt sorry for Selena Gomez how could she look good when her songs and dialouge were so bad? But Saldana and Gascon kept me watching until the end. I think this would have been much better as a drama and not a musical. And as for people who will say that this is not Mexican, well they are right about that.",
         "6.0",
         "8",
         "31",
         "0.1484523809523809",
         "0.5280357142857143"
        ],
        [
         "29",
         null,
         "Honestly one of worst films ever made",
         "As a Mexican this is painful tu watch, as a film lover this es dreadful, if you are going to make a movie about Mexico, HIRE MEXICAN ACTORS! The slang is terrible, not even accurate, is like listening to children cursing !If you dont speak Spanish, if you have a terrible image of Mexico and if youve never travel here because you are afraid youll get killed, this is a movie for you!If you been to this beautiful country and if you understand our language you would agree with me : Esta película no representa a México, ni a su gente, ni a su situación y mucho menos a nuestro idioma.With that being said, the movie just doesnt work, there is no chemistry between the characters , the story goes nowhere , it is one of the worst movies out there , I swear this is not hate, its Just Terrible.",
         "1.0",
         "327",
         "32",
         "-0.3392857142857143",
         "0.6666666666666667"
        ],
        [
         "30",
         null,
         "Better than Joker 2, at least.",
         "Its interesting coming to Emilia Perez late, after its caused the stir it has. Watching the film, I was often thinking about whats rubbed people the wrong way, and different things that rubbed different people the wrong way. Lots of it can be interpreted charitably or cynically. Even then, how much of it is really supposed to be cynical is up to interpretation.But its already an overwhelming movie to think about, so I want to focus on what I personally liked and disliked. Im not going to passionately defend the film, but Im also not going to tear it to pieces.I thought it was an interesting film, I appreciated its boldness, I thought some of the acting was good , and some of its thrilling to watch. Its a movie that only sometimes comes alive, but I liked the energy in those scenes that did work. Its a movie that does a lot and asks questions in a way that obviously some people will respond well to and some people will lash out against. I think the film wants to be challenging.Still, even with that intent, Emilia Perez does sometimes feel confused in ways that might not be intentional. Some songs are clunky and repetitive, the editing is bad at times, and the narrative doesnt flow well. All three characters often feel like theyre off doing their own thing in their own movies, and jumping between each one sometimes felt head-scratching.It feels like a film where the people behind it wanted to do a lot, but mightve been overconfident, or more lost than they realised/wanted to admit. Its an imperfect shock not to the system, but to so many systems, and I dont know how many systems/things it was targeting necessarily.Thinking about this film wears me out , but I think for better or worse, itll kind of stick with me. I dont know if I want it to for too long. But I can say this: I dont think I regret watching it.",
         "6.0",
         "8",
         "31",
         "0.0888888888888888",
         "0.6324074074074074"
        ],
        [
         "31",
         null,
         "Terrible & Tedious In Equal Measure",
         "Emelia PerezQuite frankly it was a terrible movie from start to finish with little redeeming features, what a waste of 2 hrs and 14 minutes of anyones life!The story can be summed up in very few words, a murderous Mexican Kingpin Druglord wants to escape and establish a new identity, this coincides with his desire to become a woman, and has been taking hormones for 2 years in advance in preparation for this moment, he flashes his breasts at Rita, the Lawyer to persuade her of his conviction to transition. Surprisingly a concurrent scene shows him with his wife and two children and she seems not to have noticed this additional cleavage lol!Oh well moving on, we then have a surgical interlude, 5 years pass and his widow and 2 children are relocated to Switzerland.The second half of the movie now begins with the Druglord reappearing as Emilia Perez, her new female identity, and reconnected with Rita, seemingly after 5 years he missed his children. Unbelievable!Suddenly Emilia was the Aunt, his widow and children were living with him and we had some presentation of happy families lol. Quite ridiculous!Emilia then embarked with Rita on reuniting the bodies of disappeared victims with their families, possibly victims of her past life. After various twists and turns Emilia gets killed in a botched kidnap attempt and she is elevated to that of a modern saint in the closing sequences.As you can see it was a bizarre and unbelievable tissue thin story, with numerous plot holes, populated by nasty stereotypes in the format of a Latino novella. The strange music grated, the stylised dancing was simplistic and derivative. It all moved at a glacial pace and was as dull as ditchwater and we just couldnt like or identify with any of the extreme characters. It was just a car crashing offending everyone!I am totally at a loss to understand the reviews and the ratings on here, I just wanted it to end. To give a high mark because there is a gender transition element, which, by the way is incidental to the story, because its trendy, is shocking and shallow, and equally wrong to elevate a movie because the movie is set in Mexico, a supposed unrepresented cinematic country.Any potential rating must be based upon the art product before us and this was beyond bad, Im going to give this a 3 out of 10 and that is a fair score for this tripe!",
         "3.0",
         "42",
         "2",
         "-0.0488830613830613",
         "0.543053613053613"
        ],
        [
         "32",
         null,
         "It is stunning, it is brave, it is...Utter nonsense.",
         "This motion picture is one of the most celebrated and talked about films of the year 2024? And deserving of nominations and wins at some of the most prestigious events honoring excellence in the craft of filmmaking? I dont want to come across as some kind of conspiracy theorist but are the producers trying to perform every trick out of the hat to convince members of the Academy to select it for most noteworthy of award categories? Because when I think of the best of 2024, this does not even make it in the top five, let alone top 10 . I wouldnt even go far as to say it is among the worst of 2024, either, but really there isnt much going for it to give a recommendation.The film does not commit to a tone. One minute it wants to be a dark comedy, and then the next a very serious crime drama that provokes a bit of thought. The two could be balanced better if the script were given another pass, but as it is the clash creates a night and day difference and rather than come across as unique it feels like incompetence on the filmmakers part. The premise honestly could work as a comedy, and a thriller, but the lack of commitment creates a very strange experience that makes the whole thing seem so silly.The musical numbers do not add really anything to the film, are not catchy or memorable and feel very out of place when they arrive. Zoe Saldana is a good singer, but struggles to make these lyrics sound golden, Selena Gomez sings pretty good but the context to where the music comes into the picture feels forced in.Zoe Saldanas performance is good, but I dont think it is her best in her career as some outlets suggest. Selena Gomez is completely miscast. Karla Sofía Gascón and Adriana Paz are both quite good, but the script isnt up to level in quality. Edgar Ramirezs role could have easily been portrayed by anyone else, really. This isnt to say Ramirez is bad in the production, but his function seems to just be a recognizable face - far and away the best presentation of his acting talent.The representation of the drug problems in Mexico are terribly researched and portrayed wrong by the filmmakers. Was it hard to have done at least an hour of research into the topic? The presentation of transgenderism is also problematic, so changing your biological self means you are free of your past sins, really? Its saying something when organizations like GLAAD have not been very kind towards this picture.I personally do not think time will be very kind towards this movie, even if it wins all the awards at the 2025 Academy Awards.",
         null,
         "21",
         "10",
         "0.235060606060606",
         "0.5227878787878788"
        ],
        [
         "33",
         null,
         "Very different and most entertaining musical I've seen in a while.",
         "Emilia Perez really caused a stir. Theres so much controversy around this film, and so many who absolutely love it while so many detest it. Most of the criticism seem to come from Spanish speaking people. Since I dont speak Spanish and dont know anything about Mexican culture, I obviously cant comment on that aspect of the film. Therefore I will review it on its entertainment value .Shortly after winning a murder case, attorney Rita is contacted by crime boss Manitas. Tired of a life of violence, he wants to start a new life...as a woman. He requests Rita to do research on gender-affirming surgery, and promises to reward her richly. However, Manitas is married and he has children. In order from him to become the woman he always wanted to be, his family is to be told he was killed by his enemies.Four years after his surgery, Manitas is known as Emilia Perez. Longing for his family, he once again contacts Rita to ensure their reunion, with Emilia supposedly being their Aunt. Regretting his past, Emilia is now doing good in his new life, but - when things start going wrong - old habits seem to die hard...I absolutely love this movie! I love the music, the musical segments, and the performances by Zoe Saldana as Rita and Karla Sofía Gascón as Emilia Perez. Emilia Perez is a very different kind of musical, and I thought it was fresh and original. The film captured my attention from beginning to end.",
         "7.0",
         "9",
         "38",
         "0.1949242424242424",
         "0.4179696969696968"
        ],
        [
         "34",
         null,
         "This was soooo bad!!",
         "As a Spanish native speaker, this was very hard to watch!! The songs are boring and lack good lyrics, it just repeats the same phrase over and over... its a poorly representation of Mexican culture, almost like a joke. The concept was actually decent but honestly I dont know what happened in the execution and script.I fight myself to dont fall sleep because I honestly thought that itll get better in some point hahaa but I was wrong!A total waste of time, dont bother watching this.",
         "1.0",
         "156",
         "12",
         "0.0287860576923076",
         "0.5189102564102565"
        ],
        [
         "35",
         null,
         "Definitely Keeps You Hooked (Not your average musical)",
         "Interesting concept which the writers used cleverly. Its a musical so be prepared to see some songs here and there during dialogue. Its a unique story which keeps you guessing and you cant help but think whats next. Acting and casting are on point. Flow of the film in the beginning is delicately managed but later acquires a slower pace which I believe is there to engrain character development and invoke emotional appeal. I wont comment on the ending as it would give it away and kill the anticipation that was so carefully built.Its definitely not a conventional film. I would say you would be shocked from time to time but at one point you will just become immune to it especially to the eccentric characters and bold storyline. Cinematography and direction are commendable as well.",
         "7.0",
         "33",
         "232",
         "0.023095238095238",
         "0.547142857142857"
        ],
        [
         "36",
         null,
         "Truly abysmal",
         "I want to be clear. I agree this movie is denigrating to the Mexican community and the trans community which by itself makes it an absolute disgrace. As a movie by itself it is truly one of the biggest pieces of garbage I have ever seen. Zoe Saldana is fine, but the acting from every other person is quite frankly abhorrent. Selena Gomez is truly shocking in both her grasp of Spanish and her singing. How this movie has garnered so much critical praise is beyond me. I feel it serves as a huge reminder with how deluded Hollywood is. Do not waste your time with this. You will wish you could have the time back.",
         "1.0",
         "332",
         "33",
         "-0.0467948717948717",
         "0.4352564102564102"
        ],
        [
         "37",
         null,
         "Thriller, Crime, Drama, Romance, AND MUSICAL.",
         "Watched at the Toronto International Film Festival on Sep. 14th, 2024 Format: Regular theatreRating: 8/10Im surprised how this film is able to be so many things at the same time. Comedy, drama, action, thriller, self-exploration, AND MUSICAL. It balances each genre and gives it enough time in a way that wont make it seem too much.Each acting performance in this film is outstanding specifically Zoe Saldana in the first half of the film and Karla Sofía Gascón in the second half of the film who played two roles in this film perfectly. Unfortunately, everything related to Selena Gomez in terms of her acting performance and character needed more effort to be put in. Very weak character that was just there as a filler to make things more complicated for the main protagonist and the events of the story.Though musicals arent my thing, this film dealt with that part in such a unique way that made each song performance creative in terms of the directing and lyrics. Two songs that really grabbed my attention is one that touched on a political aspect in Mexico that had such a creative and unique direction to it. The other one really proved Zoe Saldanas performance as it was great with all of the dark and minimum lighting that it had.",
         "8.0",
         "121",
         "692",
         "0.1134523809523809",
         "0.4554120879120879"
        ],
        [
         "38",
         null,
         "Original but not without flaws",
         "Original movie with a lot of creativity.The good: you get some insight of transgenders, spanish musical singing , actrice zoe and karla, the setting and the way you can feel the mexico vibe, some parts of the story where you can clearly feel the quality of the director, the movie is very orginial.The bad: the biggest problem is that they portray a drugs maffia lord, responsible for 10000 deaths or missing, later on as a good house wife with a good moral sense. That is just a big clap in the face of all people who lost someone because of the drugs wars in reality. The whole basis of this movie just feels wrong and without respect to those people.What is more bad? It is too long, selena gomez , all main actrices are woman , script, story line and a clear goal or motive is missing. What is the point or goal off any of the 3 main actrices of this movie? There is none.Just a 6 out of 10.",
         "6.0",
         "17",
         "116",
         "0.0764492753623188",
         "0.3833333333333334"
        ],
        [
         "39",
         null,
         "Worst Movie ever watched & Wasted of time",
         "Seriously??? This movie is such a joke! It literally lacks authentic representation of mexico?? As a mexican, i am deeply offended this movie is poorly directed and written. I was originallly very passionate and excited for this movie, but after watching this, it just upsets and offend me... On top of that, how did this film get nominated for oscar?? Anyone with a good pair of eyes could see this film has nothing good at all, especially the plot, what in the world is it?? It is ridicoulous, does not make any sense and again RIDICULOUS. Please do not spend time watching this movie, it is a complete waste of time.",
         "2.0",
         "180",
         "15",
         "0.1028888888888888",
         "0.5844444444444444"
        ],
        [
         "40",
         null,
         "One of the most original films of 2024",
         "Greetings from Lithuania.Emilia Pérez is a very good movie, a unique one and with a multilayered story. This is not a typic musical, and i can safely say that even if you do not like musicals do your self a favor and watch this film because its not really even a musical in any conventional way. Performances were excellent by all 3 leads, but its the directing of this movie was the most strongest aspect. I did enjoyed Rust and Bone some years ago even more then Emilia Pérez, but they both have similar tones and vibes. This movie has a wild story and i really enjoyed it.Overall, at running time 2 hours this movie barely drags and its one of the most original films of 2024 that i urge you to see. This one you wont forget soon.",
         "8.0",
         "48",
         "250",
         "0.3274789915966386",
         "0.4933613445378152"
        ],
        [
         "41",
         null,
         "Great > Good > OK > Good",
         "So theres a lot of fuss around this movie for many reasons and some of which are valid but definitely not the transphobia.Performance wise there are some stunning ones; Zoe and Karla in particular. The music isnt terrible, in fact some of the performances are great and very well choreographed and put together, others not so much, especially that viral one!The movie has pacing issues. Its a good start but a somewhere in the middle it gets lost before the end where it finds itself again. That was a shame to me. It was probably 20-30 minutes too long.Overall its a different movie with interesting themes and some superb performances.",
         "7.0",
         "4",
         "17",
         "0.2904761904761904",
         "0.6416666666666666"
        ],
        [
         "42",
         null,
         "WORST MOVIE OF THE WHOLE DECADE OR MAYBE LIFE!",
         "This movie is a complete disaster. The music is terrible, the singing is unbearable, the storyline is shallow and nonsensical, and the acting is completely flat. Its filled with bad references and cringeworthy moments that make it feel like a parody of itself. A true humiliation for Mexican cinema and culture. The fact that it received nominations and awards only proves how biased and sold-out these institutions are. Dont waste your time on this movie. There are plenty of better films out there. Avoid it at all costs. Watch anything else instead; even the worst low-budget movies have more heart and effort than this mess.",
         "1.0",
         "213",
         "19",
         "-0.0802083333333333",
         "0.4635416666666666"
        ],
        [
         "43",
         null,
         "Emilia Perez",
         "Rita , a hard working but under appreciated lawyer is secretly approached by notorious gangster Manitas who will make her rich if she will discretely arrange for him to disappear, leaving behind his beloved wife Jessi and their children, believing him to be dead and make arrangements for him to fulfill his lifelong wish to become a women. Rita agrees and Emilia Pérez is created. 4 years later Rita and Emilia meet up, with Emilia seeking help once more that will change both their lives forever.An exceptionally imaginative and brave production that so very easily could have gone badly wrong. You have a sex change intimidation by a vicious gangster, a painful love story that cannot possibly work out, action and violence and to top it off the film is a musical. This is therefore a unique achievement combining so many things that shouldnt gel together but somehow do and it ultimately deserves all the credit its director Jacques Audiard and the 3 female leads will hopefully receive.",
         "7.0",
         "25",
         "208",
         "0.0848666666666666",
         "0.6263333333333333"
        ],
        [
         "44",
         null,
         "What's wrong with the cinema industry? 13 Oscars nominations?",
         "I once heard that one of the great elements that should not be missing in a good script is emotionality, the construction of emotions and a good dose of sentimentality, so that the audience is hooked either to the characters, to the situations or to both. Of course, its an element that must be combined with several others and mixed in the right and necessary quantities so that we can have a good story to see and tell. Well, Emilia Pérez has none of that. Zero. Nothing. There is no emotional construction of any character. The audience is bombarded with very direct situations that seem to be simulating a reality that seems, from its foundation, implausible. All this is done in a serious and apparently respectful manner, but its like paying tribute to something abstract and indefinite.The performances dont help. This is the worst Selena Gomez I have ever seen. Full of melodramatic exaggerations in a niche she doesnt belong in, and making it seem like she was acting reluctantly and forcefully. Even their songs in the movie are horribly performed. None of the songs are good, in any case. The rest of the cast has very discreet performances with the exception of Zoe Saldaña, who is the best in the film, however, I dont think its enough for her to star in the awards season.I empathize with the Mexican audience who has complained about all the cultural inaccuracies. I agree with everything that has already been mentioned before. This is a story about Mexico, made by people who are not Mexican and who didnt even care to look Mexican.Regarding the gender identity part of the story, I think its a mockery. Its an extreme situation that is very difficult to believe. An attempt is made to be inclusive with a delicate topic to end up being disastrously offensive with another ultra-sensitive topic such as the victims of extreme violence due to drug trafficking and gangs. Its thus a story without a head or tail, which was attempted to be put together to purposely polemicize and nothing else. Its really a shame that such poorly planned projects are given space, perhaps leaving out much better ones.I dont want to close this review without first saying that the global film industry is very wrong if they believe that this is being inclusive, because this is a joke in very bad taste. Its a scandal that a film like this is celebrated with so many nominations and awards. Absolutely an aberration.",
         "3.0",
         "155",
         "13",
         "0.0313344407530454",
         "0.5394739756367664"
        ],
        [
         "45",
         null,
         "Failed to commit to any of its premises",
         "Emilia Perez Is a drama thriller musical centred around a cartel boss and their lawyer. Whist I was somewhat invested throughout the film, my main issue is that it did not commit to any of its premises which left the experience feeling very surface level with the most memorable part being that it tried to combine several genres together.It didnt commit to being a thriller which meant there was nothing fresh regarding these elements. The plot allowed allowing anything that might have been intriguing to simply happen by chance which removed the tension from these scenes. The musical numbers werent particularly entertaining and the drama concerning the protagonist wasnt explored in a way that gave me meaningful insight into the character and their emotions. So whilst the mishmash of genres was intriguing, little else was memorable with the exception of Zoe Saldanas performance.",
         "6.0",
         "2",
         "6",
         "0.2236979166666666",
         "0.4056547619047619"
        ],
        [
         "46",
         null,
         "Ridiculous, offensive, pretentious garbage",
         "Is this the plot of an episode of South Park?No! Its your new pretentious french Director mix of unique not talked about enough before themes into one piece of offensive exploiting of controversial made for bold american critics who want to see something different than their regular blockbuster jokes on them, the end with the car crash was so hollywood, but instead of doing a critic on how ridiculous cinema is when treating these themes with comedy, its such a poor intent, that it gets offensive...Lets put a transexual narco who wants to reedem itself by trying to help the poor mexicans who lost their relatives then they belive she is a goddess herself? In what world this is a good idea? This is offensive, the stereotypes are too high, why lucrate with a theme so delicate as the people who is lost bc narcotrafic? This is a sensitive theme in Mexico, you put this into a comedy?Lets laugh about a tragedy in the US in a comedy with french actors then? Would the academy like that?Zoe Saldaña is an incredible Actor who shouldnt have been involved in this mess. Withouth her, this movie would be in the garbage where it belongs. Of course they needed Selena for audiences too.If they didnt had them, or similar actresses hot on Hollywood, this mediocre film wouldnt be as famous as it is.In the end scene, this movie puts a red ribbon into the hate for Mexicans, making the bad stereotypes as strong as in a Trump speech, Dumb Mexicans would idolize a Martir even if she was a Narco seriously? Did the director saw a December 9 video of La basilica de Guadalupe and tought Mexicans love to pray to a plastic figure?Offensive piece of crap with ridiculous attempt of Mexican representation, so cringy to watch, so ridiculous that is praised for first world critics who dont have a slightly idea of what Mexico is.",
         "1.0",
         "311",
         "32",
         "-0.0140492424242424",
         "0.5619950466200467"
        ],
        [
         "47",
         null,
         "One of the best movies from Cannes",
         "My second favorite movie from Cannes after The Substance . Its pure insanity. Musical about drug dealers and corruption in Mexico??? WTF???Emilia Perez is really inventive. It blends a lot of different genres: drama, comedy, musical, thriller, but does it in a very good and entertaining way. Its also extremely original and also suprisingly emotional. There is a character in here that has a moving and heartbreaking journey throughout the movie. Im not gonna go into details. Its not really a spoiler cause its revealed in first 15-20 minutes into the movie but I didnt knew about it and I was shocked that this movie went into that direction. Thats why advise you not to read description and to go see it fully blind if u want to have the best possible experience.The best thing about this Emilia Perez are definitely perfomances. It won Best Actress Award at Cannes for as many as 4 perfomances . Saldana plays the main character and has a lot of intense and showy scenes . Im happy that after all these blockbusters she finally got the role where she could show her acting chops. Gascon plays titular character. Its kinda supporting role but tbh shes the heart of the movie and the whole plot takes place around her. Gomez and Paz were good but Im suprised they also won the Palme - their perfomances wasnt as great and memorable as Saldanas and Gascons.Jacques Audiards vision is bold and impressive. This movie is stylish and looks beautiful. I love the cinematography and score. Not eveything works perfectly and there were a few moments where I wasnt fully sold out on this but most of the time, I was enjoying it and I was amazed by its craziness, ingenuity and originality. Im not a big fan of musicals but the musical scenes in that movie are gripping and very well choreographed shot which makes them enjoyable to watch. The songs are catchy and memorable .Emilia Perez is not for everyone. Some people were walking out, some were saying its one of the worst movies of the festival, some were loving it . General public is not gonna love this. The closest movie to this Ive saw is Annette by Leos Carax. Emilia Perez is more crowd-pleasing, but its still gonna miss with a lot of people. But I still encourage you to see it. Lets support weird and niche cinema.",
         "8.0",
         "183",
         "1115",
         "0.2962830687830688",
         "0.58141975308642"
        ],
        [
         "48",
         null,
         "Saldana is GREAT! The rest? \"Meh\"",
         "To say that the Spanish-language French musical crime film, EMILIA PEREZ is audacious does not do justice to the word AUDACIOUS. It is like saying that a Giant Redwood is a tree.Written and Directed by Jacques Audiard , EMILIA PEREZ tells the squalid tale of a Mexican crime druglord who decides to transition to a new life as a female - not to escape from his enemies, but to run to the person he/she felt she always has been.Oh...and did I mention it was a musical?The Grand Jury Prize winner at Cannes EMILIA PEREZ has a lot going for it starting with the audacity of the premise...and deciding to do it as a musical.The music works and sets the dark, dingy mood of the film and the characters within. However, be warned, there is no DEFYING GRAVITY in this film. The characters remain grounded in reality and the songs are dour and moody with nary a flying monkey in sight.Zoe Saldana is a well-deserved Oscar nominee for Best Supporting Actress as the Lawyer that drug Kingpin Juan Manitas Del Monte hires to help with the transition. It is a career best performance by Saldana and she carries the emotional heart and soul of this film on her shoulders and she bears it well. She won the Golden Globe for her efforts here and should be considered a front-runner for the Oscar, shes that good.Its a good thing that Saldana is so strong because all of the rest of the characters are thinly written with little to no depth to them so performers like Selena Gomez and Edgar Ramirez look fairly narcissistic as they focus only on themselves and think nothing of anyone else.And, the same can be said for the title character played by Gascon. Her Manitas/Emilia Perez comes off fairly one-dimensional and all of her actions seem selfish and self-absorbed and, quite frankly, I didnt care what happens to this character through the course of the film.And that, ultimately, sinks this film as EMILIA PEREZ is, really, a two-hander between Saldanas character and Garcons character and trans-actor Garcon is just not strong enough to bring any emotional range and heft to her scenes and she is dismissed off the screen when a true movie veteran like Saldana gives a career best performance.Director/Writer Audiard helms this piece with sure-handedness, knowing exactly the type of movie he wanted to bring to the screen and his laser-sharp focus on this fever-dream of a film is aided by an unwavering vision of by filmmaker. He should be applauded - but maybe not rewarded with an Oscar - for his vision.A darling of the industry - it garnered 13 Oscar nominations - Emilia Perez, is an audacious attempt at doing something different and artsy, but mostly misses the mark .Letter Grade: B7 stars and you can take that to the Bank",
         "7.0",
         "11",
         "79",
         "0.1833008658008658",
         "0.4603679653679653"
        ],
        [
         "49",
         null,
         "I. Hated. This. Movie",
         "The title says it all, I absolutely hated this film, to the point where my partner and I noped out after about an hour and half.Caveat to begin with, I am not a fan of musicals as a rule, I can make exceptions if the songs are very good. Unfortunately the songs in Emilia Perez are not good. Very very not good.As everyone else has noted, its been very well shot, very colourful and some of the choreography during the unendurable song and dance numbers was pretty good.Alas this good cinematopgraphy did not help make these sequences any more enjoyable mind you. Each song and dance number causes the overall story to screech to a halt. This is super frustrating as there are moments where it seems like there could be an interesting story at play, but these are soon washed away with another super cringey and cheesy song.The story as it is about a trans woman who changes their personality completely after transitioning is insulting tom the trans community as well as being utterly ridiculous.Zoe Saldana is giving everything 110% so respect to her, I only wish the film were worthy of her efforts. Everyone else was lousy, especially Selena Gomez who with all her financial resources youd think could afford a dialect coach.Im not sure what the critics and award voters are seeing in this one. Its one of the worst films Ive seen in a very long time.",
         "1.0",
         "164",
         "15",
         "-0.0123214285714285",
         "0.6718650793650793"
        ]
       ],
       "shape": {
        "columns": 8,
        "rows": 479
       }
      },
      "text/html": [
       "<div>\n",
       "<style scoped>\n",
       "    .dataframe tbody tr th:only-of-type {\n",
       "        vertical-align: middle;\n",
       "    }\n",
       "\n",
       "    .dataframe tbody tr th {\n",
       "        vertical-align: top;\n",
       "    }\n",
       "\n",
       "    .dataframe thead th {\n",
       "        text-align: right;\n",
       "    }\n",
       "</style>\n",
       "<table border=\"1\" class=\"dataframe\">\n",
       "  <thead>\n",
       "    <tr style=\"text-align: right;\">\n",
       "      <th></th>\n",
       "      <th>Movie</th>\n",
       "      <th>Title</th>\n",
       "      <th>Content</th>\n",
       "      <th>Rate</th>\n",
       "      <th>Upvotes</th>\n",
       "      <th>Downvotes</th>\n",
       "      <th>Polarity</th>\n",
       "      <th>Subjectivity</th>\n",
       "    </tr>\n",
       "  </thead>\n",
       "  <tbody>\n",
       "    <tr>\n",
       "      <th>0</th>\n",
       "      <td>NaN</td>\n",
       "      <td>The Worst representation of Mexico's actual dr...</td>\n",
       "      <td>I am Mexican, and I can tell you that this mov...</td>\n",
       "      <td>5.0</td>\n",
       "      <td>1122</td>\n",
       "      <td>116</td>\n",
       "      <td>-0.072917</td>\n",
       "      <td>0.370833</td>\n",
       "    </tr>\n",
       "    <tr>\n",
       "      <th>1</th>\n",
       "      <td>NaN</td>\n",
       "      <td>A Tone-Deaf Musical Disaster</td>\n",
       "      <td>Emilia Pérez has sparked significant controver...</td>\n",
       "      <td>4.0</td>\n",
       "      <td>20</td>\n",
       "      <td>2</td>\n",
       "      <td>0.041363</td>\n",
       "      <td>0.461892</td>\n",
       "    </tr>\n",
       "    <tr>\n",
       "      <th>2</th>\n",
       "      <td>NaN</td>\n",
       "      <td>okay, so</td>\n",
       "      <td>The problem with this movie is not Selenas Spa...</td>\n",
       "      <td>6.0</td>\n",
       "      <td>383</td>\n",
       "      <td>104</td>\n",
       "      <td>-0.019231</td>\n",
       "      <td>0.435897</td>\n",
       "    </tr>\n",
       "    <tr>\n",
       "      <th>3</th>\n",
       "      <td>NaN</td>\n",
       "      <td>Not Worth Your Time</td>\n",
       "      <td>I will start out by saying I am not a fan of o...</td>\n",
       "      <td>NaN</td>\n",
       "      <td>636</td>\n",
       "      <td>69</td>\n",
       "      <td>-0.000159</td>\n",
       "      <td>0.526243</td>\n",
       "    </tr>\n",
       "    <tr>\n",
       "      <th>4</th>\n",
       "      <td>NaN</td>\n",
       "      <td>Emilia Perez: Ambitious Themes, Incomplete Exe...</td>\n",
       "      <td>Emilia Perez isnt a bad movie, but it felt som...</td>\n",
       "      <td>6.0</td>\n",
       "      <td>186</td>\n",
       "      <td>128</td>\n",
       "      <td>0.111898</td>\n",
       "      <td>0.456105</td>\n",
       "    </tr>\n",
       "    <tr>\n",
       "      <th>...</th>\n",
       "      <td>...</td>\n",
       "      <td>...</td>\n",
       "      <td>...</td>\n",
       "      <td>...</td>\n",
       "      <td>...</td>\n",
       "      <td>...</td>\n",
       "      <td>...</td>\n",
       "      <td>...</td>\n",
       "    </tr>\n",
       "    <tr>\n",
       "      <th>474</th>\n",
       "      <td>NaN</td>\n",
       "      <td>Feels silly trying to embrace this misbegotten...</td>\n",
       "      <td>A veteran criminal defense attorney in Mexico ...</td>\n",
       "      <td>3.0</td>\n",
       "      <td>2</td>\n",
       "      <td>1</td>\n",
       "      <td>0.038889</td>\n",
       "      <td>0.551389</td>\n",
       "    </tr>\n",
       "    <tr>\n",
       "      <th>475</th>\n",
       "      <td>NaN</td>\n",
       "      <td>Should not work on ANY level - yet has enough ...</td>\n",
       "      <td>First and foremost, this is a French film abou...</td>\n",
       "      <td>5.0</td>\n",
       "      <td>2</td>\n",
       "      <td>5</td>\n",
       "      <td>0.088027</td>\n",
       "      <td>0.483809</td>\n",
       "    </tr>\n",
       "    <tr>\n",
       "      <th>476</th>\n",
       "      <td>NaN</td>\n",
       "      <td>Tone-deaf in more than one sense.</td>\n",
       "      <td>I was stunned after watching Emilia Perez, but...</td>\n",
       "      <td>5.0</td>\n",
       "      <td>1</td>\n",
       "      <td>6</td>\n",
       "      <td>0.066786</td>\n",
       "      <td>0.427820</td>\n",
       "    </tr>\n",
       "    <tr>\n",
       "      <th>477</th>\n",
       "      <td>NaN</td>\n",
       "      <td>A wild entertaining ride that overwhelms itself.</td>\n",
       "      <td>It mixes so many ideas, themes and genres into...</td>\n",
       "      <td>5.0</td>\n",
       "      <td>2</td>\n",
       "      <td>20</td>\n",
       "      <td>0.180333</td>\n",
       "      <td>0.465952</td>\n",
       "    </tr>\n",
       "    <tr>\n",
       "      <th>478</th>\n",
       "      <td>NaN</td>\n",
       "      <td>Standout</td>\n",
       "      <td>Emilia Perez is a standout film that exceeded ...</td>\n",
       "      <td>NaN</td>\n",
       "      <td>1</td>\n",
       "      <td>26</td>\n",
       "      <td>0.376603</td>\n",
       "      <td>0.736378</td>\n",
       "    </tr>\n",
       "  </tbody>\n",
       "</table>\n",
       "<p>479 rows × 8 columns</p>\n",
       "</div>"
      ],
      "text/plain": [
       "     Movie                                              Title  \\\n",
       "0      NaN  The Worst representation of Mexico's actual dr...   \n",
       "1      NaN                       A Tone-Deaf Musical Disaster   \n",
       "2      NaN                                           okay, so   \n",
       "3      NaN                                Not Worth Your Time   \n",
       "4      NaN  Emilia Perez: Ambitious Themes, Incomplete Exe...   \n",
       "..     ...                                                ...   \n",
       "474    NaN  Feels silly trying to embrace this misbegotten...   \n",
       "475    NaN  Should not work on ANY level - yet has enough ...   \n",
       "476    NaN                  Tone-deaf in more than one sense.   \n",
       "477    NaN   A wild entertaining ride that overwhelms itself.   \n",
       "478    NaN                                           Standout   \n",
       "\n",
       "                                               Content  Rate  Upvotes  \\\n",
       "0    I am Mexican, and I can tell you that this mov...   5.0     1122   \n",
       "1    Emilia Pérez has sparked significant controver...   4.0       20   \n",
       "2    The problem with this movie is not Selenas Spa...   6.0      383   \n",
       "3    I will start out by saying I am not a fan of o...   NaN      636   \n",
       "4    Emilia Perez isnt a bad movie, but it felt som...   6.0      186   \n",
       "..                                                 ...   ...      ...   \n",
       "474  A veteran criminal defense attorney in Mexico ...   3.0        2   \n",
       "475  First and foremost, this is a French film abou...   5.0        2   \n",
       "476  I was stunned after watching Emilia Perez, but...   5.0        1   \n",
       "477  It mixes so many ideas, themes and genres into...   5.0        2   \n",
       "478  Emilia Perez is a standout film that exceeded ...   NaN        1   \n",
       "\n",
       "     Downvotes  Polarity  Subjectivity  \n",
       "0          116 -0.072917      0.370833  \n",
       "1            2  0.041363      0.461892  \n",
       "2          104 -0.019231      0.435897  \n",
       "3           69 -0.000159      0.526243  \n",
       "4          128  0.111898      0.456105  \n",
       "..         ...       ...           ...  \n",
       "474          1  0.038889      0.551389  \n",
       "475          5  0.088027      0.483809  \n",
       "476          6  0.066786      0.427820  \n",
       "477         20  0.180333      0.465952  \n",
       "478         26  0.376603      0.736378  \n",
       "\n",
       "[479 rows x 8 columns]"
      ]
     },
     "execution_count": 3,
     "metadata": {},
     "output_type": "execute_result"
    }
   ],
   "source": [
    "df_init"
   ]
  },
  {
   "cell_type": "code",
   "execution_count": 4,
   "metadata": {},
   "outputs": [
    {
     "data": {
      "text/plain": [
       "<Axes: ylabel='Frequency'>"
      ]
     },
     "execution_count": 4,
     "metadata": {},
     "output_type": "execute_result"
    },
    {
     "data": {
      "image/png": "[encoded data removed]",
      "text/plain": [
       "<Figure size 640x480 with 1 Axes>"
      ]
     },
     "metadata": {},
     "output_type": "display_data"
    }
   ],
   "source": [
    "# Plot distribution of rate \n",
    "df_init['Rate'].plot.hist(bins=10, alpha=0.5)"
   ]
  },
  {
   "cell_type": "markdown",
   "metadata": {},
   "source": [
    "### Filter and group"
   ]
  },
  {
   "cell_type": "code",
   "execution_count": 5,
   "metadata": {},
   "outputs": [
    {
     "name": "stderr",
     "output_type": "stream",
     "text": [
      "/var/folders/l8/7h5sfbjn2ng3kg7y8p21r8qr0000gn/T/ipykernel_26173/3270839814.py:5: SettingWithCopyWarning: \n",
      "A value is trying to be set on a copy of a slice from a DataFrame.\n",
      "Try using .loc[row_indexer,col_indexer] = value instead\n",
      "\n",
      "See the caveats in the documentation: https://pandas.pydata.org/pandas-docs/stable/user_guide/indexing.html#returning-a-view-versus-a-copy\n",
      "  df_filtered['Sentiment'] = df_filtered['Rate'].apply(lambda x: -1 if x in [1, 2] else 0 if x in [4,5, 6] else 1)\n"
     ]
    }
   ],
   "source": [
    "# Only keep reviews with Rate 1 or 2 (group negative), 5 or 6 (group neutral), 9 or 10 (group positive)\n",
    "df_filtered = df_init[df_init['Rate'].isin([1, 2, 4,5, 6, 9, 10])]\n",
    "\n",
    "# Add a new column 'Sentiment' to the dataframe\n",
    "df_filtered['Sentiment'] = df_filtered['Rate'].apply(lambda x: -1 if x in [1, 2] else 0 if x in [4,5, 6] else 1)\n"
   ]
  },
  {
   "cell_type": "code",
   "execution_count": 6,
   "metadata": {},
   "outputs": [
    {
     "data": {
      "application/vnd.microsoft.datawrangler.viewer.v0+json": {
       "columns": [
        {
         "name": "index",
         "rawType": "int64",
         "type": "integer"
        },
        {
         "name": "Movie",
         "rawType": "float64",
         "type": "float"
        },
        {
         "name": "Title",
         "rawType": "object",
         "type": "string"
        },
        {
         "name": "Content",
         "rawType": "object",
         "type": "string"
        },
        {
         "name": "Rate",
         "rawType": "float64",
         "type": "float"
        },
        {
         "name": "Upvotes",
         "rawType": "int64",
         "type": "integer"
        },
        {
         "name": "Downvotes",
         "rawType": "int64",
         "type": "integer"
        },
        {
         "name": "Polarity",
         "rawType": "float64",
         "type": "float"
        },
        {
         "name": "Subjectivity",
         "rawType": "float64",
         "type": "float"
        },
        {
         "name": "Sentiment",
         "rawType": "int64",
         "type": "integer"
        }
       ],
       "conversionMethod": "pd.DataFrame",
       "ref": "d3b50928-83bf-4fe3-8abe-0786b4dd3b10",
       "rows": [
        [
         "0",
         null,
         "The Worst representation of Mexico's actual drug problems",
         "I am Mexican, and I can tell you that this movie is an awful representation of the narcotics problem in Mexico. While the story initially seemed interesting, it quickly became ridiculous. The main premise of the film is that a cruel assassin drug lord becomes a martyr after losing his penis. Additionally, Selenas acting is subpar; she cant even speak Spanish well, despite being cast as a Mexican character. None of the main actors are Mexican, and their Spanish accents come from Spain and the Caribbean, and frankly incomprehensible in Selenas case.Overall, a good idea turned into a bad movie.",
         "5.0",
         "1122",
         "116",
         "-0.0729166666666666",
         "0.3708333333333334",
         "0"
        ],
        [
         "1",
         null,
         "A Tone-Deaf Musical Disaster",
         "Emilia Pérez has sparked significant controversy, and for good reason. From the outset, the lack of Mexican representation like a glaring oversight. The French directors admission that he didnt feel the need to research Mexico, paired with the casting directors claim that no talented Mexican actors could be found, only adds insult to injury. These choices reflect a tone-deaf and dismissive approach to authenticity.Whats even more baffling is how Emilia Pérez managed to garner so many Oscar nominations. While the Academy has a history of nominating films with problematic undertones , those at least offered stories that entertained broad audiences. Emilia Pérez, however, doesnt even accomplish that. The story is dull and lifeless, so much so that out of three of us who watched it, two fell asleep, and the third decided to switch to another movie.To make matters worse, Emilia Pérez is a musical - but not in a good way. The songs are forgettable at best and cringe-worthy at worst, and most of the cast can barely sing. The musical numbers, which should have been a highlight, drag the movie down even further.That said, there are a couple of redeeming elements. Zoe Saldaña and Karla Sofía Gascón deliver strong performances and truly dont deserve the backlash tied to the films broader issues. Their nominations are the only ones that feel genuinely earned. Unfortunately, the rest of the film is a mess.Overall, Emilia Pérez is an underwhelming, uninspired production that fails to justify the attention its received.",
         "4.0",
         "20",
         "2",
         "0.0413628472222222",
         "0.4618923611111111",
         "0"
        ],
        [
         "2",
         null,
         "okay, so",
         "The problem with this movie is not Selenas Spanish, I dont find this movie particularly bad but some of the dialogue is really cringy and as a Mexican none of the people from here use the terms that were in the movie. The portrayal of Mexico in this film is very stereotypical and sometimes that isnt bad, but I think they should had cast real Latin writers and supervisors to make this movie more accurate and respectful to the country. The fact that the director doesnt speak Spanish or even English speaks volumes of the commitment to understanding what the movie is about and the emotions that triggers.Also the songs are horrible.The only thing salvageable is Zoe Saldañas performance.",
         "6.0",
         "383",
         "104",
         "-0.0192307692307691",
         "0.4358974358974358",
         "0"
        ],
        [
         "4",
         null,
         "Emilia Perez: Ambitious Themes, Incomplete Execution",
         "Emilia Perez isnt a bad movie, but it felt somewhat flat. At times, the story seemed too easy for the characters, lacking tension or conflict. Emilia, in particular, transforms into an overwhelmingly positive character, even though we know from the backstory that she wasnt always so good.The movie tackles a wide range of themes but struggles to fully explore them. Instead of diving deeply into any one idea, it spreads itself too thin, leaving several threads underdeveloped.As someone who doesnt typically enjoy musicals, this film didnt change my mind. However, I can appreciate that this was the directors vision, and I know many viewers will enjoy the musical elements. To its credit, some of the musical numbers were well done, especially those performed by Zoe Saldana. Her performance was a standout and arguably the films biggest revelation, elevating many scenes with her presence and talent.Overall, Emilia Perez is an enjoyable film. While I dont quite understand its acclaim at Cannes, it has its moments.",
         "6.0",
         "186",
         "128",
         "0.1118983957219251",
         "0.4561051693404634",
         "0"
        ],
        [
         "6",
         null,
         "Overhyped!",
         "Emilia Pérez is, at best, just okay. It feels incredibly overhyped, and I honestly dont understand how its winning so many awards. Zoe Saldana delivers a strong performance, but the rest of the cast is just average.The film tries to mix crime, drama, and musical elements, but the execution is uneven. Some scenes drag, making the pacing feel sluggish, and the emotional moments often seem forced rather than genuine. While the cinematography and production design are impressive, the storytelling lacks depth. Its a film that aims high but doesnt fully deliver. A 6/10 for me-decent but forgettable.",
         "6.0",
         "59",
         "38",
         "0.2819607843137255",
         "0.5084803921568628",
         "0"
        ],
        [
         "7",
         null,
         "Hard to watch",
         "Emilia Pérez is a musical that has sparked debate due to its themes and execution, particularly in Mexico, where its release has been surrounded by controversy. I watched it with an open mind, aware of its narrative, focus, and genre. However, I came away with mixed feelings, which I will break down into three key points: stereotypes, performances, and the script along with the songs.1. Stereotypes: Its impossible to discuss this movie without addressing its cultural treatment. From the very beginning, it feels more like a collection of clichés about Mexico than a genuine exploration of its culture. As a Mexican, Im not offended by stereotypes per se, but here, there seems to be no interest in delving deeper. It feels like a brainstorm of references-sombreros, skulls, and tequila-without adding anything meaningful to the narrative. This lack of authenticity turns the setting into a caricature. The production could have set the story in any other country, swapped these clichés for others, and it wouldnt have made much difference to the plot.2. Performances: Its interesting that the performances have been nominated for multiple awards. However, as a Spanish speaker, the accent and diction were constant distractions. The actresses seem to be trying hard, but the result fails to convey genuine emotions or connect with the audience. A crucial part of acting is mastering dialogue delivery, intonation, and how these elements evoke empathy or rejection toward the characters. This doesnt happen here. No character made me feel their story-I didnt suffer with them or celebrate their victories.3. Script and songs: The script, unfortunately, is one of the films weakest points. The dialogues feel as though they were mechanically translated into Spanish, riddled with errors in conjugation and awkward phrases. This extends to the songs, which fail to work as either music or narrative tools. In a good musical, the songs should integrate organically and move the story forward, but here, they feel forced, as if they were shoehorned into a pre-existing structure without concern for rhythm or coherence.4. The theme: The film touches on a sensitive nerve for Mexicans. Its complicated to humanize drug cartels in a country that suffers the direct consequences of violence, disappearances, and daily fear. The idea of portraying a drug lord as someone deserving of redemption, who wishes to transition to stay true to their identity and even becomes a benefactor of social causes, can feel insulting. For a foreign audience, it might be an interesting narrative, but for those living in the reality of drug-related violence, this idealization borders on indifference toward collective suffering.In conclusion, Emilia Pérez has some interesting technical elements and isolated moments worth noting, but as a whole, its not an enjoyable film. The lack of authenticity in its cultural representation, performances that fail to connect, and a weak script weigh it down too much. That said, cinema is subjective, and if this movie finds its audience, good for it. But for me, rather than being a captivating musical, it was a frustrating experience.",
         "1.0",
         "1017",
         "65",
         "0.0203544061302682",
         "0.4241858237547892",
         "-1"
        ],
        [
         "8",
         null,
         "Fine, but there are two big problems with this",
         "This is an ambitious film that certainly succeeds in combining several genres. It is also a film that manages to fascinate and captivate for its whole, long running time.However, there are two major problems: First: the film is ridiculously moralistic.Second: it is absurd to believe that nobody would immediately question the identity and therefore the background of the main character. Her motivation is legit, she wants to make amends, but it is mindboggling that the filmmakers apparently thought it could go unquestioned when the protagonist, a mysterious woman in every respect, carelessly decides to enter the spotlight.",
         "6.0",
         "150",
         "120",
         "0.0354166666666666",
         "0.5119047619047619",
         "0"
        ],
        [
         "9",
         null,
         "WINNING AWARDS DON'T MAKE A FILM GREAT!",
         "Stupid film with stupid sentiment. Lot of the musicals doesnt fit and make sense at all. Felt forced kinda like Joker 2. Why was Rita selected, how she managed to do so many illegal stuff like an expert just with money, nohing explained! Can a lawyer do all of these? Anyways, I couldnt find any fault jn Gustavo. He didnt even know that Emilia was Manitas before his death! And after all that Emilia did, are we supposed to feel sorry for her? She was a cartel leader, did lots of bad stuff and at the end also did bad stuff forcing his children to stay with him without explaining anything to his wife! I feel bad for the kids. Their father ruined the whole family by running after his personal gains only. He never thought of anyone else but himself.And why is Rita always with them? I mean does she have no family or close ones? Rita and Emilia did lots of illegal stuff to get rich and the film tried to justify it by sentiment and emotion. And people are praising them for the NGO whereas they themselves are twisted. The song where Rita mocks the corrupt people also doesnt make sense as she herself did illegal stuffs to get rich!Some of the visuals are good and thats why Ive rated it higher, otherwise this is garbage.",
         "2.0",
         "145",
         "5",
         "-0.2544642857142857",
         "0.6589285714285714",
         "-1"
        ],
        [
         "10",
         null,
         "Too many cooks in the kitchen",
         "Just finished watching Emilia Perez and it was fine I guess. There is a lot to like and dislike in this movie.Positives for Emilia Perez : The movie looks good with some great cinematography. The movie does get ambitious with the blending of genre thrown into the mix and I appreciate that. The performances from Zoe Saldana and Karla Sofia Gascon are very good. The musical numbers are fun to watch. And finally, I thought that the movie did a great job at telling its transgender story.Mixed for Emilia Perez : While the movie is certainly ambitious with its blending of genres, there are elements to this that felt out of place in this movie. The musical numbers feel like they just came out of nowhere and it felt jarring at times.Negatives for Emilia Perez : The movie is way too long and I feel that this movie couldve told its story with a shorter runtime. The movie lost my interest almost immediately and it just became background noise for me.Overall, I admired the filmmakers and actors for being ambitious with this movie, it just fully worked for me. However, I would still recommend this movie to people, if they are interested with this movie.",
         "6.0",
         "76",
         "123",
         "0.3483333333333333",
         "0.5521428571428572",
         "0"
        ],
        [
         "11",
         null,
         "Is this a joke?",
         "As a Spanish native speaker i found this movie disrespectful and childish. The spanish speakers characters can barely pronounce two words, turning the whole script into an uncomfortable caricature. Although disguised as a modern production, they fall into the same errors of typecast Latinos into same old stereotypes. The only valuable thing is the attempt to offer something different by mixing a Spanish language film with a musical, however its execution becomes irritating to watch. Im sure any positive reviews must come from someone totally unfamiliar with the Spanish language, as this is a determining factor in making this film totally inedible and a endless meme material.",
         "1.0",
         "851",
         "59",
         "0.0024891774891774",
         "0.4349687349687349",
         "-1"
        ],
        [
         "13",
         null,
         "The movie has a lack of focus",
         "I think the film juggles too many themes, and none of them are fully explored, leaving the narrative feeling rushed and incomplete. And as a result, it feels like a collection of ideas rather than a cohesive story.I also didnt quite understand why it was framed as a musical-this choice felt disconnected from the rest of the story.The performances are solid, but the characters arent developed enough to create a lasting emotional connection.However, I really liked the cinematography, beautifully shot and visually captivating.To sum up, the movie leaves you wanting more depth and clarity.",
         "6.0",
         "39",
         "74",
         "0.255",
         "0.4349999999999999",
         "0"
        ],
        [
         "14",
         null,
         "I can't believe this has 13 Oscar nominees",
         "This movie is considered one of the best motion pictures of the past year? How? What a miserable experience. Why is this movie a musical? WHY? None of the songs do anything to advance the plot or tell us more about the characters, in fact the awful songwriting makes every scene with a song feel like instead of getting a deeper understanding of anything through song, the song is being used to tell us things that we can already see on screen and would be way more effectively communicated through better visual storytelling. The songs also dont really have any structure to them, they dont go anywhere. It genuinely feels like it was translated by Duolingo and the awful delivery of the lines doesnt help matters at all. Karla Gascón is fine...but not that fine to be nominated for an Oscar.",
         "1.0",
         "600",
         "45",
         "0.0619047619047619",
         "0.5035714285714286",
         "-1"
        ],
        [
         "15",
         null,
         "Strangely bleak",
         "Enjoyable enough movie with two demanding leading roles and two supporting roles requiring excellent performers. The first two are played by Zoe Saldaña and Karla Sofia Gascón, the second two by Selena Gomez and Adriana Paz. This quartet shared the Best Actress award at Cannes 2024. They deserved it. Saldaña in particular is a revelation.Of writer-director Jacques Audiards previous films, Ive seen four , each memorable in their different ways. None of them prepared me for this one, so hats of to him for not getting stuck in a genre rut.Theres a lot of story and a lot of singing in Emilia Pérez. When the singing is paired with Damien Jalets incisive choreography, the effect is thrilling. Otherwise, the songs drag the movie down. They are musical-theatre lite, dont dig deep, so are not up to the dramatic demands put upon them. Theyre at their best in the rap-inclined numbers, where rhythm is the most important element.The moral of Emilia Pérez seems to be that we can never slough off the past, change who we are or what we want. Its a strangely bleak vision to present in a musical.",
         "6.0",
         "66",
         "141",
         "0.1546296296296296",
         "0.4476273148148148",
         "0"
        ],
        [
         "16",
         null,
         "It's a caricature",
         "I am speechless... Im guessing all the positive reviews are from people who a) dont speak Spanish and b) wanted their caricatures of Mexicans and trans people confirmed.The dialogues are insufferable, no one speaks like that, the music is jarring, the accents are not good.The bad words sprinkled thought the movie feel so unnatural, not only because of the delivery, but how they are used. This was clearly written by somebody with some vague knowledge of Mexican culture, but definitely not enough to make something good.The only redeeming quality this movie has is that its undoubtedly pretty. Thats it.Mexican people should avoid it at all costs.",
         "2.0",
         "1093",
         "98",
         "-0.0111570247933884",
         "0.5541322314049587",
         "-1"
        ],
        [
         "17",
         null,
         "Felt like a fever dream",
         "A musical about a cartel leader undergoing a transition into a female social activist was not on my Oscars bingo card. I am a bit confused on how it snagged a leading 13 Oscar nominations. I really wanted to like it but it felt all over the place, the story felt off somehow... not satisfying i suppose. The movie being a musical seemed really random and the songs were not that great. I dont want to be super negative because it did have some good moments with the acting, costumes/makeup, and some of the choreography. Zoe Saldana and Karla Sofia Gascón put on a great performance and I think that they are deserving of some recognition but I still cant get over the 13 nominations.",
         "6.0",
         "16",
         "37",
         "0.1344444444444444",
         "0.44",
         "0"
        ],
        [
         "18",
         null,
         "Everything but mexican",
         "Only money is capable of making someone consider this film a good representation of history, culture or anything, on its own or considering the Mexican context. The number of nominations and awards only demonstrates this, that the outpouring of money moves the vote. The Mexican majority itself finds the film disrespectful. A French director who thinks he knows enough about Mexican culture, an international cast with a Mexican actress who isnt even being considered in the awards campaign. Its simply bizarre and frightening that the film industry and academia genuinely consider this work.",
         "1.0",
         "552",
         "49",
         "0.1199999999999999",
         "0.44",
         "-1"
        ],
        [
         "19",
         null,
         "one word : flabbergasted",
         "Came to write this after seeing its gala screening at the London film festival.A wild, insane roller coaster of a film that mixes crime, comedy, musical and thriller all into one and succeeds with flying colours!The four actresses at the core are the strength and they were directed to perfection by Audiard.Karla plays her character pre transition and post as it comes to her naturally, having underdone it publicly as an actor. Its a powerhouse performance that is so of our time. Im proud to be alive in a time when a trans actress plays a trans role. And not only that, she nails it. The tragedy of leaving a life but the promise of the one shes always needed.Zoe gets to sing, dance, cry and laugh and everything which I think an actor dreams of doing, let alone in one film. I had never seen a film of hers before and I am so happy this was my first because she shines! Theres a scene of her in a car, where realising what has just transpired, she breaks down in hysteria. Think Margo in I, Tonya or Glenn in Dangerous Liasons. That scene alone should win her an Academy award. And she has a beautiful voice!Selena, for whom I was most excited to see this film, kicks it out of the ballpark. Playing a mob wife, that icy, storm-simmering-below-the-surface kind of woman which she needs to revisit IMO because as a young girl who endured intense scrutiny and then went through a psychosis, she knows it too well whats it like to keep a lid on too long. The one time during the screening where I felt I was having an out of body experience is where her character Jessi finally unleashes her emotions onto us the audience after years of being oppressed. The agony and anger is heard in her voice. Its evidence of why she has said acting is her true calling and how passionate she is about it. It would be stupid to still think shes a disney kid and still has something to prove. Her acting journey is truly so exciting as a fan of almost 2 decades.Lastly, Adrianas character is like the sunshine in the otherwise dark and twisted world the film lives in. She is poignant! And it perfectly complements the other 3 actresses work. She brings love and softness to the story through her work.One major thing to note is that this film is like an opera. It reminds one of the Umbrellas of Cherbourg, which was also almost entirely sung. Emotionally its definitely intense like one, with small moments of calm when you realise youre watching a film.The cinematography was brilliant. At the end of the film, selenas character lays almost unconscious on the passenger seat as her lover drives in rage. The way the camera pans across the car to her face... it felt like a painting, very poetic but tragic.So glad to have watched it before its netflix release. Its amazing when a film can make you feel like this. To take you out of your normal and drive you a bit crazy.",
         "9.0",
         "153",
         "840",
         "0.1409580498866213",
         "0.6155895691609976",
         "1"
        ],
        [
         "20",
         null,
         "Jacques Audiard tried to do too much",
         "Its a musical trans crime drama set in modern times in Mexico, Bangkok, Tel Aviv, Switzerland, and London, England. The two main characters are a Mexican lawyer, Rita Mora Castro , and a vicious cartel drug lord, Juan Manitas . Manitas has a wife, Jessi , and two children. After the film demonstrates Ritas legal capabilities, Manitas hires her to perform a service--find a surgeon willing to perform gender-affirming surgery secretly. Rita is also to resettle his family in Switzerland while Manitas fakes his death and becomes Emelia Pérez.Four years later, Emelia wants her children to live with her as their aunt in Mexico. Rita is again enlisted to assist with things. The film follows this initially successful transition that begins to sour as Jessi pursues a relationship with Gustavo and Emelia explores a relationship with Epifanía . It ends badly.With that plot, its hard to see musical numbers sustaining it. They mostly dont, except for one riveting dance number at a fundraising dinner by Zoe Saldana. The cinematography is occasionally stunning, but the plot jumps from scene to scene with many unresolved issues, e.g., why did the shootout end, and how did Emelia continue to function safely with drug lords after her transition? Jacques Audiard tried to do too much, and it didnt succeed.Zoe Saldana and Karla Sofia Gascón do very well; the direction is the issue.",
         "6.0",
         "26",
         "83",
         "0.1346074380165289",
         "0.4306818181818181",
         "0"
        ],
        [
         "21",
         null,
         "UNWATCHABLE",
         "As a Mexican and a musician, Emilia Perez was an absolute assault on my ears. The songs were atrociously written and horribly performed-an unbearable disaster from start to finish. The Spanish dialogue? Completely unintelligible, thanks to ridiculous accents and what seemed like Google Translate-level writing. Seriously, who thought this was acceptable?The story might have had some potential, but even that was destroyed by how horribly written it was. Any shred of creativity was drowned in a sea of incompetence. This isnt just a bad movie; its an insult to anyone who appreciates decent filmmaking. A complete and utter failure.",
         "1.0",
         "231",
         "20",
         "-0.2186274509803921",
         "0.6058823529411765",
         "-1"
        ],
        [
         "23",
         null,
         "Doesn't live up to its first act",
         "I really enjoy how director Jacques Audiard can embrace genre films, something that stands out in French filmmaking. You never know what to expect next with him, and certainly not a Spanish-language musical set in Mexico and featuring a trans mob boss.Its also interesting to see how the movie does not so much deal with transsexuality or identity but rather use that story as a starting point to ask whether people can change. Whether a criminal rotten to his/her core can become another person, and whether they can truly ever atone for their crimes. Beyond sex and gender, can you change your soul?That being said, the movie ultimately disappoints by leaving that theme aside in its last act, for the benefit of a rather bland kidnapping storyline. You feel like that our master criminal is sliding back toward their old violent habits... until the story drops the ball and goes in a disappointing direction. I was really looking forward to the resolution, a sign that the film was working for me, until I realized there was nothing more to expect from this movie. What a waste.The plot also sacrifices the Zoe Saldana character, who at first appears to be the protagonist, until she fades aways in the background. This points again at a screenplay that is good on buildup but weak on payoff.",
         "6.0",
         "18",
         "67",
         "5.411255411255392e-05",
         "0.4104437229437229",
         "0"
        ],
        [
         "24",
         null,
         "Overhyped a cringey mess",
         "The portrayal of Mexico is a caricature, riddled with lazy stereotypes - other than the mum saying her son teacher was missing - so it covers a couple of violent headline news, but far from a full critic of why it happens. The fact that not a single Mexican actor graces the screen, a slap in the face to a rich culture and talented performers dealing with difficult themes.The music? An offensive assault on the ears. Its as if the composers Googled Mexican music and slapped together the first five results. No soul, no nuance, just a jarring cacophony. Sorry but hasta mi pinche vulva te extraña is so cringey in spanish!And the trans representation? The film reduces a complex and nuanced identity to a cheap plot device, lacking any genuine depth or respect into a couple of poorly written songs about de pene a vagina.Emilia Pérez is not just a bad movie, its an insult.",
         "1.0",
         "384",
         "38",
         "-0.0612781954887218",
         "0.5810150375939849",
         "-1"
        ],
        [
         "26",
         null,
         "Ignorance is bliss... But it's still ignorance.",
         "The music is awful The characters are awful Representation is awful Privileged people thinking how exotic is to live in a country full of violence as if it was the wild west.Devoid of the logical rationality behind human rights.Finally, making the literal comparison of a cartel leader becoming a SAINT.They absolutely have no idea of the real world.Even from the title they thought of the most common stereotypical name...Also its really ironic how they used Google translate but couldnt use google search. Im not even asking for realism, just for them to show they didnt do less than minimum effort.",
         "1.0",
         "263",
         "24",
         "-0.0822390572390572",
         "0.6398148148148148",
         "-1"
        ],
        [
         "27",
         null,
         "Outstanding",
         "This film is unique in every way possible. To take such a story as this and add music seemed so bizarre and should not work. However the incredible performances of both Saldana and Gascon drew me in. I cant believe how I fell in love with Amelia Perez because one shouldnt but I did.The music too was emotive especially Papa sung by Amelias son.I dont understand the negative reviews but I do understand why it has been nominated for so many Academy Awards.Only in very well thought out films can one be sucked into caring for a character which in life one really should not.This film is about truth and redemption as much as it is about understanding our own identities.",
         "10.0",
         "7",
         "18",
         "0.275",
         "0.6307692307692307",
         "1"
        ],
        [
         "28",
         null,
         "a very mixed bag",
         "The critiques of this movie as inauthentic and cringy are not wrong. In particular the music was really bad, the songs are barely songs, theyre more like chants. On the other hand this movie tells a unique story and has great preformances by Zoe Saldana and Karla Gascon. Zaldana in particular is the only one who is entertaining in her musical numbers becuase she is actually a good dancer and a comelling preformer. I almost felt sorry for Selena Gomez how could she look good when her songs and dialouge were so bad? But Saldana and Gascon kept me watching until the end. I think this would have been much better as a drama and not a musical. And as for people who will say that this is not Mexican, well they are right about that.",
         "6.0",
         "8",
         "31",
         "0.1484523809523809",
         "0.5280357142857143",
         "0"
        ],
        [
         "29",
         null,
         "Honestly one of worst films ever made",
         "As a Mexican this is painful tu watch, as a film lover this es dreadful, if you are going to make a movie about Mexico, HIRE MEXICAN ACTORS! The slang is terrible, not even accurate, is like listening to children cursing !If you dont speak Spanish, if you have a terrible image of Mexico and if youve never travel here because you are afraid youll get killed, this is a movie for you!If you been to this beautiful country and if you understand our language you would agree with me : Esta película no representa a México, ni a su gente, ni a su situación y mucho menos a nuestro idioma.With that being said, the movie just doesnt work, there is no chemistry between the characters , the story goes nowhere , it is one of the worst movies out there , I swear this is not hate, its Just Terrible.",
         "1.0",
         "327",
         "32",
         "-0.3392857142857143",
         "0.6666666666666667",
         "-1"
        ],
        [
         "30",
         null,
         "Better than Joker 2, at least.",
         "Its interesting coming to Emilia Perez late, after its caused the stir it has. Watching the film, I was often thinking about whats rubbed people the wrong way, and different things that rubbed different people the wrong way. Lots of it can be interpreted charitably or cynically. Even then, how much of it is really supposed to be cynical is up to interpretation.But its already an overwhelming movie to think about, so I want to focus on what I personally liked and disliked. Im not going to passionately defend the film, but Im also not going to tear it to pieces.I thought it was an interesting film, I appreciated its boldness, I thought some of the acting was good , and some of its thrilling to watch. Its a movie that only sometimes comes alive, but I liked the energy in those scenes that did work. Its a movie that does a lot and asks questions in a way that obviously some people will respond well to and some people will lash out against. I think the film wants to be challenging.Still, even with that intent, Emilia Perez does sometimes feel confused in ways that might not be intentional. Some songs are clunky and repetitive, the editing is bad at times, and the narrative doesnt flow well. All three characters often feel like theyre off doing their own thing in their own movies, and jumping between each one sometimes felt head-scratching.It feels like a film where the people behind it wanted to do a lot, but mightve been overconfident, or more lost than they realised/wanted to admit. Its an imperfect shock not to the system, but to so many systems, and I dont know how many systems/things it was targeting necessarily.Thinking about this film wears me out , but I think for better or worse, itll kind of stick with me. I dont know if I want it to for too long. But I can say this: I dont think I regret watching it.",
         "6.0",
         "8",
         "31",
         "0.0888888888888888",
         "0.6324074074074074",
         "0"
        ],
        [
         "34",
         null,
         "This was soooo bad!!",
         "As a Spanish native speaker, this was very hard to watch!! The songs are boring and lack good lyrics, it just repeats the same phrase over and over... its a poorly representation of Mexican culture, almost like a joke. The concept was actually decent but honestly I dont know what happened in the execution and script.I fight myself to dont fall sleep because I honestly thought that itll get better in some point hahaa but I was wrong!A total waste of time, dont bother watching this.",
         "1.0",
         "156",
         "12",
         "0.0287860576923076",
         "0.5189102564102565",
         "-1"
        ],
        [
         "36",
         null,
         "Truly abysmal",
         "I want to be clear. I agree this movie is denigrating to the Mexican community and the trans community which by itself makes it an absolute disgrace. As a movie by itself it is truly one of the biggest pieces of garbage I have ever seen. Zoe Saldana is fine, but the acting from every other person is quite frankly abhorrent. Selena Gomez is truly shocking in both her grasp of Spanish and her singing. How this movie has garnered so much critical praise is beyond me. I feel it serves as a huge reminder with how deluded Hollywood is. Do not waste your time with this. You will wish you could have the time back.",
         "1.0",
         "332",
         "33",
         "-0.0467948717948717",
         "0.4352564102564102",
         "-1"
        ],
        [
         "38",
         null,
         "Original but not without flaws",
         "Original movie with a lot of creativity.The good: you get some insight of transgenders, spanish musical singing , actrice zoe and karla, the setting and the way you can feel the mexico vibe, some parts of the story where you can clearly feel the quality of the director, the movie is very orginial.The bad: the biggest problem is that they portray a drugs maffia lord, responsible for 10000 deaths or missing, later on as a good house wife with a good moral sense. That is just a big clap in the face of all people who lost someone because of the drugs wars in reality. The whole basis of this movie just feels wrong and without respect to those people.What is more bad? It is too long, selena gomez , all main actrices are woman , script, story line and a clear goal or motive is missing. What is the point or goal off any of the 3 main actrices of this movie? There is none.Just a 6 out of 10.",
         "6.0",
         "17",
         "116",
         "0.0764492753623188",
         "0.3833333333333334",
         "0"
        ],
        [
         "39",
         null,
         "Worst Movie ever watched & Wasted of time",
         "Seriously??? This movie is such a joke! It literally lacks authentic representation of mexico?? As a mexican, i am deeply offended this movie is poorly directed and written. I was originallly very passionate and excited for this movie, but after watching this, it just upsets and offend me... On top of that, how did this film get nominated for oscar?? Anyone with a good pair of eyes could see this film has nothing good at all, especially the plot, what in the world is it?? It is ridicoulous, does not make any sense and again RIDICULOUS. Please do not spend time watching this movie, it is a complete waste of time.",
         "2.0",
         "180",
         "15",
         "0.1028888888888888",
         "0.5844444444444444",
         "-1"
        ],
        [
         "42",
         null,
         "WORST MOVIE OF THE WHOLE DECADE OR MAYBE LIFE!",
         "This movie is a complete disaster. The music is terrible, the singing is unbearable, the storyline is shallow and nonsensical, and the acting is completely flat. Its filled with bad references and cringeworthy moments that make it feel like a parody of itself. A true humiliation for Mexican cinema and culture. The fact that it received nominations and awards only proves how biased and sold-out these institutions are. Dont waste your time on this movie. There are plenty of better films out there. Avoid it at all costs. Watch anything else instead; even the worst low-budget movies have more heart and effort than this mess.",
         "1.0",
         "213",
         "19",
         "-0.0802083333333333",
         "0.4635416666666666",
         "-1"
        ],
        [
         "45",
         null,
         "Failed to commit to any of its premises",
         "Emilia Perez Is a drama thriller musical centred around a cartel boss and their lawyer. Whist I was somewhat invested throughout the film, my main issue is that it did not commit to any of its premises which left the experience feeling very surface level with the most memorable part being that it tried to combine several genres together.It didnt commit to being a thriller which meant there was nothing fresh regarding these elements. The plot allowed allowing anything that might have been intriguing to simply happen by chance which removed the tension from these scenes. The musical numbers werent particularly entertaining and the drama concerning the protagonist wasnt explored in a way that gave me meaningful insight into the character and their emotions. So whilst the mishmash of genres was intriguing, little else was memorable with the exception of Zoe Saldanas performance.",
         "6.0",
         "2",
         "6",
         "0.2236979166666666",
         "0.4056547619047619",
         "0"
        ],
        [
         "46",
         null,
         "Ridiculous, offensive, pretentious garbage",
         "Is this the plot of an episode of South Park?No! Its your new pretentious french Director mix of unique not talked about enough before themes into one piece of offensive exploiting of controversial made for bold american critics who want to see something different than their regular blockbuster jokes on them, the end with the car crash was so hollywood, but instead of doing a critic on how ridiculous cinema is when treating these themes with comedy, its such a poor intent, that it gets offensive...Lets put a transexual narco who wants to reedem itself by trying to help the poor mexicans who lost their relatives then they belive she is a goddess herself? In what world this is a good idea? This is offensive, the stereotypes are too high, why lucrate with a theme so delicate as the people who is lost bc narcotrafic? This is a sensitive theme in Mexico, you put this into a comedy?Lets laugh about a tragedy in the US in a comedy with french actors then? Would the academy like that?Zoe Saldaña is an incredible Actor who shouldnt have been involved in this mess. Withouth her, this movie would be in the garbage where it belongs. Of course they needed Selena for audiences too.If they didnt had them, or similar actresses hot on Hollywood, this mediocre film wouldnt be as famous as it is.In the end scene, this movie puts a red ribbon into the hate for Mexicans, making the bad stereotypes as strong as in a Trump speech, Dumb Mexicans would idolize a Martir even if she was a Narco seriously? Did the director saw a December 9 video of La basilica de Guadalupe and tought Mexicans love to pray to a plastic figure?Offensive piece of crap with ridiculous attempt of Mexican representation, so cringy to watch, so ridiculous that is praised for first world critics who dont have a slightly idea of what Mexico is.",
         "1.0",
         "311",
         "32",
         "-0.0140492424242424",
         "0.5619950466200467",
         "-1"
        ],
        [
         "49",
         null,
         "I. Hated. This. Movie",
         "The title says it all, I absolutely hated this film, to the point where my partner and I noped out after about an hour and half.Caveat to begin with, I am not a fan of musicals as a rule, I can make exceptions if the songs are very good. Unfortunately the songs in Emilia Perez are not good. Very very not good.As everyone else has noted, its been very well shot, very colourful and some of the choreography during the unendurable song and dance numbers was pretty good.Alas this good cinematopgraphy did not help make these sequences any more enjoyable mind you. Each song and dance number causes the overall story to screech to a halt. This is super frustrating as there are moments where it seems like there could be an interesting story at play, but these are soon washed away with another super cringey and cheesy song.The story as it is about a trans woman who changes their personality completely after transitioning is insulting tom the trans community as well as being utterly ridiculous.Zoe Saldana is giving everything 110% so respect to her, I only wish the film were worthy of her efforts. Everyone else was lousy, especially Selena Gomez who with all her financial resources youd think could afford a dialect coach.Im not sure what the critics and award voters are seeing in this one. Its one of the worst films Ive seen in a very long time.",
         "1.0",
         "164",
         "15",
         "-0.0123214285714285",
         "0.6718650793650793",
         "-1"
        ],
        [
         "51",
         null,
         "Don't bother.",
         "Im trying to be objective so here I go: Yes to Photography. No to everything else. I dont usually end a movie feeling it was a waste of time but seriously, it was exactly that. The movie is constantly distracting you because its really hard to not no see from the littlest to the biggest disaster on screen. Very disrespectful with most of the situations the movie try to approach but hardly do. And its not just Selena Gomez or her really bad spanish, its the way she does the character, and the script for sure. Let me tell you something, its not her pronunciation, we are in latinoamerica like... who says that? Who use those words in real life? Every word she says sounded clinic, and lets not talk about her acting, and again, thats not just her, it was the whole cast, the script, the direction, everything. But hey, good photography.",
         "1.0",
         "177",
         "17",
         "0.0284313725490196",
         "0.372875816993464",
         "-1"
        ],
        [
         "55",
         null,
         "Worst Movie EVER!!",
         "This is, hands down, the worst musical I have ever seen. If zero stars were an option, Id be all over it. Watching this was like sitting through a bad high school play where everyone forgot their lines-but somehow, they also forgot the plot.Lets talk about Selena Gomezs character, Jessi. It was like her entire script got run through Google Translate, twice. I speak Spanish, and even I needed subtitles to understand her. Honestly, it felt like the movie was actively trying to insult my brain.The plot had potential-Ill give it that-but it was buried under layers of cringe-worthy acting and a bafflingly tone-deaf approach. The director must have skipped the Mexican culture and language section during research . And dont even get me started on how wildly insensitive this movie is to families dealing with real-life disappearances.In conclusion, this movie didnt just miss the mark-it missed the entire target, fell off the stage, and took the audiences patience with it.",
         "1.0",
         "110",
         "9",
         "-0.0868376068376068",
         "0.4342735042735043",
         "-1"
        ],
        [
         "57",
         null,
         "Caught me off guard",
         "I went into this, a bit sceptical, not a big fan of modern musicals, but, also not sure what to expect. I have to say, the first few minutes, I almost turned it off, but then, Zoe Saldanha drew me in, and I found myself utterly charmed...I have loved Zoe since I saw her many years ago in Center Stage, she constantly delivered great work through the years, and I have to say I am very happy that she finally has the role that will bring her some real awards attention. She is co lead in this film, and should go lead, but I get it, in supporting she might actually get to go all the way and win the Oscar?! This is the role of het lifetime , and she is brilliant in it. There is a scene, at a benefit, and she starts to sing and dance... took my breath away.Selena Gomez, like Zoe, I have loved since her Wizards days, very happy to see her doing so well in her acting career, and she also, gives a fantastic, very mature grown up performance. She is the supporting actress here, I hope she also gets a nomination at least.This is my first time watching Karla Sofia Gascon in anything, and yes, she really delivers, stealing every scene, very raw, emotional, fierce, fiery... so many words I can use to describe her performance. I really hope she gets that nomination. I am writing this on 14.11.2024, and watching the chatter online, I do hope she makes history and can go all the way to the Kodak theatre.The camera work, the music, the story and message at the core of the film are all really interesting and will make you think. The film has a certain rhythm, a beat, at certain points I found myself tapping my feat.There are a few songs where the lyrics were a bit strange and will make some people cringe, but I think it may just me the spanish to english translation.For all movie lovers, movie buffs, awards watchers, go see the film, it really is a great one. One of my fave of the year.",
         "6.0",
         "9",
         "78",
         "0.2646992481203007",
         "0.4595196324143693",
         "0"
        ],
        [
         "58",
         null,
         "Horribly offensive to the Mexican public",
         "For me, being Mexican, it is very offensive, not only because Spanish is anything but Mexican, but because of the topics it deals with. It is like this if I gathered Mexican actors who do not know how to speak French and made them talk about the social problems of France and then said that I did not investigate anything about why I made this film and said that I did not even feel like investigating because I already knew everything about France because they represent a stereotypical and senseless Mexico. All they needed was the orange filter, the charro hats and the desert everywhere and I still dont understand why this is nominated for best movie.",
         "1.0",
         "131",
         "12",
         "0.0733333333333333",
         "0.2666666666666666",
         "-1"
        ],
        [
         "59",
         null,
         "Doctors can only do so much. They can fix bodies, but not souls.",
         "A devious yet frequently overlooked Mexico City defense attorney, Rita, attracts the attention of Manitas, a notorious drug lord and criminal mastermind. Manitas has an interesting request and one that Rita entertains at her peril. For staging his murder, secretly obtaining the perfect surgeon, and providing for his family, Manitas will make Rita rich. The trick is that he will be reborn as she; Emilia. Things go well for a time, but the past begins to creep back. Emilia misses her kids and wife, and doesnt like the new influences on their lives. Emilia struggles to live half in one life, and half in another.This combined narco-thriller, musical, romance, comedy, character-driven social piece, and gender affirmation drama is mind-blowing. The film bumps around to different and interesting locations around the world too. While the film has many plot twists, director Jacques Audiard maintains firm control of the narrative. I really admire and appreciate his work. It is amazing that a film can be so thrilling and funny, and yet manage to get in a plug about the 100,000 plus people who have disappeared in Mexico due to drug violence, but Audiard does it.True to the films multi-faceted and surprising nature, the actors won a combined award at the Cannes film festival for their roles .The film is intriguing and fascinating because it never loses sight of the human nature component. Emilias feelings are natural for what someone in her shoes might ask and wonder about. For example, was she really in love and did people love her? Further, I am enthralled with the French style, particularly its rawness. No one pulls any punches, and no censors are active with their censoring. Pride, truth, forgiveness, love, and more, are all on full display.",
         "9.0",
         "82",
         "477",
         "0.1896331738437001",
         "0.4608652312599681",
         "1"
        ],
        [
         "64",
         null,
         "Feels like college students made it as a project",
         "The plot is complete stupidity. Such an awful movie. At times the movie feels like a forced High School Play. No real actors besides Zoe Saldana. As much as I like Selena Gomez, this movie was too far a stretch for her. She cannot speak Spanish. As a native Spanish speaker, I needed to read the subtitles to understand what she was saying. The songs try to be emotional, but they end up being unrhythmic and non-storytelling disasters. How this movie could win so many Golden Globes is beyond my comprehension. Very distressed to see this movie receive any type of recognition. The ending tries to be tragic, but ends up leaving more questions than answers. What a mess. Dont watch this.",
         "1.0",
         "139",
         "14",
         "-0.00825",
         "0.46575",
         "-1"
        ],
        [
         "66",
         null,
         "TOO OFFENSIVE FOR MEXICANS",
         "This movie shouldnt be even nominated at all. Its offensive, who takes a serious subject from one country and decides to make it a musical? FRENCH.The director admitted not doing any research about Mexico and IT SHOWS. This movie is hideous and disrespectful to my country.Non of the actress/actors in the film are even Mexican. The songs are sloppy, bad acting, bad script, bad everything. And its not even released in Mexico? Its a joke to us.The dissapearences in Mexico are not for entertainment or your amusement. Take this movie down. Its bad.This thing didnt let me give 0 stars.",
         "1.0",
         "99",
         "9",
         "-0.3172222222222222",
         "0.4038888888888888",
         "-1"
        ],
        [
         "68",
         null,
         "Simply audacious, insane and incredible!",
         "This movie is full of excitement and emotion, I really love how different it was, I can say 100% sure that Ill take some years to watch something so different and at the same time incredible again. The plot is interesting enough to keep you tuned, some of the musical numbers were not my cup of tea but I dont think any of them was unnecessary, shout out to Bienvenida and El Mal, my favorites for sure.But lets get into the not perfect part, I think Jessi shouldve been more developed, I could understand her motivations but it left me begging for more.I love how Selena portrayed this crazy, insane and stressed ex wife, shes exactly how shes supposed to be.Zoe is extremely good and her charisma keeps it working.Karla, well, Karla is just spectacular, no words.Emilia Perez is indeed an insane movie, it has everything to go wrong, but its the opposite, it works beautifully. The director was really original and audacious while also brave, cause I can see a lot of people will see this and just laugh , its not for everyone . You have to be a 10 to go ahead and believe in your crazy ideas, or youll never know if it works or not. Well, Emilia Perezs 100% worked.",
         "6.0",
         "5",
         "45",
         "0.0874999999999999",
         "0.6287962962962964",
         "0"
        ],
        [
         "69",
         null,
         "This is an insult!",
         "This movie is horrible, is so disrespectful about mexican culture. The spanish is so awful, no one talks like that, is so difficult to understand what they are saying. There are no mexican actors in the movie. It shows how the director did not care about make a properly research. This films just gives cringe. I cant understand how this piece of garbage is nominated to Oscars, and had won some awards. And the people that is praising this movie does not know anything about the real sitaution, if not there is no way that this could have positive reactions. In resume this is an insult and shouldnt be considerarse as a great film.",
         "1.0",
         "90",
         "8",
         "-0.1272727272727272",
         "0.4695454545454545",
         "-1"
        ],
        [
         "70",
         null,
         "Brilliant",
         "I watched this masterpiece, as described by Micheal Mann on stage introducing the film, at the opening night of the American French Film Festival in LA. The theatre was full, supporters riding high from collecting accolades at Cannes all the way around to the film festivals circuit, with crew heads held high. And what applauds they deserve. The actors, the plot, the depths of emotion, camera shots and storytelling was absolutely brilliant. The dancing, moving, script, colors, visuals...its not about man meets woman, its about anything you want it to be. Those scenes were shot in Paris recreating the stress of Mexico City, just like the plot was meant for you to recreate it any which meaning you want it to give.",
         "10.0",
         "85",
         "522",
         "0.2616666666666666",
         "0.4383333333333333",
         "1"
        ],
        [
         "71",
         null,
         "Emilia The ganster and the love",
         "I didnt found the movie that bad to be honest but there are some things that bothered me during my time watching it .Im not really fan about how they balanced things between musical and serious moments: there are some times that i felt that even the actors didnt know how they performed when there was some serious moment or musical . Even the musical part i was not that fan : for me it was a lot of noise and it get pretty distracting when they revealing some part of the stories while singing . I was not a big fan of this.But for me the thing that i really enjoyed and i think the most interesting thing in that movie was that trio : Emilia , Jessi and Rita .It was very interesting because Emilia was a man before , she was the ex husband of Jessi and Rita know that .And after that it was an interesting game between all these elements : When Jessi announce she is getting married and will bring the kids with her in front of Emilia and us as a viewer we know who is Emilia and we know it will not go very well . And at the same time we know the movie will offer that confrontation between Jessi and Emilia and the truth will be revealed .I like that kind of suspense and when she knows , she knows .I love also that scene when Jessi , Rita and Emilia was on the phones and we saw how Rita tried to handle every person during the big problem between Emilia , Jessi .It have some interesting moments also all along but the beginning took some times to really give the real interest , in my opinion, in that movie .I was a little bit scared at first : i was very confusing and didnt understand what that movie was really about : the trailer didnt give too much info too . But after a few moments we know whats going to happen and it generate suspense and interest to the movie again but once again the musical part was not that necessary in my opinion and sometimes was too much distracting sadly.But i appreciate it anyway and found it a little bit long for what the movie is really about .So im still mixed feeling about this movie and its clearly not for everyone but i appreciate the trio Emilia, Rita, Jessi and i love the musical when it was Jessi who performed on the bed : it was very sensual .But what i love also its that we saw a lot of womens on screen and its a really good thing in my opinion and i enjoyed watching it . Despite not liking the musical part , i need to say that the visuals make it pleaseant anyway .We had also that side story about workers and bad conditions of work but it was not really that impactful in my opinion. There was also some moments where i felt also that the movie lack clearly of directions but its watchable and i think after a while when you will see what the movie is really about it will be suspensful and interesting despite a long and slow build .Good Anyway.",
         "6.0",
         "5",
         "46",
         "0.115440251572327",
         "0.3973899371069181",
         "0"
        ],
        [
         "72",
         null,
         "Mocking Reality, Zero Acting Skills, Little Little into the Middle, No Point, I'm Speechles, Waste of Money and Time",
         "I mean just because you brought 1 actress and 1 celebirty wont make your movie successful. I mean the producers or the writers couldnt decide which scenerio to choose, thats why they mixed it all together like a puke. Insult to the musical industry, insult to the sad realities, BIG INSULT TO THE PEOPLE WHO DEALT WITH THESE KIND OF SITUATIONS SUCH AS MURDER, LOOSING SOMEONE BECAUSE OF MURDER, MISSING FAMILY MEMBER, COVERING INNOCENT PEOPLES MURDER.Emilias charity work = Cringe show.I mean WHAT THE HECK DID I JUST WATCH!!!!Only Zoe Saldana can act, the rest is just very bad... I mean people study acting or musical theatre for years but nooo this is the cast that they came up.Selenas character could be foreigner directly instead of speaking Spanish and sometimes English.One of the worst movie I have ever seen.It is like first you ate an omlette, then ate waffle, then fish and chips, then baked alaska, then pizza and puked all of them.",
         "1.0",
         "82",
         "7",
         "-0.0829999999999999",
         "0.49",
         "-1"
        ],
        [
         "74",
         null,
         "Would a film have all those awards and nominations if it came from somewhere else?",
         "If we made a musical about 9/11 in Latin America, would it go so far in Hollywood?My rating goes beyond the acting performance, it has to do with a terrible script, a superficial and half-baked message and poor execution.For Latinos, it is a clear example of how disconnected Hollywood is not only from problems outside of them but also from the cultures that surround them. I mean, most of the movie takes place in Mexico City but it all feels like a caricature, not like it was done on purpose but it all feels caricatured due to a vast lack of knowledge of the city that was obviously had when making the movie . Ive never been to Mexico City and it still took me 5 seconds to realize that and again, the fact that it wasnt obvious to Hollywood is something that should worry them.The musical numbers feel strange and out of place, the conversations are not very fluid, they seem written by AI and the terrible Spanish makes it impossible to watch the film as a Latin American.I pirated the movie to watch it and I still want my money back.",
         "1.0",
         "118",
         "13",
         "-0.1359126984126984",
         "0.4677503052503052",
         "-1"
        ],
        [
         "76",
         null,
         "When you saw a couple of bad movies came this one",
         "In 2024, we witnessed two of the worst movies of the year: Madame Web and Joker 2. Just when we thought nothing could be worse, Emilia Perez came along.This film was intended to showcase Mexican actresses and be filmed in Mexico, yet none of that is evident throughout the movie. The director did not take the time to research the country he aimed to portray.As a musical, it falls flat; the music is quite mediocre-almost as if it were generated by ChatGPT-and the performances are largely disappointing, except Zoe Saldañas.This movie serves as a glaring example of how a film can insult the entire Latin American continent through its portrayal of our culture.It is incomprehensible how this film received 13 Oscar nominations.",
         "1.0",
         "68",
         "6",
         "-0.1972222222222222",
         "0.3666666666666666",
         "-1"
        ],
        [
         "77",
         null,
         "Non-stop thrill ride",
         "Hold her. Protect her.Me encanta la película.To say that I was sceptical of this movie would be an understatement. On paper, it shouldnt work, but never have I been gladder to be wrong. Fortunately, the film exceeded my expectations. Watching this movie is equivalent to getting a dose of heroin injected into your veins. The film blends in various genres at once and not only succeeds at it but outright knocks it out of the park and surpasses my lukewarm expectations. It starts off as a procedural drama and musical, then seamlessly transitions into a family drama, crime comedy, and thriller. The director doubles down and explores all these genres to their full extent. The film also suggests that it is kind of a gangster epos, telling the story of a cartel boss on a journey of self-discovery. Ever since he was a child, he dreamt of being someone else. It is strange to me that these kinds of people have those aspirations. I always think they lack empathy and are not very progressive. This might be quite narrow-minded of me to say and might land me in hot water with some people, but its what I believe and what I experienced. If that makes me out of touch, then so be it. Im not really involved with those kinds of people, but Im glad I was exposed to this otherworldly world. On a happier note, Selena Gomez is phenomenal and radiates beauty in this film.Selena Gomez has always been a terrific actress, but this movie takes it to a whole other level. Im a simple guy. If I see Selena Gomez singing and dancing in Spanish, it is an automatic five stars. She has never looked more beautiful. Its true what they say: you become more beautiful as you age. Ill always be a fan of Selena Gomez, no matter what. If her character in the movie wants to brutally torture her very close friend , then thats her pejorative.I cant wait to download the films soundtrack so I can listen to it on repeat. Im the kind of person who listens and obsesses over a song for months on end. The film can get quite dark at times, but the doom and gloom aspects are balanced out by the incredible and wholesome musical moments. The musical moments were without a doubt magnificent and flawlessly executed. The viewer is completely immersed in the diegetic world thanks to the thrilling and catchy songs.The ending is, to put it simply, heartbreaking. I never expected a happy ending, but I thought Emilias life would continue. Emilia/Manitas wanted to spare Jessi from the pain of their transgender operation. But I think they underestimated her, as is evident throughout the film, especially the unfortunate and tragic ending. The film really captures the transgender experience realistically. One might decree that the film is a clever commentary on transgender identity and how it impacts all the facets of their life.In a nutshell, the film is an adrenaline-fuelled spectacle with action, humour, suspense, thrills, and, not to forget, song and dance. It was difficult to ascertain the mood of the audience , but I think that most people enjoyed it like me. Its certainly a divisive film. Emilia Perez is the wackiest, surrealist, intoxicating original musical of the decade so far. It had everything you could possibly want from a film, making for a super fun and memorable cinema-going experience.Final verdict: 10/10The film kind of reminded me of this quote from Donald Trump: Now she wants to do transgender operations on illegal aliens that are in prison. This is a radical left liberal that would do this.",
         "10.0",
         "47",
         "332",
         "0.1813492063492063",
         "0.564670694148306",
         "1"
        ],
        [
         "79",
         null,
         "Just awful",
         "This is one of the -if not the- worst movie Ive ever seen, and Im not exaggerating. I even created an account just to write this. At one point during the film, I found myself wondering if it was so groundbreaking that I simply couldnt understand it.Its not just the much-discussed poor representation of Mexico, or the terrible Spanish spoken by most of the cast, or even the horrendous songs. The real problem is that the plot makes absolutely no sense. The movie touches on several themes but fails to explore any of them in depth. It feels as if they cut all the scenes that might have given the story some coherence or emotional weight, making it impossible to connect with or care about the characters.I honestly would love to know if the actors and production team genuinely liked the final result, because its still hard for me to believe that anyone could see this as a good movie. Its baffling.",
         "1.0",
         "29",
         "1",
         "-0.0476851851851851",
         "0.6138227513227513",
         "-1"
        ]
       ],
       "shape": {
        "columns": 9,
        "rows": 360
       }
      },
      "text/html": [
       "<div>\n",
       "<style scoped>\n",
       "    .dataframe tbody tr th:only-of-type {\n",
       "        vertical-align: middle;\n",
       "    }\n",
       "\n",
       "    .dataframe tbody tr th {\n",
       "        vertical-align: top;\n",
       "    }\n",
       "\n",
       "    .dataframe thead th {\n",
       "        text-align: right;\n",
       "    }\n",
       "</style>\n",
       "<table border=\"1\" class=\"dataframe\">\n",
       "  <thead>\n",
       "    <tr style=\"text-align: right;\">\n",
       "      <th></th>\n",
       "      <th>Movie</th>\n",
       "      <th>Title</th>\n",
       "      <th>Content</th>\n",
       "      <th>Rate</th>\n",
       "      <th>Upvotes</th>\n",
       "      <th>Downvotes</th>\n",
       "      <th>Polarity</th>\n",
       "      <th>Subjectivity</th>\n",
       "      <th>Sentiment</th>\n",
       "    </tr>\n",
       "  </thead>\n",
       "  <tbody>\n",
       "    <tr>\n",
       "      <th>0</th>\n",
       "      <td>NaN</td>\n",
       "      <td>The Worst representation of Mexico's actual dr...</td>\n",
       "      <td>I am Mexican, and I can tell you that this mov...</td>\n",
       "      <td>5.0</td>\n",
       "      <td>1122</td>\n",
       "      <td>116</td>\n",
       "      <td>-0.072917</td>\n",
       "      <td>0.370833</td>\n",
       "      <td>0</td>\n",
       "    </tr>\n",
       "    <tr>\n",
       "      <th>1</th>\n",
       "      <td>NaN</td>\n",
       "      <td>A Tone-Deaf Musical Disaster</td>\n",
       "      <td>Emilia Pérez has sparked significant controver...</td>\n",
       "      <td>4.0</td>\n",
       "      <td>20</td>\n",
       "      <td>2</td>\n",
       "      <td>0.041363</td>\n",
       "      <td>0.461892</td>\n",
       "      <td>0</td>\n",
       "    </tr>\n",
       "    <tr>\n",
       "      <th>2</th>\n",
       "      <td>NaN</td>\n",
       "      <td>okay, so</td>\n",
       "      <td>The problem with this movie is not Selenas Spa...</td>\n",
       "      <td>6.0</td>\n",
       "      <td>383</td>\n",
       "      <td>104</td>\n",
       "      <td>-0.019231</td>\n",
       "      <td>0.435897</td>\n",
       "      <td>0</td>\n",
       "    </tr>\n",
       "    <tr>\n",
       "      <th>4</th>\n",
       "      <td>NaN</td>\n",
       "      <td>Emilia Perez: Ambitious Themes, Incomplete Exe...</td>\n",
       "      <td>Emilia Perez isnt a bad movie, but it felt som...</td>\n",
       "      <td>6.0</td>\n",
       "      <td>186</td>\n",
       "      <td>128</td>\n",
       "      <td>0.111898</td>\n",
       "      <td>0.456105</td>\n",
       "      <td>0</td>\n",
       "    </tr>\n",
       "    <tr>\n",
       "      <th>6</th>\n",
       "      <td>NaN</td>\n",
       "      <td>Overhyped!</td>\n",
       "      <td>Emilia Pérez is, at best, just okay. It feels ...</td>\n",
       "      <td>6.0</td>\n",
       "      <td>59</td>\n",
       "      <td>38</td>\n",
       "      <td>0.281961</td>\n",
       "      <td>0.508480</td>\n",
       "      <td>0</td>\n",
       "    </tr>\n",
       "    <tr>\n",
       "      <th>...</th>\n",
       "      <td>...</td>\n",
       "      <td>...</td>\n",
       "      <td>...</td>\n",
       "      <td>...</td>\n",
       "      <td>...</td>\n",
       "      <td>...</td>\n",
       "      <td>...</td>\n",
       "      <td>...</td>\n",
       "      <td>...</td>\n",
       "    </tr>\n",
       "    <tr>\n",
       "      <th>472</th>\n",
       "      <td>NaN</td>\n",
       "      <td>An original Thriller with a twist</td>\n",
       "      <td>Emilia Perez is a 2024 Foreign LGBT Thriller s...</td>\n",
       "      <td>5.0</td>\n",
       "      <td>4</td>\n",
       "      <td>10</td>\n",
       "      <td>0.240278</td>\n",
       "      <td>0.554321</td>\n",
       "      <td>0</td>\n",
       "    </tr>\n",
       "    <tr>\n",
       "      <th>473</th>\n",
       "      <td>NaN</td>\n",
       "      <td>Good subject and acting ,but Bad Movie , Bad E...</td>\n",
       "      <td>Emilia Pérez is a 2024 Spanish language French...</td>\n",
       "      <td>5.0</td>\n",
       "      <td>3</td>\n",
       "      <td>8</td>\n",
       "      <td>0.131590</td>\n",
       "      <td>0.473103</td>\n",
       "      <td>0</td>\n",
       "    </tr>\n",
       "    <tr>\n",
       "      <th>475</th>\n",
       "      <td>NaN</td>\n",
       "      <td>Should not work on ANY level - yet has enough ...</td>\n",
       "      <td>First and foremost, this is a French film abou...</td>\n",
       "      <td>5.0</td>\n",
       "      <td>2</td>\n",
       "      <td>5</td>\n",
       "      <td>0.088027</td>\n",
       "      <td>0.483809</td>\n",
       "      <td>0</td>\n",
       "    </tr>\n",
       "    <tr>\n",
       "      <th>476</th>\n",
       "      <td>NaN</td>\n",
       "      <td>Tone-deaf in more than one sense.</td>\n",
       "      <td>I was stunned after watching Emilia Perez, but...</td>\n",
       "      <td>5.0</td>\n",
       "      <td>1</td>\n",
       "      <td>6</td>\n",
       "      <td>0.066786</td>\n",
       "      <td>0.427820</td>\n",
       "      <td>0</td>\n",
       "    </tr>\n",
       "    <tr>\n",
       "      <th>477</th>\n",
       "      <td>NaN</td>\n",
       "      <td>A wild entertaining ride that overwhelms itself.</td>\n",
       "      <td>It mixes so many ideas, themes and genres into...</td>\n",
       "      <td>5.0</td>\n",
       "      <td>2</td>\n",
       "      <td>20</td>\n",
       "      <td>0.180333</td>\n",
       "      <td>0.465952</td>\n",
       "      <td>0</td>\n",
       "    </tr>\n",
       "  </tbody>\n",
       "</table>\n",
       "<p>360 rows × 9 columns</p>\n",
       "</div>"
      ],
      "text/plain": [
       "     Movie                                              Title  \\\n",
       "0      NaN  The Worst representation of Mexico's actual dr...   \n",
       "1      NaN                       A Tone-Deaf Musical Disaster   \n",
       "2      NaN                                           okay, so   \n",
       "4      NaN  Emilia Perez: Ambitious Themes, Incomplete Exe...   \n",
       "6      NaN                                         Overhyped!   \n",
       "..     ...                                                ...   \n",
       "472    NaN                  An original Thriller with a twist   \n",
       "473    NaN  Good subject and acting ,but Bad Movie , Bad E...   \n",
       "475    NaN  Should not work on ANY level - yet has enough ...   \n",
       "476    NaN                  Tone-deaf in more than one sense.   \n",
       "477    NaN   A wild entertaining ride that overwhelms itself.   \n",
       "\n",
       "                                               Content  Rate  Upvotes  \\\n",
       "0    I am Mexican, and I can tell you that this mov...   5.0     1122   \n",
       "1    Emilia Pérez has sparked significant controver...   4.0       20   \n",
       "2    The problem with this movie is not Selenas Spa...   6.0      383   \n",
       "4    Emilia Perez isnt a bad movie, but it felt som...   6.0      186   \n",
       "6    Emilia Pérez is, at best, just okay. It feels ...   6.0       59   \n",
       "..                                                 ...   ...      ...   \n",
       "472  Emilia Perez is a 2024 Foreign LGBT Thriller s...   5.0        4   \n",
       "473  Emilia Pérez is a 2024 Spanish language French...   5.0        3   \n",
       "475  First and foremost, this is a French film abou...   5.0        2   \n",
       "476  I was stunned after watching Emilia Perez, but...   5.0        1   \n",
       "477  It mixes so many ideas, themes and genres into...   5.0        2   \n",
       "\n",
       "     Downvotes  Polarity  Subjectivity  Sentiment  \n",
       "0          116 -0.072917      0.370833          0  \n",
       "1            2  0.041363      0.461892          0  \n",
       "2          104 -0.019231      0.435897          0  \n",
       "4          128  0.111898      0.456105          0  \n",
       "6           38  0.281961      0.508480          0  \n",
       "..         ...       ...           ...        ...  \n",
       "472         10  0.240278      0.554321          0  \n",
       "473          8  0.131590      0.473103          0  \n",
       "475          5  0.088027      0.483809          0  \n",
       "476          6  0.066786      0.427820          0  \n",
       "477         20  0.180333      0.465952          0  \n",
       "\n",
       "[360 rows x 9 columns]"
      ]
     },
     "execution_count": 6,
     "metadata": {},
     "output_type": "execute_result"
    }
   ],
   "source": [
    "df_filtered"
   ]
  },
  {
   "cell_type": "code",
   "execution_count": 7,
   "metadata": {},
   "outputs": [
    {
     "data": {
      "text/plain": [
       "<Axes: ylabel='Frequency'>"
      ]
     },
     "execution_count": 7,
     "metadata": {},
     "output_type": "execute_result"
    },
    {
     "data": {
      "image/png": "[encoded data removed]",
      "text/plain": [
       "<Figure size 640x480 with 1 Axes>"
      ]
     },
     "metadata": {},
     "output_type": "display_data"
    }
   ],
   "source": [
    "# PLot distribution of sentiment\n",
    "df_filtered['Sentiment'].plot.hist(bins=3, alpha=0.5)"
   ]
  },
  {
   "cell_type": "code",
   "execution_count": 8,
   "metadata": {},
   "outputs": [
    {
     "name": "stderr",
     "output_type": "stream",
     "text": [
      "/var/folders/l8/7h5sfbjn2ng3kg7y8p21r8qr0000gn/T/ipykernel_26173/1842719313.py:2: SettingWithCopyWarning: \n",
      "A value is trying to be set on a copy of a slice from a DataFrame.\n",
      "Try using .loc[row_indexer,col_indexer] = value instead\n",
      "\n",
      "See the caveats in the documentation: https://pandas.pydata.org/pandas-docs/stable/user_guide/indexing.html#returning-a-view-versus-a-copy\n",
      "  df_filtered['Title_Content'] = df_filtered['Title'] + ' ' + df_filtered['Content']\n"
     ]
    },
    {
     "data": {
      "application/vnd.microsoft.datawrangler.viewer.v0+json": {
       "columns": [
        {
         "name": "index",
         "rawType": "int64",
         "type": "integer"
        },
        {
         "name": "Movie",
         "rawType": "float64",
         "type": "float"
        },
        {
         "name": "Title",
         "rawType": "object",
         "type": "string"
        },
        {
         "name": "Content",
         "rawType": "object",
         "type": "string"
        },
        {
         "name": "Rate",
         "rawType": "float64",
         "type": "float"
        },
        {
         "name": "Upvotes",
         "rawType": "int64",
         "type": "integer"
        },
        {
         "name": "Downvotes",
         "rawType": "int64",
         "type": "integer"
        },
        {
         "name": "Sentiment",
         "rawType": "int64",
         "type": "integer"
        },
        {
         "name": "Title_Content",
         "rawType": "object",
         "type": "string"
        }
       ],
       "conversionMethod": "pd.DataFrame",
       "ref": "b88166ec-39ce-433e-af2c-d060debaf9b7",
       "rows": [
        [
         "0",
         null,
         "The Worst representation of Mexico's actual drug problems",
         "I am Mexican, and I can tell you that this movie is an awful representation of the narcotics problem in Mexico. While the story initially seemed interesting, it quickly became ridiculous. The main premise of the film is that a cruel assassin drug lord becomes a martyr after losing his penis. Additionally, Selenas acting is subpar; she cant even speak Spanish well, despite being cast as a Mexican character. None of the main actors are Mexican, and their Spanish accents come from Spain and the Caribbean, and frankly incomprehensible in Selenas case.Overall, a good idea turned into a bad movie.",
         "5.0",
         "1122",
         "116",
         "0",
         "The Worst representation of Mexico's actual drug problems I am Mexican, and I can tell you that this movie is an awful representation of the narcotics problem in Mexico. While the story initially seemed interesting, it quickly became ridiculous. The main premise of the film is that a cruel assassin drug lord becomes a martyr after losing his penis. Additionally, Selenas acting is subpar; she cant even speak Spanish well, despite being cast as a Mexican character. None of the main actors are Mexican, and their Spanish accents come from Spain and the Caribbean, and frankly incomprehensible in Selenas case.Overall, a good idea turned into a bad movie."
        ],
        [
         "1",
         null,
         "A Tone-Deaf Musical Disaster",
         "Emilia Pérez has sparked significant controversy, and for good reason. From the outset, the lack of Mexican representation like a glaring oversight. The French directors admission that he didnt feel the need to research Mexico, paired with the casting directors claim that no talented Mexican actors could be found, only adds insult to injury. These choices reflect a tone-deaf and dismissive approach to authenticity.Whats even more baffling is how Emilia Pérez managed to garner so many Oscar nominations. While the Academy has a history of nominating films with problematic undertones , those at least offered stories that entertained broad audiences. Emilia Pérez, however, doesnt even accomplish that. The story is dull and lifeless, so much so that out of three of us who watched it, two fell asleep, and the third decided to switch to another movie.To make matters worse, Emilia Pérez is a musical - but not in a good way. The songs are forgettable at best and cringe-worthy at worst, and most of the cast can barely sing. The musical numbers, which should have been a highlight, drag the movie down even further.That said, there are a couple of redeeming elements. Zoe Saldaña and Karla Sofía Gascón deliver strong performances and truly dont deserve the backlash tied to the films broader issues. Their nominations are the only ones that feel genuinely earned. Unfortunately, the rest of the film is a mess.Overall, Emilia Pérez is an underwhelming, uninspired production that fails to justify the attention its received.",
         "4.0",
         "20",
         "2",
         "0",
         "A Tone-Deaf Musical Disaster Emilia Pérez has sparked significant controversy, and for good reason. From the outset, the lack of Mexican representation like a glaring oversight. The French directors admission that he didnt feel the need to research Mexico, paired with the casting directors claim that no talented Mexican actors could be found, only adds insult to injury. These choices reflect a tone-deaf and dismissive approach to authenticity.Whats even more baffling is how Emilia Pérez managed to garner so many Oscar nominations. While the Academy has a history of nominating films with problematic undertones , those at least offered stories that entertained broad audiences. Emilia Pérez, however, doesnt even accomplish that. The story is dull and lifeless, so much so that out of three of us who watched it, two fell asleep, and the third decided to switch to another movie.To make matters worse, Emilia Pérez is a musical - but not in a good way. The songs are forgettable at best and cringe-worthy at worst, and most of the cast can barely sing. The musical numbers, which should have been a highlight, drag the movie down even further.That said, there are a couple of redeeming elements. Zoe Saldaña and Karla Sofía Gascón deliver strong performances and truly dont deserve the backlash tied to the films broader issues. Their nominations are the only ones that feel genuinely earned. Unfortunately, the rest of the film is a mess.Overall, Emilia Pérez is an underwhelming, uninspired production that fails to justify the attention its received."
        ],
        [
         "2",
         null,
         "okay, so",
         "The problem with this movie is not Selenas Spanish, I dont find this movie particularly bad but some of the dialogue is really cringy and as a Mexican none of the people from here use the terms that were in the movie. The portrayal of Mexico in this film is very stereotypical and sometimes that isnt bad, but I think they should had cast real Latin writers and supervisors to make this movie more accurate and respectful to the country. The fact that the director doesnt speak Spanish or even English speaks volumes of the commitment to understanding what the movie is about and the emotions that triggers.Also the songs are horrible.The only thing salvageable is Zoe Saldañas performance.",
         "6.0",
         "383",
         "104",
         "0",
         "okay, so The problem with this movie is not Selenas Spanish, I dont find this movie particularly bad but some of the dialogue is really cringy and as a Mexican none of the people from here use the terms that were in the movie. The portrayal of Mexico in this film is very stereotypical and sometimes that isnt bad, but I think they should had cast real Latin writers and supervisors to make this movie more accurate and respectful to the country. The fact that the director doesnt speak Spanish or even English speaks volumes of the commitment to understanding what the movie is about and the emotions that triggers.Also the songs are horrible.The only thing salvageable is Zoe Saldañas performance."
        ],
        [
         "4",
         null,
         "Emilia Perez: Ambitious Themes, Incomplete Execution",
         "Emilia Perez isnt a bad movie, but it felt somewhat flat. At times, the story seemed too easy for the characters, lacking tension or conflict. Emilia, in particular, transforms into an overwhelmingly positive character, even though we know from the backstory that she wasnt always so good.The movie tackles a wide range of themes but struggles to fully explore them. Instead of diving deeply into any one idea, it spreads itself too thin, leaving several threads underdeveloped.As someone who doesnt typically enjoy musicals, this film didnt change my mind. However, I can appreciate that this was the directors vision, and I know many viewers will enjoy the musical elements. To its credit, some of the musical numbers were well done, especially those performed by Zoe Saldana. Her performance was a standout and arguably the films biggest revelation, elevating many scenes with her presence and talent.Overall, Emilia Perez is an enjoyable film. While I dont quite understand its acclaim at Cannes, it has its moments.",
         "6.0",
         "186",
         "128",
         "0",
         "Emilia Perez: Ambitious Themes, Incomplete Execution Emilia Perez isnt a bad movie, but it felt somewhat flat. At times, the story seemed too easy for the characters, lacking tension or conflict. Emilia, in particular, transforms into an overwhelmingly positive character, even though we know from the backstory that she wasnt always so good.The movie tackles a wide range of themes but struggles to fully explore them. Instead of diving deeply into any one idea, it spreads itself too thin, leaving several threads underdeveloped.As someone who doesnt typically enjoy musicals, this film didnt change my mind. However, I can appreciate that this was the directors vision, and I know many viewers will enjoy the musical elements. To its credit, some of the musical numbers were well done, especially those performed by Zoe Saldana. Her performance was a standout and arguably the films biggest revelation, elevating many scenes with her presence and talent.Overall, Emilia Perez is an enjoyable film. While I dont quite understand its acclaim at Cannes, it has its moments."
        ],
        [
         "6",
         null,
         "Overhyped!",
         "Emilia Pérez is, at best, just okay. It feels incredibly overhyped, and I honestly dont understand how its winning so many awards. Zoe Saldana delivers a strong performance, but the rest of the cast is just average.The film tries to mix crime, drama, and musical elements, but the execution is uneven. Some scenes drag, making the pacing feel sluggish, and the emotional moments often seem forced rather than genuine. While the cinematography and production design are impressive, the storytelling lacks depth. Its a film that aims high but doesnt fully deliver. A 6/10 for me-decent but forgettable.",
         "6.0",
         "59",
         "38",
         "0",
         "Overhyped! Emilia Pérez is, at best, just okay. It feels incredibly overhyped, and I honestly dont understand how its winning so many awards. Zoe Saldana delivers a strong performance, but the rest of the cast is just average.The film tries to mix crime, drama, and musical elements, but the execution is uneven. Some scenes drag, making the pacing feel sluggish, and the emotional moments often seem forced rather than genuine. While the cinematography and production design are impressive, the storytelling lacks depth. Its a film that aims high but doesnt fully deliver. A 6/10 for me-decent but forgettable."
        ],
        [
         "7",
         null,
         "Hard to watch",
         "Emilia Pérez is a musical that has sparked debate due to its themes and execution, particularly in Mexico, where its release has been surrounded by controversy. I watched it with an open mind, aware of its narrative, focus, and genre. However, I came away with mixed feelings, which I will break down into three key points: stereotypes, performances, and the script along with the songs.1. Stereotypes: Its impossible to discuss this movie without addressing its cultural treatment. From the very beginning, it feels more like a collection of clichés about Mexico than a genuine exploration of its culture. As a Mexican, Im not offended by stereotypes per se, but here, there seems to be no interest in delving deeper. It feels like a brainstorm of references-sombreros, skulls, and tequila-without adding anything meaningful to the narrative. This lack of authenticity turns the setting into a caricature. The production could have set the story in any other country, swapped these clichés for others, and it wouldnt have made much difference to the plot.2. Performances: Its interesting that the performances have been nominated for multiple awards. However, as a Spanish speaker, the accent and diction were constant distractions. The actresses seem to be trying hard, but the result fails to convey genuine emotions or connect with the audience. A crucial part of acting is mastering dialogue delivery, intonation, and how these elements evoke empathy or rejection toward the characters. This doesnt happen here. No character made me feel their story-I didnt suffer with them or celebrate their victories.3. Script and songs: The script, unfortunately, is one of the films weakest points. The dialogues feel as though they were mechanically translated into Spanish, riddled with errors in conjugation and awkward phrases. This extends to the songs, which fail to work as either music or narrative tools. In a good musical, the songs should integrate organically and move the story forward, but here, they feel forced, as if they were shoehorned into a pre-existing structure without concern for rhythm or coherence.4. The theme: The film touches on a sensitive nerve for Mexicans. Its complicated to humanize drug cartels in a country that suffers the direct consequences of violence, disappearances, and daily fear. The idea of portraying a drug lord as someone deserving of redemption, who wishes to transition to stay true to their identity and even becomes a benefactor of social causes, can feel insulting. For a foreign audience, it might be an interesting narrative, but for those living in the reality of drug-related violence, this idealization borders on indifference toward collective suffering.In conclusion, Emilia Pérez has some interesting technical elements and isolated moments worth noting, but as a whole, its not an enjoyable film. The lack of authenticity in its cultural representation, performances that fail to connect, and a weak script weigh it down too much. That said, cinema is subjective, and if this movie finds its audience, good for it. But for me, rather than being a captivating musical, it was a frustrating experience.",
         "1.0",
         "1017",
         "65",
         "-1",
         "Hard to watch Emilia Pérez is a musical that has sparked debate due to its themes and execution, particularly in Mexico, where its release has been surrounded by controversy. I watched it with an open mind, aware of its narrative, focus, and genre. However, I came away with mixed feelings, which I will break down into three key points: stereotypes, performances, and the script along with the songs.1. Stereotypes: Its impossible to discuss this movie without addressing its cultural treatment. From the very beginning, it feels more like a collection of clichés about Mexico than a genuine exploration of its culture. As a Mexican, Im not offended by stereotypes per se, but here, there seems to be no interest in delving deeper. It feels like a brainstorm of references-sombreros, skulls, and tequila-without adding anything meaningful to the narrative. This lack of authenticity turns the setting into a caricature. The production could have set the story in any other country, swapped these clichés for others, and it wouldnt have made much difference to the plot.2. Performances: Its interesting that the performances have been nominated for multiple awards. However, as a Spanish speaker, the accent and diction were constant distractions. The actresses seem to be trying hard, but the result fails to convey genuine emotions or connect with the audience. A crucial part of acting is mastering dialogue delivery, intonation, and how these elements evoke empathy or rejection toward the characters. This doesnt happen here. No character made me feel their story-I didnt suffer with them or celebrate their victories.3. Script and songs: The script, unfortunately, is one of the films weakest points. The dialogues feel as though they were mechanically translated into Spanish, riddled with errors in conjugation and awkward phrases. This extends to the songs, which fail to work as either music or narrative tools. In a good musical, the songs should integrate organically and move the story forward, but here, they feel forced, as if they were shoehorned into a pre-existing structure without concern for rhythm or coherence.4. The theme: The film touches on a sensitive nerve for Mexicans. Its complicated to humanize drug cartels in a country that suffers the direct consequences of violence, disappearances, and daily fear. The idea of portraying a drug lord as someone deserving of redemption, who wishes to transition to stay true to their identity and even becomes a benefactor of social causes, can feel insulting. For a foreign audience, it might be an interesting narrative, but for those living in the reality of drug-related violence, this idealization borders on indifference toward collective suffering.In conclusion, Emilia Pérez has some interesting technical elements and isolated moments worth noting, but as a whole, its not an enjoyable film. The lack of authenticity in its cultural representation, performances that fail to connect, and a weak script weigh it down too much. That said, cinema is subjective, and if this movie finds its audience, good for it. But for me, rather than being a captivating musical, it was a frustrating experience."
        ],
        [
         "8",
         null,
         "Fine, but there are two big problems with this",
         "This is an ambitious film that certainly succeeds in combining several genres. It is also a film that manages to fascinate and captivate for its whole, long running time.However, there are two major problems: First: the film is ridiculously moralistic.Second: it is absurd to believe that nobody would immediately question the identity and therefore the background of the main character. Her motivation is legit, she wants to make amends, but it is mindboggling that the filmmakers apparently thought it could go unquestioned when the protagonist, a mysterious woman in every respect, carelessly decides to enter the spotlight.",
         "6.0",
         "150",
         "120",
         "0",
         "Fine, but there are two big problems with this This is an ambitious film that certainly succeeds in combining several genres. It is also a film that manages to fascinate and captivate for its whole, long running time.However, there are two major problems: First: the film is ridiculously moralistic.Second: it is absurd to believe that nobody would immediately question the identity and therefore the background of the main character. Her motivation is legit, she wants to make amends, but it is mindboggling that the filmmakers apparently thought it could go unquestioned when the protagonist, a mysterious woman in every respect, carelessly decides to enter the spotlight."
        ],
        [
         "9",
         null,
         "WINNING AWARDS DON'T MAKE A FILM GREAT!",
         "Stupid film with stupid sentiment. Lot of the musicals doesnt fit and make sense at all. Felt forced kinda like Joker 2. Why was Rita selected, how she managed to do so many illegal stuff like an expert just with money, nohing explained! Can a lawyer do all of these? Anyways, I couldnt find any fault jn Gustavo. He didnt even know that Emilia was Manitas before his death! And after all that Emilia did, are we supposed to feel sorry for her? She was a cartel leader, did lots of bad stuff and at the end also did bad stuff forcing his children to stay with him without explaining anything to his wife! I feel bad for the kids. Their father ruined the whole family by running after his personal gains only. He never thought of anyone else but himself.And why is Rita always with them? I mean does she have no family or close ones? Rita and Emilia did lots of illegal stuff to get rich and the film tried to justify it by sentiment and emotion. And people are praising them for the NGO whereas they themselves are twisted. The song where Rita mocks the corrupt people also doesnt make sense as she herself did illegal stuffs to get rich!Some of the visuals are good and thats why Ive rated it higher, otherwise this is garbage.",
         "2.0",
         "145",
         "5",
         "-1",
         "WINNING AWARDS DON'T MAKE A FILM GREAT! Stupid film with stupid sentiment. Lot of the musicals doesnt fit and make sense at all. Felt forced kinda like Joker 2. Why was Rita selected, how she managed to do so many illegal stuff like an expert just with money, nohing explained! Can a lawyer do all of these? Anyways, I couldnt find any fault jn Gustavo. He didnt even know that Emilia was Manitas before his death! And after all that Emilia did, are we supposed to feel sorry for her? She was a cartel leader, did lots of bad stuff and at the end also did bad stuff forcing his children to stay with him without explaining anything to his wife! I feel bad for the kids. Their father ruined the whole family by running after his personal gains only. He never thought of anyone else but himself.And why is Rita always with them? I mean does she have no family or close ones? Rita and Emilia did lots of illegal stuff to get rich and the film tried to justify it by sentiment and emotion. And people are praising them for the NGO whereas they themselves are twisted. The song where Rita mocks the corrupt people also doesnt make sense as she herself did illegal stuffs to get rich!Some of the visuals are good and thats why Ive rated it higher, otherwise this is garbage."
        ],
        [
         "10",
         null,
         "Too many cooks in the kitchen",
         "Just finished watching Emilia Perez and it was fine I guess. There is a lot to like and dislike in this movie.Positives for Emilia Perez : The movie looks good with some great cinematography. The movie does get ambitious with the blending of genre thrown into the mix and I appreciate that. The performances from Zoe Saldana and Karla Sofia Gascon are very good. The musical numbers are fun to watch. And finally, I thought that the movie did a great job at telling its transgender story.Mixed for Emilia Perez : While the movie is certainly ambitious with its blending of genres, there are elements to this that felt out of place in this movie. The musical numbers feel like they just came out of nowhere and it felt jarring at times.Negatives for Emilia Perez : The movie is way too long and I feel that this movie couldve told its story with a shorter runtime. The movie lost my interest almost immediately and it just became background noise for me.Overall, I admired the filmmakers and actors for being ambitious with this movie, it just fully worked for me. However, I would still recommend this movie to people, if they are interested with this movie.",
         "6.0",
         "76",
         "123",
         "0",
         "Too many cooks in the kitchen Just finished watching Emilia Perez and it was fine I guess. There is a lot to like and dislike in this movie.Positives for Emilia Perez : The movie looks good with some great cinematography. The movie does get ambitious with the blending of genre thrown into the mix and I appreciate that. The performances from Zoe Saldana and Karla Sofia Gascon are very good. The musical numbers are fun to watch. And finally, I thought that the movie did a great job at telling its transgender story.Mixed for Emilia Perez : While the movie is certainly ambitious with its blending of genres, there are elements to this that felt out of place in this movie. The musical numbers feel like they just came out of nowhere and it felt jarring at times.Negatives for Emilia Perez : The movie is way too long and I feel that this movie couldve told its story with a shorter runtime. The movie lost my interest almost immediately and it just became background noise for me.Overall, I admired the filmmakers and actors for being ambitious with this movie, it just fully worked for me. However, I would still recommend this movie to people, if they are interested with this movie."
        ],
        [
         "11",
         null,
         "Is this a joke?",
         "As a Spanish native speaker i found this movie disrespectful and childish. The spanish speakers characters can barely pronounce two words, turning the whole script into an uncomfortable caricature. Although disguised as a modern production, they fall into the same errors of typecast Latinos into same old stereotypes. The only valuable thing is the attempt to offer something different by mixing a Spanish language film with a musical, however its execution becomes irritating to watch. Im sure any positive reviews must come from someone totally unfamiliar with the Spanish language, as this is a determining factor in making this film totally inedible and a endless meme material.",
         "1.0",
         "851",
         "59",
         "-1",
         "Is this a joke? As a Spanish native speaker i found this movie disrespectful and childish. The spanish speakers characters can barely pronounce two words, turning the whole script into an uncomfortable caricature. Although disguised as a modern production, they fall into the same errors of typecast Latinos into same old stereotypes. The only valuable thing is the attempt to offer something different by mixing a Spanish language film with a musical, however its execution becomes irritating to watch. Im sure any positive reviews must come from someone totally unfamiliar with the Spanish language, as this is a determining factor in making this film totally inedible and a endless meme material."
        ],
        [
         "13",
         null,
         "The movie has a lack of focus",
         "I think the film juggles too many themes, and none of them are fully explored, leaving the narrative feeling rushed and incomplete. And as a result, it feels like a collection of ideas rather than a cohesive story.I also didnt quite understand why it was framed as a musical-this choice felt disconnected from the rest of the story.The performances are solid, but the characters arent developed enough to create a lasting emotional connection.However, I really liked the cinematography, beautifully shot and visually captivating.To sum up, the movie leaves you wanting more depth and clarity.",
         "6.0",
         "39",
         "74",
         "0",
         "The movie has a lack of focus I think the film juggles too many themes, and none of them are fully explored, leaving the narrative feeling rushed and incomplete. And as a result, it feels like a collection of ideas rather than a cohesive story.I also didnt quite understand why it was framed as a musical-this choice felt disconnected from the rest of the story.The performances are solid, but the characters arent developed enough to create a lasting emotional connection.However, I really liked the cinematography, beautifully shot and visually captivating.To sum up, the movie leaves you wanting more depth and clarity."
        ],
        [
         "14",
         null,
         "I can't believe this has 13 Oscar nominees",
         "This movie is considered one of the best motion pictures of the past year? How? What a miserable experience. Why is this movie a musical? WHY? None of the songs do anything to advance the plot or tell us more about the characters, in fact the awful songwriting makes every scene with a song feel like instead of getting a deeper understanding of anything through song, the song is being used to tell us things that we can already see on screen and would be way more effectively communicated through better visual storytelling. The songs also dont really have any structure to them, they dont go anywhere. It genuinely feels like it was translated by Duolingo and the awful delivery of the lines doesnt help matters at all. Karla Gascón is fine...but not that fine to be nominated for an Oscar.",
         "1.0",
         "600",
         "45",
         "-1",
         "I can't believe this has 13 Oscar nominees This movie is considered one of the best motion pictures of the past year? How? What a miserable experience. Why is this movie a musical? WHY? None of the songs do anything to advance the plot or tell us more about the characters, in fact the awful songwriting makes every scene with a song feel like instead of getting a deeper understanding of anything through song, the song is being used to tell us things that we can already see on screen and would be way more effectively communicated through better visual storytelling. The songs also dont really have any structure to them, they dont go anywhere. It genuinely feels like it was translated by Duolingo and the awful delivery of the lines doesnt help matters at all. Karla Gascón is fine...but not that fine to be nominated for an Oscar."
        ],
        [
         "15",
         null,
         "Strangely bleak",
         "Enjoyable enough movie with two demanding leading roles and two supporting roles requiring excellent performers. The first two are played by Zoe Saldaña and Karla Sofia Gascón, the second two by Selena Gomez and Adriana Paz. This quartet shared the Best Actress award at Cannes 2024. They deserved it. Saldaña in particular is a revelation.Of writer-director Jacques Audiards previous films, Ive seen four , each memorable in their different ways. None of them prepared me for this one, so hats of to him for not getting stuck in a genre rut.Theres a lot of story and a lot of singing in Emilia Pérez. When the singing is paired with Damien Jalets incisive choreography, the effect is thrilling. Otherwise, the songs drag the movie down. They are musical-theatre lite, dont dig deep, so are not up to the dramatic demands put upon them. Theyre at their best in the rap-inclined numbers, where rhythm is the most important element.The moral of Emilia Pérez seems to be that we can never slough off the past, change who we are or what we want. Its a strangely bleak vision to present in a musical.",
         "6.0",
         "66",
         "141",
         "0",
         "Strangely bleak Enjoyable enough movie with two demanding leading roles and two supporting roles requiring excellent performers. The first two are played by Zoe Saldaña and Karla Sofia Gascón, the second two by Selena Gomez and Adriana Paz. This quartet shared the Best Actress award at Cannes 2024. They deserved it. Saldaña in particular is a revelation.Of writer-director Jacques Audiards previous films, Ive seen four , each memorable in their different ways. None of them prepared me for this one, so hats of to him for not getting stuck in a genre rut.Theres a lot of story and a lot of singing in Emilia Pérez. When the singing is paired with Damien Jalets incisive choreography, the effect is thrilling. Otherwise, the songs drag the movie down. They are musical-theatre lite, dont dig deep, so are not up to the dramatic demands put upon them. Theyre at their best in the rap-inclined numbers, where rhythm is the most important element.The moral of Emilia Pérez seems to be that we can never slough off the past, change who we are or what we want. Its a strangely bleak vision to present in a musical."
        ],
        [
         "16",
         null,
         "It's a caricature",
         "I am speechless... Im guessing all the positive reviews are from people who a) dont speak Spanish and b) wanted their caricatures of Mexicans and trans people confirmed.The dialogues are insufferable, no one speaks like that, the music is jarring, the accents are not good.The bad words sprinkled thought the movie feel so unnatural, not only because of the delivery, but how they are used. This was clearly written by somebody with some vague knowledge of Mexican culture, but definitely not enough to make something good.The only redeeming quality this movie has is that its undoubtedly pretty. Thats it.Mexican people should avoid it at all costs.",
         "2.0",
         "1093",
         "98",
         "-1",
         "It's a caricature I am speechless... Im guessing all the positive reviews are from people who a) dont speak Spanish and b) wanted their caricatures of Mexicans and trans people confirmed.The dialogues are insufferable, no one speaks like that, the music is jarring, the accents are not good.The bad words sprinkled thought the movie feel so unnatural, not only because of the delivery, but how they are used. This was clearly written by somebody with some vague knowledge of Mexican culture, but definitely not enough to make something good.The only redeeming quality this movie has is that its undoubtedly pretty. Thats it.Mexican people should avoid it at all costs."
        ],
        [
         "17",
         null,
         "Felt like a fever dream",
         "A musical about a cartel leader undergoing a transition into a female social activist was not on my Oscars bingo card. I am a bit confused on how it snagged a leading 13 Oscar nominations. I really wanted to like it but it felt all over the place, the story felt off somehow... not satisfying i suppose. The movie being a musical seemed really random and the songs were not that great. I dont want to be super negative because it did have some good moments with the acting, costumes/makeup, and some of the choreography. Zoe Saldana and Karla Sofia Gascón put on a great performance and I think that they are deserving of some recognition but I still cant get over the 13 nominations.",
         "6.0",
         "16",
         "37",
         "0",
         "Felt like a fever dream A musical about a cartel leader undergoing a transition into a female social activist was not on my Oscars bingo card. I am a bit confused on how it snagged a leading 13 Oscar nominations. I really wanted to like it but it felt all over the place, the story felt off somehow... not satisfying i suppose. The movie being a musical seemed really random and the songs were not that great. I dont want to be super negative because it did have some good moments with the acting, costumes/makeup, and some of the choreography. Zoe Saldana and Karla Sofia Gascón put on a great performance and I think that they are deserving of some recognition but I still cant get over the 13 nominations."
        ],
        [
         "18",
         null,
         "Everything but mexican",
         "Only money is capable of making someone consider this film a good representation of history, culture or anything, on its own or considering the Mexican context. The number of nominations and awards only demonstrates this, that the outpouring of money moves the vote. The Mexican majority itself finds the film disrespectful. A French director who thinks he knows enough about Mexican culture, an international cast with a Mexican actress who isnt even being considered in the awards campaign. Its simply bizarre and frightening that the film industry and academia genuinely consider this work.",
         "1.0",
         "552",
         "49",
         "-1",
         "Everything but mexican Only money is capable of making someone consider this film a good representation of history, culture or anything, on its own or considering the Mexican context. The number of nominations and awards only demonstrates this, that the outpouring of money moves the vote. The Mexican majority itself finds the film disrespectful. A French director who thinks he knows enough about Mexican culture, an international cast with a Mexican actress who isnt even being considered in the awards campaign. Its simply bizarre and frightening that the film industry and academia genuinely consider this work."
        ],
        [
         "19",
         null,
         "one word : flabbergasted",
         "Came to write this after seeing its gala screening at the London film festival.A wild, insane roller coaster of a film that mixes crime, comedy, musical and thriller all into one and succeeds with flying colours!The four actresses at the core are the strength and they were directed to perfection by Audiard.Karla plays her character pre transition and post as it comes to her naturally, having underdone it publicly as an actor. Its a powerhouse performance that is so of our time. Im proud to be alive in a time when a trans actress plays a trans role. And not only that, she nails it. The tragedy of leaving a life but the promise of the one shes always needed.Zoe gets to sing, dance, cry and laugh and everything which I think an actor dreams of doing, let alone in one film. I had never seen a film of hers before and I am so happy this was my first because she shines! Theres a scene of her in a car, where realising what has just transpired, she breaks down in hysteria. Think Margo in I, Tonya or Glenn in Dangerous Liasons. That scene alone should win her an Academy award. And she has a beautiful voice!Selena, for whom I was most excited to see this film, kicks it out of the ballpark. Playing a mob wife, that icy, storm-simmering-below-the-surface kind of woman which she needs to revisit IMO because as a young girl who endured intense scrutiny and then went through a psychosis, she knows it too well whats it like to keep a lid on too long. The one time during the screening where I felt I was having an out of body experience is where her character Jessi finally unleashes her emotions onto us the audience after years of being oppressed. The agony and anger is heard in her voice. Its evidence of why she has said acting is her true calling and how passionate she is about it. It would be stupid to still think shes a disney kid and still has something to prove. Her acting journey is truly so exciting as a fan of almost 2 decades.Lastly, Adrianas character is like the sunshine in the otherwise dark and twisted world the film lives in. She is poignant! And it perfectly complements the other 3 actresses work. She brings love and softness to the story through her work.One major thing to note is that this film is like an opera. It reminds one of the Umbrellas of Cherbourg, which was also almost entirely sung. Emotionally its definitely intense like one, with small moments of calm when you realise youre watching a film.The cinematography was brilliant. At the end of the film, selenas character lays almost unconscious on the passenger seat as her lover drives in rage. The way the camera pans across the car to her face... it felt like a painting, very poetic but tragic.So glad to have watched it before its netflix release. Its amazing when a film can make you feel like this. To take you out of your normal and drive you a bit crazy.",
         "9.0",
         "153",
         "840",
         "1",
         "one word : flabbergasted Came to write this after seeing its gala screening at the London film festival.A wild, insane roller coaster of a film that mixes crime, comedy, musical and thriller all into one and succeeds with flying colours!The four actresses at the core are the strength and they were directed to perfection by Audiard.Karla plays her character pre transition and post as it comes to her naturally, having underdone it publicly as an actor. Its a powerhouse performance that is so of our time. Im proud to be alive in a time when a trans actress plays a trans role. And not only that, she nails it. The tragedy of leaving a life but the promise of the one shes always needed.Zoe gets to sing, dance, cry and laugh and everything which I think an actor dreams of doing, let alone in one film. I had never seen a film of hers before and I am so happy this was my first because she shines! Theres a scene of her in a car, where realising what has just transpired, she breaks down in hysteria. Think Margo in I, Tonya or Glenn in Dangerous Liasons. That scene alone should win her an Academy award. And she has a beautiful voice!Selena, for whom I was most excited to see this film, kicks it out of the ballpark. Playing a mob wife, that icy, storm-simmering-below-the-surface kind of woman which she needs to revisit IMO because as a young girl who endured intense scrutiny and then went through a psychosis, she knows it too well whats it like to keep a lid on too long. The one time during the screening where I felt I was having an out of body experience is where her character Jessi finally unleashes her emotions onto us the audience after years of being oppressed. The agony and anger is heard in her voice. Its evidence of why she has said acting is her true calling and how passionate she is about it. It would be stupid to still think shes a disney kid and still has something to prove. Her acting journey is truly so exciting as a fan of almost 2 decades.Lastly, Adrianas character is like the sunshine in the otherwise dark and twisted world the film lives in. She is poignant! And it perfectly complements the other 3 actresses work. She brings love and softness to the story through her work.One major thing to note is that this film is like an opera. It reminds one of the Umbrellas of Cherbourg, which was also almost entirely sung. Emotionally its definitely intense like one, with small moments of calm when you realise youre watching a film.The cinematography was brilliant. At the end of the film, selenas character lays almost unconscious on the passenger seat as her lover drives in rage. The way the camera pans across the car to her face... it felt like a painting, very poetic but tragic.So glad to have watched it before its netflix release. Its amazing when a film can make you feel like this. To take you out of your normal and drive you a bit crazy."
        ],
        [
         "20",
         null,
         "Jacques Audiard tried to do too much",
         "Its a musical trans crime drama set in modern times in Mexico, Bangkok, Tel Aviv, Switzerland, and London, England. The two main characters are a Mexican lawyer, Rita Mora Castro , and a vicious cartel drug lord, Juan Manitas . Manitas has a wife, Jessi , and two children. After the film demonstrates Ritas legal capabilities, Manitas hires her to perform a service--find a surgeon willing to perform gender-affirming surgery secretly. Rita is also to resettle his family in Switzerland while Manitas fakes his death and becomes Emelia Pérez.Four years later, Emelia wants her children to live with her as their aunt in Mexico. Rita is again enlisted to assist with things. The film follows this initially successful transition that begins to sour as Jessi pursues a relationship with Gustavo and Emelia explores a relationship with Epifanía . It ends badly.With that plot, its hard to see musical numbers sustaining it. They mostly dont, except for one riveting dance number at a fundraising dinner by Zoe Saldana. The cinematography is occasionally stunning, but the plot jumps from scene to scene with many unresolved issues, e.g., why did the shootout end, and how did Emelia continue to function safely with drug lords after her transition? Jacques Audiard tried to do too much, and it didnt succeed.Zoe Saldana and Karla Sofia Gascón do very well; the direction is the issue.",
         "6.0",
         "26",
         "83",
         "0",
         "Jacques Audiard tried to do too much Its a musical trans crime drama set in modern times in Mexico, Bangkok, Tel Aviv, Switzerland, and London, England. The two main characters are a Mexican lawyer, Rita Mora Castro , and a vicious cartel drug lord, Juan Manitas . Manitas has a wife, Jessi , and two children. After the film demonstrates Ritas legal capabilities, Manitas hires her to perform a service--find a surgeon willing to perform gender-affirming surgery secretly. Rita is also to resettle his family in Switzerland while Manitas fakes his death and becomes Emelia Pérez.Four years later, Emelia wants her children to live with her as their aunt in Mexico. Rita is again enlisted to assist with things. The film follows this initially successful transition that begins to sour as Jessi pursues a relationship with Gustavo and Emelia explores a relationship with Epifanía . It ends badly.With that plot, its hard to see musical numbers sustaining it. They mostly dont, except for one riveting dance number at a fundraising dinner by Zoe Saldana. The cinematography is occasionally stunning, but the plot jumps from scene to scene with many unresolved issues, e.g., why did the shootout end, and how did Emelia continue to function safely with drug lords after her transition? Jacques Audiard tried to do too much, and it didnt succeed.Zoe Saldana and Karla Sofia Gascón do very well; the direction is the issue."
        ],
        [
         "21",
         null,
         "UNWATCHABLE",
         "As a Mexican and a musician, Emilia Perez was an absolute assault on my ears. The songs were atrociously written and horribly performed-an unbearable disaster from start to finish. The Spanish dialogue? Completely unintelligible, thanks to ridiculous accents and what seemed like Google Translate-level writing. Seriously, who thought this was acceptable?The story might have had some potential, but even that was destroyed by how horribly written it was. Any shred of creativity was drowned in a sea of incompetence. This isnt just a bad movie; its an insult to anyone who appreciates decent filmmaking. A complete and utter failure.",
         "1.0",
         "231",
         "20",
         "-1",
         "UNWATCHABLE As a Mexican and a musician, Emilia Perez was an absolute assault on my ears. The songs were atrociously written and horribly performed-an unbearable disaster from start to finish. The Spanish dialogue? Completely unintelligible, thanks to ridiculous accents and what seemed like Google Translate-level writing. Seriously, who thought this was acceptable?The story might have had some potential, but even that was destroyed by how horribly written it was. Any shred of creativity was drowned in a sea of incompetence. This isnt just a bad movie; its an insult to anyone who appreciates decent filmmaking. A complete and utter failure."
        ],
        [
         "23",
         null,
         "Doesn't live up to its first act",
         "I really enjoy how director Jacques Audiard can embrace genre films, something that stands out in French filmmaking. You never know what to expect next with him, and certainly not a Spanish-language musical set in Mexico and featuring a trans mob boss.Its also interesting to see how the movie does not so much deal with transsexuality or identity but rather use that story as a starting point to ask whether people can change. Whether a criminal rotten to his/her core can become another person, and whether they can truly ever atone for their crimes. Beyond sex and gender, can you change your soul?That being said, the movie ultimately disappoints by leaving that theme aside in its last act, for the benefit of a rather bland kidnapping storyline. You feel like that our master criminal is sliding back toward their old violent habits... until the story drops the ball and goes in a disappointing direction. I was really looking forward to the resolution, a sign that the film was working for me, until I realized there was nothing more to expect from this movie. What a waste.The plot also sacrifices the Zoe Saldana character, who at first appears to be the protagonist, until she fades aways in the background. This points again at a screenplay that is good on buildup but weak on payoff.",
         "6.0",
         "18",
         "67",
         "0",
         "Doesn't live up to its first act I really enjoy how director Jacques Audiard can embrace genre films, something that stands out in French filmmaking. You never know what to expect next with him, and certainly not a Spanish-language musical set in Mexico and featuring a trans mob boss.Its also interesting to see how the movie does not so much deal with transsexuality or identity but rather use that story as a starting point to ask whether people can change. Whether a criminal rotten to his/her core can become another person, and whether they can truly ever atone for their crimes. Beyond sex and gender, can you change your soul?That being said, the movie ultimately disappoints by leaving that theme aside in its last act, for the benefit of a rather bland kidnapping storyline. You feel like that our master criminal is sliding back toward their old violent habits... until the story drops the ball and goes in a disappointing direction. I was really looking forward to the resolution, a sign that the film was working for me, until I realized there was nothing more to expect from this movie. What a waste.The plot also sacrifices the Zoe Saldana character, who at first appears to be the protagonist, until she fades aways in the background. This points again at a screenplay that is good on buildup but weak on payoff."
        ],
        [
         "24",
         null,
         "Overhyped a cringey mess",
         "The portrayal of Mexico is a caricature, riddled with lazy stereotypes - other than the mum saying her son teacher was missing - so it covers a couple of violent headline news, but far from a full critic of why it happens. The fact that not a single Mexican actor graces the screen, a slap in the face to a rich culture and talented performers dealing with difficult themes.The music? An offensive assault on the ears. Its as if the composers Googled Mexican music and slapped together the first five results. No soul, no nuance, just a jarring cacophony. Sorry but hasta mi pinche vulva te extraña is so cringey in spanish!And the trans representation? The film reduces a complex and nuanced identity to a cheap plot device, lacking any genuine depth or respect into a couple of poorly written songs about de pene a vagina.Emilia Pérez is not just a bad movie, its an insult.",
         "1.0",
         "384",
         "38",
         "-1",
         "Overhyped a cringey mess The portrayal of Mexico is a caricature, riddled with lazy stereotypes - other than the mum saying her son teacher was missing - so it covers a couple of violent headline news, but far from a full critic of why it happens. The fact that not a single Mexican actor graces the screen, a slap in the face to a rich culture and talented performers dealing with difficult themes.The music? An offensive assault on the ears. Its as if the composers Googled Mexican music and slapped together the first five results. No soul, no nuance, just a jarring cacophony. Sorry but hasta mi pinche vulva te extraña is so cringey in spanish!And the trans representation? The film reduces a complex and nuanced identity to a cheap plot device, lacking any genuine depth or respect into a couple of poorly written songs about de pene a vagina.Emilia Pérez is not just a bad movie, its an insult."
        ],
        [
         "26",
         null,
         "Ignorance is bliss... But it's still ignorance.",
         "The music is awful The characters are awful Representation is awful Privileged people thinking how exotic is to live in a country full of violence as if it was the wild west.Devoid of the logical rationality behind human rights.Finally, making the literal comparison of a cartel leader becoming a SAINT.They absolutely have no idea of the real world.Even from the title they thought of the most common stereotypical name...Also its really ironic how they used Google translate but couldnt use google search. Im not even asking for realism, just for them to show they didnt do less than minimum effort.",
         "1.0",
         "263",
         "24",
         "-1",
         "Ignorance is bliss... But it's still ignorance. The music is awful The characters are awful Representation is awful Privileged people thinking how exotic is to live in a country full of violence as if it was the wild west.Devoid of the logical rationality behind human rights.Finally, making the literal comparison of a cartel leader becoming a SAINT.They absolutely have no idea of the real world.Even from the title they thought of the most common stereotypical name...Also its really ironic how they used Google translate but couldnt use google search. Im not even asking for realism, just for them to show they didnt do less than minimum effort."
        ],
        [
         "27",
         null,
         "Outstanding",
         "This film is unique in every way possible. To take such a story as this and add music seemed so bizarre and should not work. However the incredible performances of both Saldana and Gascon drew me in. I cant believe how I fell in love with Amelia Perez because one shouldnt but I did.The music too was emotive especially Papa sung by Amelias son.I dont understand the negative reviews but I do understand why it has been nominated for so many Academy Awards.Only in very well thought out films can one be sucked into caring for a character which in life one really should not.This film is about truth and redemption as much as it is about understanding our own identities.",
         "10.0",
         "7",
         "18",
         "1",
         "Outstanding This film is unique in every way possible. To take such a story as this and add music seemed so bizarre and should not work. However the incredible performances of both Saldana and Gascon drew me in. I cant believe how I fell in love with Amelia Perez because one shouldnt but I did.The music too was emotive especially Papa sung by Amelias son.I dont understand the negative reviews but I do understand why it has been nominated for so many Academy Awards.Only in very well thought out films can one be sucked into caring for a character which in life one really should not.This film is about truth and redemption as much as it is about understanding our own identities."
        ],
        [
         "28",
         null,
         "a very mixed bag",
         "The critiques of this movie as inauthentic and cringy are not wrong. In particular the music was really bad, the songs are barely songs, theyre more like chants. On the other hand this movie tells a unique story and has great preformances by Zoe Saldana and Karla Gascon. Zaldana in particular is the only one who is entertaining in her musical numbers becuase she is actually a good dancer and a comelling preformer. I almost felt sorry for Selena Gomez how could she look good when her songs and dialouge were so bad? But Saldana and Gascon kept me watching until the end. I think this would have been much better as a drama and not a musical. And as for people who will say that this is not Mexican, well they are right about that.",
         "6.0",
         "8",
         "31",
         "0",
         "a very mixed bag The critiques of this movie as inauthentic and cringy are not wrong. In particular the music was really bad, the songs are barely songs, theyre more like chants. On the other hand this movie tells a unique story and has great preformances by Zoe Saldana and Karla Gascon. Zaldana in particular is the only one who is entertaining in her musical numbers becuase she is actually a good dancer and a comelling preformer. I almost felt sorry for Selena Gomez how could she look good when her songs and dialouge were so bad? But Saldana and Gascon kept me watching until the end. I think this would have been much better as a drama and not a musical. And as for people who will say that this is not Mexican, well they are right about that."
        ],
        [
         "29",
         null,
         "Honestly one of worst films ever made",
         "As a Mexican this is painful tu watch, as a film lover this es dreadful, if you are going to make a movie about Mexico, HIRE MEXICAN ACTORS! The slang is terrible, not even accurate, is like listening to children cursing !If you dont speak Spanish, if you have a terrible image of Mexico and if youve never travel here because you are afraid youll get killed, this is a movie for you!If you been to this beautiful country and if you understand our language you would agree with me : Esta película no representa a México, ni a su gente, ni a su situación y mucho menos a nuestro idioma.With that being said, the movie just doesnt work, there is no chemistry between the characters , the story goes nowhere , it is one of the worst movies out there , I swear this is not hate, its Just Terrible.",
         "1.0",
         "327",
         "32",
         "-1",
         "Honestly one of worst films ever made As a Mexican this is painful tu watch, as a film lover this es dreadful, if you are going to make a movie about Mexico, HIRE MEXICAN ACTORS! The slang is terrible, not even accurate, is like listening to children cursing !If you dont speak Spanish, if you have a terrible image of Mexico and if youve never travel here because you are afraid youll get killed, this is a movie for you!If you been to this beautiful country and if you understand our language you would agree with me : Esta película no representa a México, ni a su gente, ni a su situación y mucho menos a nuestro idioma.With that being said, the movie just doesnt work, there is no chemistry between the characters , the story goes nowhere , it is one of the worst movies out there , I swear this is not hate, its Just Terrible."
        ],
        [
         "30",
         null,
         "Better than Joker 2, at least.",
         "Its interesting coming to Emilia Perez late, after its caused the stir it has. Watching the film, I was often thinking about whats rubbed people the wrong way, and different things that rubbed different people the wrong way. Lots of it can be interpreted charitably or cynically. Even then, how much of it is really supposed to be cynical is up to interpretation.But its already an overwhelming movie to think about, so I want to focus on what I personally liked and disliked. Im not going to passionately defend the film, but Im also not going to tear it to pieces.I thought it was an interesting film, I appreciated its boldness, I thought some of the acting was good , and some of its thrilling to watch. Its a movie that only sometimes comes alive, but I liked the energy in those scenes that did work. Its a movie that does a lot and asks questions in a way that obviously some people will respond well to and some people will lash out against. I think the film wants to be challenging.Still, even with that intent, Emilia Perez does sometimes feel confused in ways that might not be intentional. Some songs are clunky and repetitive, the editing is bad at times, and the narrative doesnt flow well. All three characters often feel like theyre off doing their own thing in their own movies, and jumping between each one sometimes felt head-scratching.It feels like a film where the people behind it wanted to do a lot, but mightve been overconfident, or more lost than they realised/wanted to admit. Its an imperfect shock not to the system, but to so many systems, and I dont know how many systems/things it was targeting necessarily.Thinking about this film wears me out , but I think for better or worse, itll kind of stick with me. I dont know if I want it to for too long. But I can say this: I dont think I regret watching it.",
         "6.0",
         "8",
         "31",
         "0",
         "Better than Joker 2, at least. Its interesting coming to Emilia Perez late, after its caused the stir it has. Watching the film, I was often thinking about whats rubbed people the wrong way, and different things that rubbed different people the wrong way. Lots of it can be interpreted charitably or cynically. Even then, how much of it is really supposed to be cynical is up to interpretation.But its already an overwhelming movie to think about, so I want to focus on what I personally liked and disliked. Im not going to passionately defend the film, but Im also not going to tear it to pieces.I thought it was an interesting film, I appreciated its boldness, I thought some of the acting was good , and some of its thrilling to watch. Its a movie that only sometimes comes alive, but I liked the energy in those scenes that did work. Its a movie that does a lot and asks questions in a way that obviously some people will respond well to and some people will lash out against. I think the film wants to be challenging.Still, even with that intent, Emilia Perez does sometimes feel confused in ways that might not be intentional. Some songs are clunky and repetitive, the editing is bad at times, and the narrative doesnt flow well. All three characters often feel like theyre off doing their own thing in their own movies, and jumping between each one sometimes felt head-scratching.It feels like a film where the people behind it wanted to do a lot, but mightve been overconfident, or more lost than they realised/wanted to admit. Its an imperfect shock not to the system, but to so many systems, and I dont know how many systems/things it was targeting necessarily.Thinking about this film wears me out , but I think for better or worse, itll kind of stick with me. I dont know if I want it to for too long. But I can say this: I dont think I regret watching it."
        ],
        [
         "34",
         null,
         "This was soooo bad!!",
         "As a Spanish native speaker, this was very hard to watch!! The songs are boring and lack good lyrics, it just repeats the same phrase over and over... its a poorly representation of Mexican culture, almost like a joke. The concept was actually decent but honestly I dont know what happened in the execution and script.I fight myself to dont fall sleep because I honestly thought that itll get better in some point hahaa but I was wrong!A total waste of time, dont bother watching this.",
         "1.0",
         "156",
         "12",
         "-1",
         "This was soooo bad!! As a Spanish native speaker, this was very hard to watch!! The songs are boring and lack good lyrics, it just repeats the same phrase over and over... its a poorly representation of Mexican culture, almost like a joke. The concept was actually decent but honestly I dont know what happened in the execution and script.I fight myself to dont fall sleep because I honestly thought that itll get better in some point hahaa but I was wrong!A total waste of time, dont bother watching this."
        ],
        [
         "36",
         null,
         "Truly abysmal",
         "I want to be clear. I agree this movie is denigrating to the Mexican community and the trans community which by itself makes it an absolute disgrace. As a movie by itself it is truly one of the biggest pieces of garbage I have ever seen. Zoe Saldana is fine, but the acting from every other person is quite frankly abhorrent. Selena Gomez is truly shocking in both her grasp of Spanish and her singing. How this movie has garnered so much critical praise is beyond me. I feel it serves as a huge reminder with how deluded Hollywood is. Do not waste your time with this. You will wish you could have the time back.",
         "1.0",
         "332",
         "33",
         "-1",
         "Truly abysmal I want to be clear. I agree this movie is denigrating to the Mexican community and the trans community which by itself makes it an absolute disgrace. As a movie by itself it is truly one of the biggest pieces of garbage I have ever seen. Zoe Saldana is fine, but the acting from every other person is quite frankly abhorrent. Selena Gomez is truly shocking in both her grasp of Spanish and her singing. How this movie has garnered so much critical praise is beyond me. I feel it serves as a huge reminder with how deluded Hollywood is. Do not waste your time with this. You will wish you could have the time back."
        ],
        [
         "38",
         null,
         "Original but not without flaws",
         "Original movie with a lot of creativity.The good: you get some insight of transgenders, spanish musical singing , actrice zoe and karla, the setting and the way you can feel the mexico vibe, some parts of the story where you can clearly feel the quality of the director, the movie is very orginial.The bad: the biggest problem is that they portray a drugs maffia lord, responsible for 10000 deaths or missing, later on as a good house wife with a good moral sense. That is just a big clap in the face of all people who lost someone because of the drugs wars in reality. The whole basis of this movie just feels wrong and without respect to those people.What is more bad? It is too long, selena gomez , all main actrices are woman , script, story line and a clear goal or motive is missing. What is the point or goal off any of the 3 main actrices of this movie? There is none.Just a 6 out of 10.",
         "6.0",
         "17",
         "116",
         "0",
         "Original but not without flaws Original movie with a lot of creativity.The good: you get some insight of transgenders, spanish musical singing , actrice zoe and karla, the setting and the way you can feel the mexico vibe, some parts of the story where you can clearly feel the quality of the director, the movie is very orginial.The bad: the biggest problem is that they portray a drugs maffia lord, responsible for 10000 deaths or missing, later on as a good house wife with a good moral sense. That is just a big clap in the face of all people who lost someone because of the drugs wars in reality. The whole basis of this movie just feels wrong and without respect to those people.What is more bad? It is too long, selena gomez , all main actrices are woman , script, story line and a clear goal or motive is missing. What is the point or goal off any of the 3 main actrices of this movie? There is none.Just a 6 out of 10."
        ],
        [
         "39",
         null,
         "Worst Movie ever watched & Wasted of time",
         "Seriously??? This movie is such a joke! It literally lacks authentic representation of mexico?? As a mexican, i am deeply offended this movie is poorly directed and written. I was originallly very passionate and excited for this movie, but after watching this, it just upsets and offend me... On top of that, how did this film get nominated for oscar?? Anyone with a good pair of eyes could see this film has nothing good at all, especially the plot, what in the world is it?? It is ridicoulous, does not make any sense and again RIDICULOUS. Please do not spend time watching this movie, it is a complete waste of time.",
         "2.0",
         "180",
         "15",
         "-1",
         "Worst Movie ever watched & Wasted of time Seriously??? This movie is such a joke! It literally lacks authentic representation of mexico?? As a mexican, i am deeply offended this movie is poorly directed and written. I was originallly very passionate and excited for this movie, but after watching this, it just upsets and offend me... On top of that, how did this film get nominated for oscar?? Anyone with a good pair of eyes could see this film has nothing good at all, especially the plot, what in the world is it?? It is ridicoulous, does not make any sense and again RIDICULOUS. Please do not spend time watching this movie, it is a complete waste of time."
        ],
        [
         "42",
         null,
         "WORST MOVIE OF THE WHOLE DECADE OR MAYBE LIFE!",
         "This movie is a complete disaster. The music is terrible, the singing is unbearable, the storyline is shallow and nonsensical, and the acting is completely flat. Its filled with bad references and cringeworthy moments that make it feel like a parody of itself. A true humiliation for Mexican cinema and culture. The fact that it received nominations and awards only proves how biased and sold-out these institutions are. Dont waste your time on this movie. There are plenty of better films out there. Avoid it at all costs. Watch anything else instead; even the worst low-budget movies have more heart and effort than this mess.",
         "1.0",
         "213",
         "19",
         "-1",
         "WORST MOVIE OF THE WHOLE DECADE OR MAYBE LIFE! This movie is a complete disaster. The music is terrible, the singing is unbearable, the storyline is shallow and nonsensical, and the acting is completely flat. Its filled with bad references and cringeworthy moments that make it feel like a parody of itself. A true humiliation for Mexican cinema and culture. The fact that it received nominations and awards only proves how biased and sold-out these institutions are. Dont waste your time on this movie. There are plenty of better films out there. Avoid it at all costs. Watch anything else instead; even the worst low-budget movies have more heart and effort than this mess."
        ],
        [
         "45",
         null,
         "Failed to commit to any of its premises",
         "Emilia Perez Is a drama thriller musical centred around a cartel boss and their lawyer. Whist I was somewhat invested throughout the film, my main issue is that it did not commit to any of its premises which left the experience feeling very surface level with the most memorable part being that it tried to combine several genres together.It didnt commit to being a thriller which meant there was nothing fresh regarding these elements. The plot allowed allowing anything that might have been intriguing to simply happen by chance which removed the tension from these scenes. The musical numbers werent particularly entertaining and the drama concerning the protagonist wasnt explored in a way that gave me meaningful insight into the character and their emotions. So whilst the mishmash of genres was intriguing, little else was memorable with the exception of Zoe Saldanas performance.",
         "6.0",
         "2",
         "6",
         "0",
         "Failed to commit to any of its premises Emilia Perez Is a drama thriller musical centred around a cartel boss and their lawyer. Whist I was somewhat invested throughout the film, my main issue is that it did not commit to any of its premises which left the experience feeling very surface level with the most memorable part being that it tried to combine several genres together.It didnt commit to being a thriller which meant there was nothing fresh regarding these elements. The plot allowed allowing anything that might have been intriguing to simply happen by chance which removed the tension from these scenes. The musical numbers werent particularly entertaining and the drama concerning the protagonist wasnt explored in a way that gave me meaningful insight into the character and their emotions. So whilst the mishmash of genres was intriguing, little else was memorable with the exception of Zoe Saldanas performance."
        ],
        [
         "46",
         null,
         "Ridiculous, offensive, pretentious garbage",
         "Is this the plot of an episode of South Park?No! Its your new pretentious french Director mix of unique not talked about enough before themes into one piece of offensive exploiting of controversial made for bold american critics who want to see something different than their regular blockbuster jokes on them, the end with the car crash was so hollywood, but instead of doing a critic on how ridiculous cinema is when treating these themes with comedy, its such a poor intent, that it gets offensive...Lets put a transexual narco who wants to reedem itself by trying to help the poor mexicans who lost their relatives then they belive she is a goddess herself? In what world this is a good idea? This is offensive, the stereotypes are too high, why lucrate with a theme so delicate as the people who is lost bc narcotrafic? This is a sensitive theme in Mexico, you put this into a comedy?Lets laugh about a tragedy in the US in a comedy with french actors then? Would the academy like that?Zoe Saldaña is an incredible Actor who shouldnt have been involved in this mess. Withouth her, this movie would be in the garbage where it belongs. Of course they needed Selena for audiences too.If they didnt had them, or similar actresses hot on Hollywood, this mediocre film wouldnt be as famous as it is.In the end scene, this movie puts a red ribbon into the hate for Mexicans, making the bad stereotypes as strong as in a Trump speech, Dumb Mexicans would idolize a Martir even if she was a Narco seriously? Did the director saw a December 9 video of La basilica de Guadalupe and tought Mexicans love to pray to a plastic figure?Offensive piece of crap with ridiculous attempt of Mexican representation, so cringy to watch, so ridiculous that is praised for first world critics who dont have a slightly idea of what Mexico is.",
         "1.0",
         "311",
         "32",
         "-1",
         "Ridiculous, offensive, pretentious garbage Is this the plot of an episode of South Park?No! Its your new pretentious french Director mix of unique not talked about enough before themes into one piece of offensive exploiting of controversial made for bold american critics who want to see something different than their regular blockbuster jokes on them, the end with the car crash was so hollywood, but instead of doing a critic on how ridiculous cinema is when treating these themes with comedy, its such a poor intent, that it gets offensive...Lets put a transexual narco who wants to reedem itself by trying to help the poor mexicans who lost their relatives then they belive she is a goddess herself? In what world this is a good idea? This is offensive, the stereotypes are too high, why lucrate with a theme so delicate as the people who is lost bc narcotrafic? This is a sensitive theme in Mexico, you put this into a comedy?Lets laugh about a tragedy in the US in a comedy with french actors then? Would the academy like that?Zoe Saldaña is an incredible Actor who shouldnt have been involved in this mess. Withouth her, this movie would be in the garbage where it belongs. Of course they needed Selena for audiences too.If they didnt had them, or similar actresses hot on Hollywood, this mediocre film wouldnt be as famous as it is.In the end scene, this movie puts a red ribbon into the hate for Mexicans, making the bad stereotypes as strong as in a Trump speech, Dumb Mexicans would idolize a Martir even if she was a Narco seriously? Did the director saw a December 9 video of La basilica de Guadalupe and tought Mexicans love to pray to a plastic figure?Offensive piece of crap with ridiculous attempt of Mexican representation, so cringy to watch, so ridiculous that is praised for first world critics who dont have a slightly idea of what Mexico is."
        ],
        [
         "49",
         null,
         "I. Hated. This. Movie",
         "The title says it all, I absolutely hated this film, to the point where my partner and I noped out after about an hour and half.Caveat to begin with, I am not a fan of musicals as a rule, I can make exceptions if the songs are very good. Unfortunately the songs in Emilia Perez are not good. Very very not good.As everyone else has noted, its been very well shot, very colourful and some of the choreography during the unendurable song and dance numbers was pretty good.Alas this good cinematopgraphy did not help make these sequences any more enjoyable mind you. Each song and dance number causes the overall story to screech to a halt. This is super frustrating as there are moments where it seems like there could be an interesting story at play, but these are soon washed away with another super cringey and cheesy song.The story as it is about a trans woman who changes their personality completely after transitioning is insulting tom the trans community as well as being utterly ridiculous.Zoe Saldana is giving everything 110% so respect to her, I only wish the film were worthy of her efforts. Everyone else was lousy, especially Selena Gomez who with all her financial resources youd think could afford a dialect coach.Im not sure what the critics and award voters are seeing in this one. Its one of the worst films Ive seen in a very long time.",
         "1.0",
         "164",
         "15",
         "-1",
         "I. Hated. This. Movie The title says it all, I absolutely hated this film, to the point where my partner and I noped out after about an hour and half.Caveat to begin with, I am not a fan of musicals as a rule, I can make exceptions if the songs are very good. Unfortunately the songs in Emilia Perez are not good. Very very not good.As everyone else has noted, its been very well shot, very colourful and some of the choreography during the unendurable song and dance numbers was pretty good.Alas this good cinematopgraphy did not help make these sequences any more enjoyable mind you. Each song and dance number causes the overall story to screech to a halt. This is super frustrating as there are moments where it seems like there could be an interesting story at play, but these are soon washed away with another super cringey and cheesy song.The story as it is about a trans woman who changes their personality completely after transitioning is insulting tom the trans community as well as being utterly ridiculous.Zoe Saldana is giving everything 110% so respect to her, I only wish the film were worthy of her efforts. Everyone else was lousy, especially Selena Gomez who with all her financial resources youd think could afford a dialect coach.Im not sure what the critics and award voters are seeing in this one. Its one of the worst films Ive seen in a very long time."
        ],
        [
         "51",
         null,
         "Don't bother.",
         "Im trying to be objective so here I go: Yes to Photography. No to everything else. I dont usually end a movie feeling it was a waste of time but seriously, it was exactly that. The movie is constantly distracting you because its really hard to not no see from the littlest to the biggest disaster on screen. Very disrespectful with most of the situations the movie try to approach but hardly do. And its not just Selena Gomez or her really bad spanish, its the way she does the character, and the script for sure. Let me tell you something, its not her pronunciation, we are in latinoamerica like... who says that? Who use those words in real life? Every word she says sounded clinic, and lets not talk about her acting, and again, thats not just her, it was the whole cast, the script, the direction, everything. But hey, good photography.",
         "1.0",
         "177",
         "17",
         "-1",
         "Don't bother. Im trying to be objective so here I go: Yes to Photography. No to everything else. I dont usually end a movie feeling it was a waste of time but seriously, it was exactly that. The movie is constantly distracting you because its really hard to not no see from the littlest to the biggest disaster on screen. Very disrespectful with most of the situations the movie try to approach but hardly do. And its not just Selena Gomez or her really bad spanish, its the way she does the character, and the script for sure. Let me tell you something, its not her pronunciation, we are in latinoamerica like... who says that? Who use those words in real life? Every word she says sounded clinic, and lets not talk about her acting, and again, thats not just her, it was the whole cast, the script, the direction, everything. But hey, good photography."
        ],
        [
         "55",
         null,
         "Worst Movie EVER!!",
         "This is, hands down, the worst musical I have ever seen. If zero stars were an option, Id be all over it. Watching this was like sitting through a bad high school play where everyone forgot their lines-but somehow, they also forgot the plot.Lets talk about Selena Gomezs character, Jessi. It was like her entire script got run through Google Translate, twice. I speak Spanish, and even I needed subtitles to understand her. Honestly, it felt like the movie was actively trying to insult my brain.The plot had potential-Ill give it that-but it was buried under layers of cringe-worthy acting and a bafflingly tone-deaf approach. The director must have skipped the Mexican culture and language section during research . And dont even get me started on how wildly insensitive this movie is to families dealing with real-life disappearances.In conclusion, this movie didnt just miss the mark-it missed the entire target, fell off the stage, and took the audiences patience with it.",
         "1.0",
         "110",
         "9",
         "-1",
         "Worst Movie EVER!! This is, hands down, the worst musical I have ever seen. If zero stars were an option, Id be all over it. Watching this was like sitting through a bad high school play where everyone forgot their lines-but somehow, they also forgot the plot.Lets talk about Selena Gomezs character, Jessi. It was like her entire script got run through Google Translate, twice. I speak Spanish, and even I needed subtitles to understand her. Honestly, it felt like the movie was actively trying to insult my brain.The plot had potential-Ill give it that-but it was buried under layers of cringe-worthy acting and a bafflingly tone-deaf approach. The director must have skipped the Mexican culture and language section during research . And dont even get me started on how wildly insensitive this movie is to families dealing with real-life disappearances.In conclusion, this movie didnt just miss the mark-it missed the entire target, fell off the stage, and took the audiences patience with it."
        ],
        [
         "57",
         null,
         "Caught me off guard",
         "I went into this, a bit sceptical, not a big fan of modern musicals, but, also not sure what to expect. I have to say, the first few minutes, I almost turned it off, but then, Zoe Saldanha drew me in, and I found myself utterly charmed...I have loved Zoe since I saw her many years ago in Center Stage, she constantly delivered great work through the years, and I have to say I am very happy that she finally has the role that will bring her some real awards attention. She is co lead in this film, and should go lead, but I get it, in supporting she might actually get to go all the way and win the Oscar?! This is the role of het lifetime , and she is brilliant in it. There is a scene, at a benefit, and she starts to sing and dance... took my breath away.Selena Gomez, like Zoe, I have loved since her Wizards days, very happy to see her doing so well in her acting career, and she also, gives a fantastic, very mature grown up performance. She is the supporting actress here, I hope she also gets a nomination at least.This is my first time watching Karla Sofia Gascon in anything, and yes, she really delivers, stealing every scene, very raw, emotional, fierce, fiery... so many words I can use to describe her performance. I really hope she gets that nomination. I am writing this on 14.11.2024, and watching the chatter online, I do hope she makes history and can go all the way to the Kodak theatre.The camera work, the music, the story and message at the core of the film are all really interesting and will make you think. The film has a certain rhythm, a beat, at certain points I found myself tapping my feat.There are a few songs where the lyrics were a bit strange and will make some people cringe, but I think it may just me the spanish to english translation.For all movie lovers, movie buffs, awards watchers, go see the film, it really is a great one. One of my fave of the year.",
         "6.0",
         "9",
         "78",
         "0",
         "Caught me off guard I went into this, a bit sceptical, not a big fan of modern musicals, but, also not sure what to expect. I have to say, the first few minutes, I almost turned it off, but then, Zoe Saldanha drew me in, and I found myself utterly charmed...I have loved Zoe since I saw her many years ago in Center Stage, she constantly delivered great work through the years, and I have to say I am very happy that she finally has the role that will bring her some real awards attention. She is co lead in this film, and should go lead, but I get it, in supporting she might actually get to go all the way and win the Oscar?! This is the role of het lifetime , and she is brilliant in it. There is a scene, at a benefit, and she starts to sing and dance... took my breath away.Selena Gomez, like Zoe, I have loved since her Wizards days, very happy to see her doing so well in her acting career, and she also, gives a fantastic, very mature grown up performance. She is the supporting actress here, I hope she also gets a nomination at least.This is my first time watching Karla Sofia Gascon in anything, and yes, she really delivers, stealing every scene, very raw, emotional, fierce, fiery... so many words I can use to describe her performance. I really hope she gets that nomination. I am writing this on 14.11.2024, and watching the chatter online, I do hope she makes history and can go all the way to the Kodak theatre.The camera work, the music, the story and message at the core of the film are all really interesting and will make you think. The film has a certain rhythm, a beat, at certain points I found myself tapping my feat.There are a few songs where the lyrics were a bit strange and will make some people cringe, but I think it may just me the spanish to english translation.For all movie lovers, movie buffs, awards watchers, go see the film, it really is a great one. One of my fave of the year."
        ],
        [
         "58",
         null,
         "Horribly offensive to the Mexican public",
         "For me, being Mexican, it is very offensive, not only because Spanish is anything but Mexican, but because of the topics it deals with. It is like this if I gathered Mexican actors who do not know how to speak French and made them talk about the social problems of France and then said that I did not investigate anything about why I made this film and said that I did not even feel like investigating because I already knew everything about France because they represent a stereotypical and senseless Mexico. All they needed was the orange filter, the charro hats and the desert everywhere and I still dont understand why this is nominated for best movie.",
         "1.0",
         "131",
         "12",
         "-1",
         "Horribly offensive to the Mexican public For me, being Mexican, it is very offensive, not only because Spanish is anything but Mexican, but because of the topics it deals with. It is like this if I gathered Mexican actors who do not know how to speak French and made them talk about the social problems of France and then said that I did not investigate anything about why I made this film and said that I did not even feel like investigating because I already knew everything about France because they represent a stereotypical and senseless Mexico. All they needed was the orange filter, the charro hats and the desert everywhere and I still dont understand why this is nominated for best movie."
        ],
        [
         "59",
         null,
         "Doctors can only do so much. They can fix bodies, but not souls.",
         "A devious yet frequently overlooked Mexico City defense attorney, Rita, attracts the attention of Manitas, a notorious drug lord and criminal mastermind. Manitas has an interesting request and one that Rita entertains at her peril. For staging his murder, secretly obtaining the perfect surgeon, and providing for his family, Manitas will make Rita rich. The trick is that he will be reborn as she; Emilia. Things go well for a time, but the past begins to creep back. Emilia misses her kids and wife, and doesnt like the new influences on their lives. Emilia struggles to live half in one life, and half in another.This combined narco-thriller, musical, romance, comedy, character-driven social piece, and gender affirmation drama is mind-blowing. The film bumps around to different and interesting locations around the world too. While the film has many plot twists, director Jacques Audiard maintains firm control of the narrative. I really admire and appreciate his work. It is amazing that a film can be so thrilling and funny, and yet manage to get in a plug about the 100,000 plus people who have disappeared in Mexico due to drug violence, but Audiard does it.True to the films multi-faceted and surprising nature, the actors won a combined award at the Cannes film festival for their roles .The film is intriguing and fascinating because it never loses sight of the human nature component. Emilias feelings are natural for what someone in her shoes might ask and wonder about. For example, was she really in love and did people love her? Further, I am enthralled with the French style, particularly its rawness. No one pulls any punches, and no censors are active with their censoring. Pride, truth, forgiveness, love, and more, are all on full display.",
         "9.0",
         "82",
         "477",
         "1",
         "Doctors can only do so much. They can fix bodies, but not souls. A devious yet frequently overlooked Mexico City defense attorney, Rita, attracts the attention of Manitas, a notorious drug lord and criminal mastermind. Manitas has an interesting request and one that Rita entertains at her peril. For staging his murder, secretly obtaining the perfect surgeon, and providing for his family, Manitas will make Rita rich. The trick is that he will be reborn as she; Emilia. Things go well for a time, but the past begins to creep back. Emilia misses her kids and wife, and doesnt like the new influences on their lives. Emilia struggles to live half in one life, and half in another.This combined narco-thriller, musical, romance, comedy, character-driven social piece, and gender affirmation drama is mind-blowing. The film bumps around to different and interesting locations around the world too. While the film has many plot twists, director Jacques Audiard maintains firm control of the narrative. I really admire and appreciate his work. It is amazing that a film can be so thrilling and funny, and yet manage to get in a plug about the 100,000 plus people who have disappeared in Mexico due to drug violence, but Audiard does it.True to the films multi-faceted and surprising nature, the actors won a combined award at the Cannes film festival for their roles .The film is intriguing and fascinating because it never loses sight of the human nature component. Emilias feelings are natural for what someone in her shoes might ask and wonder about. For example, was she really in love and did people love her? Further, I am enthralled with the French style, particularly its rawness. No one pulls any punches, and no censors are active with their censoring. Pride, truth, forgiveness, love, and more, are all on full display."
        ],
        [
         "64",
         null,
         "Feels like college students made it as a project",
         "The plot is complete stupidity. Such an awful movie. At times the movie feels like a forced High School Play. No real actors besides Zoe Saldana. As much as I like Selena Gomez, this movie was too far a stretch for her. She cannot speak Spanish. As a native Spanish speaker, I needed to read the subtitles to understand what she was saying. The songs try to be emotional, but they end up being unrhythmic and non-storytelling disasters. How this movie could win so many Golden Globes is beyond my comprehension. Very distressed to see this movie receive any type of recognition. The ending tries to be tragic, but ends up leaving more questions than answers. What a mess. Dont watch this.",
         "1.0",
         "139",
         "14",
         "-1",
         "Feels like college students made it as a project The plot is complete stupidity. Such an awful movie. At times the movie feels like a forced High School Play. No real actors besides Zoe Saldana. As much as I like Selena Gomez, this movie was too far a stretch for her. She cannot speak Spanish. As a native Spanish speaker, I needed to read the subtitles to understand what she was saying. The songs try to be emotional, but they end up being unrhythmic and non-storytelling disasters. How this movie could win so many Golden Globes is beyond my comprehension. Very distressed to see this movie receive any type of recognition. The ending tries to be tragic, but ends up leaving more questions than answers. What a mess. Dont watch this."
        ],
        [
         "66",
         null,
         "TOO OFFENSIVE FOR MEXICANS",
         "This movie shouldnt be even nominated at all. Its offensive, who takes a serious subject from one country and decides to make it a musical? FRENCH.The director admitted not doing any research about Mexico and IT SHOWS. This movie is hideous and disrespectful to my country.Non of the actress/actors in the film are even Mexican. The songs are sloppy, bad acting, bad script, bad everything. And its not even released in Mexico? Its a joke to us.The dissapearences in Mexico are not for entertainment or your amusement. Take this movie down. Its bad.This thing didnt let me give 0 stars.",
         "1.0",
         "99",
         "9",
         "-1",
         "TOO OFFENSIVE FOR MEXICANS This movie shouldnt be even nominated at all. Its offensive, who takes a serious subject from one country and decides to make it a musical? FRENCH.The director admitted not doing any research about Mexico and IT SHOWS. This movie is hideous and disrespectful to my country.Non of the actress/actors in the film are even Mexican. The songs are sloppy, bad acting, bad script, bad everything. And its not even released in Mexico? Its a joke to us.The dissapearences in Mexico are not for entertainment or your amusement. Take this movie down. Its bad.This thing didnt let me give 0 stars."
        ],
        [
         "68",
         null,
         "Simply audacious, insane and incredible!",
         "This movie is full of excitement and emotion, I really love how different it was, I can say 100% sure that Ill take some years to watch something so different and at the same time incredible again. The plot is interesting enough to keep you tuned, some of the musical numbers were not my cup of tea but I dont think any of them was unnecessary, shout out to Bienvenida and El Mal, my favorites for sure.But lets get into the not perfect part, I think Jessi shouldve been more developed, I could understand her motivations but it left me begging for more.I love how Selena portrayed this crazy, insane and stressed ex wife, shes exactly how shes supposed to be.Zoe is extremely good and her charisma keeps it working.Karla, well, Karla is just spectacular, no words.Emilia Perez is indeed an insane movie, it has everything to go wrong, but its the opposite, it works beautifully. The director was really original and audacious while also brave, cause I can see a lot of people will see this and just laugh , its not for everyone . You have to be a 10 to go ahead and believe in your crazy ideas, or youll never know if it works or not. Well, Emilia Perezs 100% worked.",
         "6.0",
         "5",
         "45",
         "0",
         "Simply audacious, insane and incredible! This movie is full of excitement and emotion, I really love how different it was, I can say 100% sure that Ill take some years to watch something so different and at the same time incredible again. The plot is interesting enough to keep you tuned, some of the musical numbers were not my cup of tea but I dont think any of them was unnecessary, shout out to Bienvenida and El Mal, my favorites for sure.But lets get into the not perfect part, I think Jessi shouldve been more developed, I could understand her motivations but it left me begging for more.I love how Selena portrayed this crazy, insane and stressed ex wife, shes exactly how shes supposed to be.Zoe is extremely good and her charisma keeps it working.Karla, well, Karla is just spectacular, no words.Emilia Perez is indeed an insane movie, it has everything to go wrong, but its the opposite, it works beautifully. The director was really original and audacious while also brave, cause I can see a lot of people will see this and just laugh , its not for everyone . You have to be a 10 to go ahead and believe in your crazy ideas, or youll never know if it works or not. Well, Emilia Perezs 100% worked."
        ],
        [
         "69",
         null,
         "This is an insult!",
         "This movie is horrible, is so disrespectful about mexican culture. The spanish is so awful, no one talks like that, is so difficult to understand what they are saying. There are no mexican actors in the movie. It shows how the director did not care about make a properly research. This films just gives cringe. I cant understand how this piece of garbage is nominated to Oscars, and had won some awards. And the people that is praising this movie does not know anything about the real sitaution, if not there is no way that this could have positive reactions. In resume this is an insult and shouldnt be considerarse as a great film.",
         "1.0",
         "90",
         "8",
         "-1",
         "This is an insult! This movie is horrible, is so disrespectful about mexican culture. The spanish is so awful, no one talks like that, is so difficult to understand what they are saying. There are no mexican actors in the movie. It shows how the director did not care about make a properly research. This films just gives cringe. I cant understand how this piece of garbage is nominated to Oscars, and had won some awards. And the people that is praising this movie does not know anything about the real sitaution, if not there is no way that this could have positive reactions. In resume this is an insult and shouldnt be considerarse as a great film."
        ],
        [
         "70",
         null,
         "Brilliant",
         "I watched this masterpiece, as described by Micheal Mann on stage introducing the film, at the opening night of the American French Film Festival in LA. The theatre was full, supporters riding high from collecting accolades at Cannes all the way around to the film festivals circuit, with crew heads held high. And what applauds they deserve. The actors, the plot, the depths of emotion, camera shots and storytelling was absolutely brilliant. The dancing, moving, script, colors, visuals...its not about man meets woman, its about anything you want it to be. Those scenes were shot in Paris recreating the stress of Mexico City, just like the plot was meant for you to recreate it any which meaning you want it to give.",
         "10.0",
         "85",
         "522",
         "1",
         "Brilliant I watched this masterpiece, as described by Micheal Mann on stage introducing the film, at the opening night of the American French Film Festival in LA. The theatre was full, supporters riding high from collecting accolades at Cannes all the way around to the film festivals circuit, with crew heads held high. And what applauds they deserve. The actors, the plot, the depths of emotion, camera shots and storytelling was absolutely brilliant. The dancing, moving, script, colors, visuals...its not about man meets woman, its about anything you want it to be. Those scenes were shot in Paris recreating the stress of Mexico City, just like the plot was meant for you to recreate it any which meaning you want it to give."
        ],
        [
         "71",
         null,
         "Emilia The ganster and the love",
         "I didnt found the movie that bad to be honest but there are some things that bothered me during my time watching it .Im not really fan about how they balanced things between musical and serious moments: there are some times that i felt that even the actors didnt know how they performed when there was some serious moment or musical . Even the musical part i was not that fan : for me it was a lot of noise and it get pretty distracting when they revealing some part of the stories while singing . I was not a big fan of this.But for me the thing that i really enjoyed and i think the most interesting thing in that movie was that trio : Emilia , Jessi and Rita .It was very interesting because Emilia was a man before , she was the ex husband of Jessi and Rita know that .And after that it was an interesting game between all these elements : When Jessi announce she is getting married and will bring the kids with her in front of Emilia and us as a viewer we know who is Emilia and we know it will not go very well . And at the same time we know the movie will offer that confrontation between Jessi and Emilia and the truth will be revealed .I like that kind of suspense and when she knows , she knows .I love also that scene when Jessi , Rita and Emilia was on the phones and we saw how Rita tried to handle every person during the big problem between Emilia , Jessi .It have some interesting moments also all along but the beginning took some times to really give the real interest , in my opinion, in that movie .I was a little bit scared at first : i was very confusing and didnt understand what that movie was really about : the trailer didnt give too much info too . But after a few moments we know whats going to happen and it generate suspense and interest to the movie again but once again the musical part was not that necessary in my opinion and sometimes was too much distracting sadly.But i appreciate it anyway and found it a little bit long for what the movie is really about .So im still mixed feeling about this movie and its clearly not for everyone but i appreciate the trio Emilia, Rita, Jessi and i love the musical when it was Jessi who performed on the bed : it was very sensual .But what i love also its that we saw a lot of womens on screen and its a really good thing in my opinion and i enjoyed watching it . Despite not liking the musical part , i need to say that the visuals make it pleaseant anyway .We had also that side story about workers and bad conditions of work but it was not really that impactful in my opinion. There was also some moments where i felt also that the movie lack clearly of directions but its watchable and i think after a while when you will see what the movie is really about it will be suspensful and interesting despite a long and slow build .Good Anyway.",
         "6.0",
         "5",
         "46",
         "0",
         "Emilia The ganster and the love I didnt found the movie that bad to be honest but there are some things that bothered me during my time watching it .Im not really fan about how they balanced things between musical and serious moments: there are some times that i felt that even the actors didnt know how they performed when there was some serious moment or musical . Even the musical part i was not that fan : for me it was a lot of noise and it get pretty distracting when they revealing some part of the stories while singing . I was not a big fan of this.But for me the thing that i really enjoyed and i think the most interesting thing in that movie was that trio : Emilia , Jessi and Rita .It was very interesting because Emilia was a man before , she was the ex husband of Jessi and Rita know that .And after that it was an interesting game between all these elements : When Jessi announce she is getting married and will bring the kids with her in front of Emilia and us as a viewer we know who is Emilia and we know it will not go very well . And at the same time we know the movie will offer that confrontation between Jessi and Emilia and the truth will be revealed .I like that kind of suspense and when she knows , she knows .I love also that scene when Jessi , Rita and Emilia was on the phones and we saw how Rita tried to handle every person during the big problem between Emilia , Jessi .It have some interesting moments also all along but the beginning took some times to really give the real interest , in my opinion, in that movie .I was a little bit scared at first : i was very confusing and didnt understand what that movie was really about : the trailer didnt give too much info too . But after a few moments we know whats going to happen and it generate suspense and interest to the movie again but once again the musical part was not that necessary in my opinion and sometimes was too much distracting sadly.But i appreciate it anyway and found it a little bit long for what the movie is really about .So im still mixed feeling about this movie and its clearly not for everyone but i appreciate the trio Emilia, Rita, Jessi and i love the musical when it was Jessi who performed on the bed : it was very sensual .But what i love also its that we saw a lot of womens on screen and its a really good thing in my opinion and i enjoyed watching it . Despite not liking the musical part , i need to say that the visuals make it pleaseant anyway .We had also that side story about workers and bad conditions of work but it was not really that impactful in my opinion. There was also some moments where i felt also that the movie lack clearly of directions but its watchable and i think after a while when you will see what the movie is really about it will be suspensful and interesting despite a long and slow build .Good Anyway."
        ],
        [
         "72",
         null,
         "Mocking Reality, Zero Acting Skills, Little Little into the Middle, No Point, I'm Speechles, Waste of Money and Time",
         "I mean just because you brought 1 actress and 1 celebirty wont make your movie successful. I mean the producers or the writers couldnt decide which scenerio to choose, thats why they mixed it all together like a puke. Insult to the musical industry, insult to the sad realities, BIG INSULT TO THE PEOPLE WHO DEALT WITH THESE KIND OF SITUATIONS SUCH AS MURDER, LOOSING SOMEONE BECAUSE OF MURDER, MISSING FAMILY MEMBER, COVERING INNOCENT PEOPLES MURDER.Emilias charity work = Cringe show.I mean WHAT THE HECK DID I JUST WATCH!!!!Only Zoe Saldana can act, the rest is just very bad... I mean people study acting or musical theatre for years but nooo this is the cast that they came up.Selenas character could be foreigner directly instead of speaking Spanish and sometimes English.One of the worst movie I have ever seen.It is like first you ate an omlette, then ate waffle, then fish and chips, then baked alaska, then pizza and puked all of them.",
         "1.0",
         "82",
         "7",
         "-1",
         "Mocking Reality, Zero Acting Skills, Little Little into the Middle, No Point, I'm Speechles, Waste of Money and Time I mean just because you brought 1 actress and 1 celebirty wont make your movie successful. I mean the producers or the writers couldnt decide which scenerio to choose, thats why they mixed it all together like a puke. Insult to the musical industry, insult to the sad realities, BIG INSULT TO THE PEOPLE WHO DEALT WITH THESE KIND OF SITUATIONS SUCH AS MURDER, LOOSING SOMEONE BECAUSE OF MURDER, MISSING FAMILY MEMBER, COVERING INNOCENT PEOPLES MURDER.Emilias charity work = Cringe show.I mean WHAT THE HECK DID I JUST WATCH!!!!Only Zoe Saldana can act, the rest is just very bad... I mean people study acting or musical theatre for years but nooo this is the cast that they came up.Selenas character could be foreigner directly instead of speaking Spanish and sometimes English.One of the worst movie I have ever seen.It is like first you ate an omlette, then ate waffle, then fish and chips, then baked alaska, then pizza and puked all of them."
        ],
        [
         "74",
         null,
         "Would a film have all those awards and nominations if it came from somewhere else?",
         "If we made a musical about 9/11 in Latin America, would it go so far in Hollywood?My rating goes beyond the acting performance, it has to do with a terrible script, a superficial and half-baked message and poor execution.For Latinos, it is a clear example of how disconnected Hollywood is not only from problems outside of them but also from the cultures that surround them. I mean, most of the movie takes place in Mexico City but it all feels like a caricature, not like it was done on purpose but it all feels caricatured due to a vast lack of knowledge of the city that was obviously had when making the movie . Ive never been to Mexico City and it still took me 5 seconds to realize that and again, the fact that it wasnt obvious to Hollywood is something that should worry them.The musical numbers feel strange and out of place, the conversations are not very fluid, they seem written by AI and the terrible Spanish makes it impossible to watch the film as a Latin American.I pirated the movie to watch it and I still want my money back.",
         "1.0",
         "118",
         "13",
         "-1",
         "Would a film have all those awards and nominations if it came from somewhere else? If we made a musical about 9/11 in Latin America, would it go so far in Hollywood?My rating goes beyond the acting performance, it has to do with a terrible script, a superficial and half-baked message and poor execution.For Latinos, it is a clear example of how disconnected Hollywood is not only from problems outside of them but also from the cultures that surround them. I mean, most of the movie takes place in Mexico City but it all feels like a caricature, not like it was done on purpose but it all feels caricatured due to a vast lack of knowledge of the city that was obviously had when making the movie . Ive never been to Mexico City and it still took me 5 seconds to realize that and again, the fact that it wasnt obvious to Hollywood is something that should worry them.The musical numbers feel strange and out of place, the conversations are not very fluid, they seem written by AI and the terrible Spanish makes it impossible to watch the film as a Latin American.I pirated the movie to watch it and I still want my money back."
        ],
        [
         "76",
         null,
         "When you saw a couple of bad movies came this one",
         "In 2024, we witnessed two of the worst movies of the year: Madame Web and Joker 2. Just when we thought nothing could be worse, Emilia Perez came along.This film was intended to showcase Mexican actresses and be filmed in Mexico, yet none of that is evident throughout the movie. The director did not take the time to research the country he aimed to portray.As a musical, it falls flat; the music is quite mediocre-almost as if it were generated by ChatGPT-and the performances are largely disappointing, except Zoe Saldañas.This movie serves as a glaring example of how a film can insult the entire Latin American continent through its portrayal of our culture.It is incomprehensible how this film received 13 Oscar nominations.",
         "1.0",
         "68",
         "6",
         "-1",
         "When you saw a couple of bad movies came this one In 2024, we witnessed two of the worst movies of the year: Madame Web and Joker 2. Just when we thought nothing could be worse, Emilia Perez came along.This film was intended to showcase Mexican actresses and be filmed in Mexico, yet none of that is evident throughout the movie. The director did not take the time to research the country he aimed to portray.As a musical, it falls flat; the music is quite mediocre-almost as if it were generated by ChatGPT-and the performances are largely disappointing, except Zoe Saldañas.This movie serves as a glaring example of how a film can insult the entire Latin American continent through its portrayal of our culture.It is incomprehensible how this film received 13 Oscar nominations."
        ],
        [
         "77",
         null,
         "Non-stop thrill ride",
         "Hold her. Protect her.Me encanta la película.To say that I was sceptical of this movie would be an understatement. On paper, it shouldnt work, but never have I been gladder to be wrong. Fortunately, the film exceeded my expectations. Watching this movie is equivalent to getting a dose of heroin injected into your veins. The film blends in various genres at once and not only succeeds at it but outright knocks it out of the park and surpasses my lukewarm expectations. It starts off as a procedural drama and musical, then seamlessly transitions into a family drama, crime comedy, and thriller. The director doubles down and explores all these genres to their full extent. The film also suggests that it is kind of a gangster epos, telling the story of a cartel boss on a journey of self-discovery. Ever since he was a child, he dreamt of being someone else. It is strange to me that these kinds of people have those aspirations. I always think they lack empathy and are not very progressive. This might be quite narrow-minded of me to say and might land me in hot water with some people, but its what I believe and what I experienced. If that makes me out of touch, then so be it. Im not really involved with those kinds of people, but Im glad I was exposed to this otherworldly world. On a happier note, Selena Gomez is phenomenal and radiates beauty in this film.Selena Gomez has always been a terrific actress, but this movie takes it to a whole other level. Im a simple guy. If I see Selena Gomez singing and dancing in Spanish, it is an automatic five stars. She has never looked more beautiful. Its true what they say: you become more beautiful as you age. Ill always be a fan of Selena Gomez, no matter what. If her character in the movie wants to brutally torture her very close friend , then thats her pejorative.I cant wait to download the films soundtrack so I can listen to it on repeat. Im the kind of person who listens and obsesses over a song for months on end. The film can get quite dark at times, but the doom and gloom aspects are balanced out by the incredible and wholesome musical moments. The musical moments were without a doubt magnificent and flawlessly executed. The viewer is completely immersed in the diegetic world thanks to the thrilling and catchy songs.The ending is, to put it simply, heartbreaking. I never expected a happy ending, but I thought Emilias life would continue. Emilia/Manitas wanted to spare Jessi from the pain of their transgender operation. But I think they underestimated her, as is evident throughout the film, especially the unfortunate and tragic ending. The film really captures the transgender experience realistically. One might decree that the film is a clever commentary on transgender identity and how it impacts all the facets of their life.In a nutshell, the film is an adrenaline-fuelled spectacle with action, humour, suspense, thrills, and, not to forget, song and dance. It was difficult to ascertain the mood of the audience , but I think that most people enjoyed it like me. Its certainly a divisive film. Emilia Perez is the wackiest, surrealist, intoxicating original musical of the decade so far. It had everything you could possibly want from a film, making for a super fun and memorable cinema-going experience.Final verdict: 10/10The film kind of reminded me of this quote from Donald Trump: Now she wants to do transgender operations on illegal aliens that are in prison. This is a radical left liberal that would do this.",
         "10.0",
         "47",
         "332",
         "1",
         "Non-stop thrill ride Hold her. Protect her.Me encanta la película.To say that I was sceptical of this movie would be an understatement. On paper, it shouldnt work, but never have I been gladder to be wrong. Fortunately, the film exceeded my expectations. Watching this movie is equivalent to getting a dose of heroin injected into your veins. The film blends in various genres at once and not only succeeds at it but outright knocks it out of the park and surpasses my lukewarm expectations. It starts off as a procedural drama and musical, then seamlessly transitions into a family drama, crime comedy, and thriller. The director doubles down and explores all these genres to their full extent. The film also suggests that it is kind of a gangster epos, telling the story of a cartel boss on a journey of self-discovery. Ever since he was a child, he dreamt of being someone else. It is strange to me that these kinds of people have those aspirations. I always think they lack empathy and are not very progressive. This might be quite narrow-minded of me to say and might land me in hot water with some people, but its what I believe and what I experienced. If that makes me out of touch, then so be it. Im not really involved with those kinds of people, but Im glad I was exposed to this otherworldly world. On a happier note, Selena Gomez is phenomenal and radiates beauty in this film.Selena Gomez has always been a terrific actress, but this movie takes it to a whole other level. Im a simple guy. If I see Selena Gomez singing and dancing in Spanish, it is an automatic five stars. She has never looked more beautiful. Its true what they say: you become more beautiful as you age. Ill always be a fan of Selena Gomez, no matter what. If her character in the movie wants to brutally torture her very close friend , then thats her pejorative.I cant wait to download the films soundtrack so I can listen to it on repeat. Im the kind of person who listens and obsesses over a song for months on end. The film can get quite dark at times, but the doom and gloom aspects are balanced out by the incredible and wholesome musical moments. The musical moments were without a doubt magnificent and flawlessly executed. The viewer is completely immersed in the diegetic world thanks to the thrilling and catchy songs.The ending is, to put it simply, heartbreaking. I never expected a happy ending, but I thought Emilias life would continue. Emilia/Manitas wanted to spare Jessi from the pain of their transgender operation. But I think they underestimated her, as is evident throughout the film, especially the unfortunate and tragic ending. The film really captures the transgender experience realistically. One might decree that the film is a clever commentary on transgender identity and how it impacts all the facets of their life.In a nutshell, the film is an adrenaline-fuelled spectacle with action, humour, suspense, thrills, and, not to forget, song and dance. It was difficult to ascertain the mood of the audience , but I think that most people enjoyed it like me. Its certainly a divisive film. Emilia Perez is the wackiest, surrealist, intoxicating original musical of the decade so far. It had everything you could possibly want from a film, making for a super fun and memorable cinema-going experience.Final verdict: 10/10The film kind of reminded me of this quote from Donald Trump: Now she wants to do transgender operations on illegal aliens that are in prison. This is a radical left liberal that would do this."
        ],
        [
         "79",
         null,
         "Just awful",
         "This is one of the -if not the- worst movie Ive ever seen, and Im not exaggerating. I even created an account just to write this. At one point during the film, I found myself wondering if it was so groundbreaking that I simply couldnt understand it.Its not just the much-discussed poor representation of Mexico, or the terrible Spanish spoken by most of the cast, or even the horrendous songs. The real problem is that the plot makes absolutely no sense. The movie touches on several themes but fails to explore any of them in depth. It feels as if they cut all the scenes that might have given the story some coherence or emotional weight, making it impossible to connect with or care about the characters.I honestly would love to know if the actors and production team genuinely liked the final result, because its still hard for me to believe that anyone could see this as a good movie. Its baffling.",
         "1.0",
         "29",
         "1",
         "-1",
         "Just awful This is one of the -if not the- worst movie Ive ever seen, and Im not exaggerating. I even created an account just to write this. At one point during the film, I found myself wondering if it was so groundbreaking that I simply couldnt understand it.Its not just the much-discussed poor representation of Mexico, or the terrible Spanish spoken by most of the cast, or even the horrendous songs. The real problem is that the plot makes absolutely no sense. The movie touches on several themes but fails to explore any of them in depth. It feels as if they cut all the scenes that might have given the story some coherence or emotional weight, making it impossible to connect with or care about the characters.I honestly would love to know if the actors and production team genuinely liked the final result, because its still hard for me to believe that anyone could see this as a good movie. Its baffling."
        ]
       ],
       "shape": {
        "columns": 8,
        "rows": 360
       }
      },
      "text/html": [
       "<div>\n",
       "<style scoped>\n",
       "    .dataframe tbody tr th:only-of-type {\n",
       "        vertical-align: middle;\n",
       "    }\n",
       "\n",
       "    .dataframe tbody tr th {\n",
       "        vertical-align: top;\n",
       "    }\n",
       "\n",
       "    .dataframe thead th {\n",
       "        text-align: right;\n",
       "    }\n",
       "</style>\n",
       "<table border=\"1\" class=\"dataframe\">\n",
       "  <thead>\n",
       "    <tr style=\"text-align: right;\">\n",
       "      <th></th>\n",
       "      <th>Movie</th>\n",
       "      <th>Title</th>\n",
       "      <th>Content</th>\n",
       "      <th>Rate</th>\n",
       "      <th>Upvotes</th>\n",
       "      <th>Downvotes</th>\n",
       "      <th>Sentiment</th>\n",
       "      <th>Title_Content</th>\n",
       "    </tr>\n",
       "  </thead>\n",
       "  <tbody>\n",
       "    <tr>\n",
       "      <th>0</th>\n",
       "      <td>NaN</td>\n",
       "      <td>The Worst representation of Mexico's actual dr...</td>\n",
       "      <td>I am Mexican, and I can tell you that this mov...</td>\n",
       "      <td>5.0</td>\n",
       "      <td>1122</td>\n",
       "      <td>116</td>\n",
       "      <td>0</td>\n",
       "      <td>The Worst representation of Mexico's actual dr...</td>\n",
       "    </tr>\n",
       "    <tr>\n",
       "      <th>1</th>\n",
       "      <td>NaN</td>\n",
       "      <td>A Tone-Deaf Musical Disaster</td>\n",
       "      <td>Emilia Pérez has sparked significant controver...</td>\n",
       "      <td>4.0</td>\n",
       "      <td>20</td>\n",
       "      <td>2</td>\n",
       "      <td>0</td>\n",
       "      <td>A Tone-Deaf Musical Disaster Emilia Pérez has ...</td>\n",
       "    </tr>\n",
       "    <tr>\n",
       "      <th>2</th>\n",
       "      <td>NaN</td>\n",
       "      <td>okay, so</td>\n",
       "      <td>The problem with this movie is not Selenas Spa...</td>\n",
       "      <td>6.0</td>\n",
       "      <td>383</td>\n",
       "      <td>104</td>\n",
       "      <td>0</td>\n",
       "      <td>okay, so The problem with this movie is not Se...</td>\n",
       "    </tr>\n",
       "    <tr>\n",
       "      <th>4</th>\n",
       "      <td>NaN</td>\n",
       "      <td>Emilia Perez: Ambitious Themes, Incomplete Exe...</td>\n",
       "      <td>Emilia Perez isnt a bad movie, but it felt som...</td>\n",
       "      <td>6.0</td>\n",
       "      <td>186</td>\n",
       "      <td>128</td>\n",
       "      <td>0</td>\n",
       "      <td>Emilia Perez: Ambitious Themes, Incomplete Exe...</td>\n",
       "    </tr>\n",
       "    <tr>\n",
       "      <th>6</th>\n",
       "      <td>NaN</td>\n",
       "      <td>Overhyped!</td>\n",
       "      <td>Emilia Pérez is, at best, just okay. It feels ...</td>\n",
       "      <td>6.0</td>\n",
       "      <td>59</td>\n",
       "      <td>38</td>\n",
       "      <td>0</td>\n",
       "      <td>Overhyped! Emilia Pérez is, at best, just okay...</td>\n",
       "    </tr>\n",
       "    <tr>\n",
       "      <th>...</th>\n",
       "      <td>...</td>\n",
       "      <td>...</td>\n",
       "      <td>...</td>\n",
       "      <td>...</td>\n",
       "      <td>...</td>\n",
       "      <td>...</td>\n",
       "      <td>...</td>\n",
       "      <td>...</td>\n",
       "    </tr>\n",
       "    <tr>\n",
       "      <th>472</th>\n",
       "      <td>NaN</td>\n",
       "      <td>An original Thriller with a twist</td>\n",
       "      <td>Emilia Perez is a 2024 Foreign LGBT Thriller s...</td>\n",
       "      <td>5.0</td>\n",
       "      <td>4</td>\n",
       "      <td>10</td>\n",
       "      <td>0</td>\n",
       "      <td>An original Thriller with a twist Emilia Perez...</td>\n",
       "    </tr>\n",
       "    <tr>\n",
       "      <th>473</th>\n",
       "      <td>NaN</td>\n",
       "      <td>Good subject and acting ,but Bad Movie , Bad E...</td>\n",
       "      <td>Emilia Pérez is a 2024 Spanish language French...</td>\n",
       "      <td>5.0</td>\n",
       "      <td>3</td>\n",
       "      <td>8</td>\n",
       "      <td>0</td>\n",
       "      <td>Good subject and acting ,but Bad Movie , Bad E...</td>\n",
       "    </tr>\n",
       "    <tr>\n",
       "      <th>475</th>\n",
       "      <td>NaN</td>\n",
       "      <td>Should not work on ANY level - yet has enough ...</td>\n",
       "      <td>First and foremost, this is a French film abou...</td>\n",
       "      <td>5.0</td>\n",
       "      <td>2</td>\n",
       "      <td>5</td>\n",
       "      <td>0</td>\n",
       "      <td>Should not work on ANY level - yet has enough ...</td>\n",
       "    </tr>\n",
       "    <tr>\n",
       "      <th>476</th>\n",
       "      <td>NaN</td>\n",
       "      <td>Tone-deaf in more than one sense.</td>\n",
       "      <td>I was stunned after watching Emilia Perez, but...</td>\n",
       "      <td>5.0</td>\n",
       "      <td>1</td>\n",
       "      <td>6</td>\n",
       "      <td>0</td>\n",
       "      <td>Tone-deaf in more than one sense. I was stunne...</td>\n",
       "    </tr>\n",
       "    <tr>\n",
       "      <th>477</th>\n",
       "      <td>NaN</td>\n",
       "      <td>A wild entertaining ride that overwhelms itself.</td>\n",
       "      <td>It mixes so many ideas, themes and genres into...</td>\n",
       "      <td>5.0</td>\n",
       "      <td>2</td>\n",
       "      <td>20</td>\n",
       "      <td>0</td>\n",
       "      <td>A wild entertaining ride that overwhelms itsel...</td>\n",
       "    </tr>\n",
       "  </tbody>\n",
       "</table>\n",
       "<p>360 rows × 8 columns</p>\n",
       "</div>"
      ],
      "text/plain": [
       "     Movie                                              Title  \\\n",
       "0      NaN  The Worst representation of Mexico's actual dr...   \n",
       "1      NaN                       A Tone-Deaf Musical Disaster   \n",
       "2      NaN                                           okay, so   \n",
       "4      NaN  Emilia Perez: Ambitious Themes, Incomplete Exe...   \n",
       "6      NaN                                         Overhyped!   \n",
       "..     ...                                                ...   \n",
       "472    NaN                  An original Thriller with a twist   \n",
       "473    NaN  Good subject and acting ,but Bad Movie , Bad E...   \n",
       "475    NaN  Should not work on ANY level - yet has enough ...   \n",
       "476    NaN                  Tone-deaf in more than one sense.   \n",
       "477    NaN   A wild entertaining ride that overwhelms itself.   \n",
       "\n",
       "                                               Content  Rate  Upvotes  \\\n",
       "0    I am Mexican, and I can tell you that this mov...   5.0     1122   \n",
       "1    Emilia Pérez has sparked significant controver...   4.0       20   \n",
       "2    The problem with this movie is not Selenas Spa...   6.0      383   \n",
       "4    Emilia Perez isnt a bad movie, but it felt som...   6.0      186   \n",
       "6    Emilia Pérez is, at best, just okay. It feels ...   6.0       59   \n",
       "..                                                 ...   ...      ...   \n",
       "472  Emilia Perez is a 2024 Foreign LGBT Thriller s...   5.0        4   \n",
       "473  Emilia Pérez is a 2024 Spanish language French...   5.0        3   \n",
       "475  First and foremost, this is a French film abou...   5.0        2   \n",
       "476  I was stunned after watching Emilia Perez, but...   5.0        1   \n",
       "477  It mixes so many ideas, themes and genres into...   5.0        2   \n",
       "\n",
       "     Downvotes  Sentiment                                      Title_Content  \n",
       "0          116          0  The Worst representation of Mexico's actual dr...  \n",
       "1            2          0  A Tone-Deaf Musical Disaster Emilia Pérez has ...  \n",
       "2          104          0  okay, so The problem with this movie is not Se...  \n",
       "4          128          0  Emilia Perez: Ambitious Themes, Incomplete Exe...  \n",
       "6           38          0  Overhyped! Emilia Pérez is, at best, just okay...  \n",
       "..         ...        ...                                                ...  \n",
       "472         10          0  An original Thriller with a twist Emilia Perez...  \n",
       "473          8          0  Good subject and acting ,but Bad Movie , Bad E...  \n",
       "475          5          0  Should not work on ANY level - yet has enough ...  \n",
       "476          6          0  Tone-deaf in more than one sense. I was stunne...  \n",
       "477         20          0  A wild entertaining ride that overwhelms itsel...  \n",
       "\n",
       "[360 rows x 8 columns]"
      ]
     },
     "execution_count": 8,
     "metadata": {},
     "output_type": "execute_result"
    }
   ],
   "source": [
    "# Merge title with review\n",
    "df_filtered['Title_Content'] = df_filtered['Title'] + ' ' + df_filtered['Content']\n",
    "\n",
    "# Remove columns Polarity and Subjectivity\n",
    "df_filtered = df_filtered.drop(columns=['Polarity', 'Subjectivity'])\n",
    "\n",
    "df_filtered"
   ]
  },
  {
   "cell_type": "markdown",
   "metadata": {},
   "source": [
    "### Clean and transform text"
   ]
  },
  {
   "cell_type": "code",
   "execution_count": 9,
   "metadata": {},
   "outputs": [],
   "source": [
    "# Clean text\n",
    "\n",
    "\n",
    "def cleaning(text):        \n",
    "    # converting to lowercase, removing URL links, special characters, punctuations...\n",
    "    text = text.lower() # converting to lowercase\n",
    "    text = re.sub('https?://\\S+|www\\.\\S+', '', text) # removing URL links\n",
    "    text = re.sub(r\"\\b\\d+\\b\", \"\", text) # removing number \n",
    "    text = re.sub('<.*?>+', '', text) # removing special characters, \n",
    "    text = re.sub('[%s]' % re.escape(string.punctuation), '', text) # punctuations\n",
    "    text = re.sub('\\n', '', text)\n",
    "    text = re.sub('[’“”…]', '', text)\n",
    "   \n",
    "    #removing emoji: \n",
    "    emoji_pattern = re.compile(\"[\"\n",
    "                           u\"\\U0001F600-\\U0001F64F\"  # emoticons\n",
    "                           u\"\\U0001F300-\\U0001F5FF\"  # symbols & pictographs\n",
    "                           u\"\\U0001F680-\\U0001F6FF\"  # transport & map symbols\n",
    "                           u\"\\U0001F1E0-\\U0001F1FF\"  # flags (iOS)\n",
    "                           u\"\\U00002702-\\U000027B0\"\n",
    "                           u\"\\U000024C2-\\U0001F251\"\n",
    "                           \"]+\", flags=re.UNICODE)\n",
    "    text = emoji_pattern.sub(r'', text)   \n",
    "\n",
    "   # removing short form: \n",
    "    \n",
    "    text=re.sub(\"isn't\",'is not',text)\n",
    "    text=re.sub(\"he's\",'he is',text)\n",
    "    text=re.sub(\"wasn't\",'was not',text)\n",
    "    text=re.sub(\"there's\",'there is',text)\n",
    "    text=re.sub(\"couldn't\",'could not',text)\n",
    "    text=re.sub(\"won't\",'will not',text)\n",
    "    text=re.sub(\"they're\",'they are',text)\n",
    "    text=re.sub(\"she's\",'she is',text)\n",
    "    text=re.sub(\"There's\",'there is',text)\n",
    "    text=re.sub(\"wouldn't\",'would not',text)\n",
    "    text=re.sub(\"haven't\",'have not',text)\n",
    "    text=re.sub(\"That's\",'That is',text)\n",
    "    text=re.sub(\"you've\",'you have',text)\n",
    "    text=re.sub(\"He's\",'He is',text)\n",
    "    text=re.sub(\"what's\",'what is',text)\n",
    "    text=re.sub(\"weren't\",'were not',text)\n",
    "    text=re.sub(\"we're\",'we are',text)\n",
    "    text=re.sub(\"hasn't\",'has not',text)\n",
    "    text=re.sub(\"you'd\",'you would',text)\n",
    "    text=re.sub(\"shouldn't\",'should not',text)\n",
    "    text=re.sub(\"let's\",'let us',text)\n",
    "    text=re.sub(\"they've\",'they have',text)\n",
    "    text=re.sub(\"You'll\",'You will',text)\n",
    "    text=re.sub(\"i'm\",'i am',text)\n",
    "    text=re.sub(\"we've\",'we have',text)\n",
    "    text=re.sub(\"it's\",'it is',text)\n",
    "    text=re.sub(\"don't\",'do not',text)\n",
    "    text=re.sub(\"that´s\",'that is',text)\n",
    "    text=re.sub(\"I´m\",'I am',text)\n",
    "    text=re.sub(\"it’s\",'it is',text)\n",
    "    text=re.sub(\"she´s\",'she is',text)\n",
    "    text=re.sub(\"he’s'\",'he is',text)\n",
    "    text=re.sub('I’m','I am',text)\n",
    "    text=re.sub('I’d','I did',text)\n",
    "    text=re.sub(\"he’s'\",'he is',text)\n",
    "    text=re.sub('there’s','there is',text)\n",
    "    \n",
    "     \n",
    "    return text\n",
    "    \n"
   ]
  },
  {
   "cell_type": "code",
   "execution_count": 10,
   "metadata": {},
   "outputs": [],
   "source": [
    "df_final = df_filtered['Title_Content'].apply(cleaning)\n",
    "\n",
    "# Rename column Title_Content to text\n",
    "df_final = df_final.to_frame().rename(columns={'Title_Content': 'text'})"
   ]
  },
  {
   "cell_type": "code",
   "execution_count": 11,
   "metadata": {},
   "outputs": [],
   "source": [
    "df_final['sentiment'] = df_filtered['Sentiment']"
   ]
  },
  {
   "cell_type": "code",
   "execution_count": 12,
   "metadata": {},
   "outputs": [
    {
     "data": {
      "application/vnd.microsoft.datawrangler.viewer.v0+json": {
       "columns": [
        {
         "name": "index",
         "rawType": "int64",
         "type": "integer"
        },
        {
         "name": "text",
         "rawType": "object",
         "type": "string"
        },
        {
         "name": "sentiment",
         "rawType": "int64",
         "type": "integer"
        }
       ],
       "conversionMethod": "pd.DataFrame",
       "ref": "e2b125a9-e9e6-422d-82c7-9bc8bb91a5a5",
       "rows": [
        [
         "0",
         "the worst representation of mexicos actual drug problems i am mexican and i can tell you that this movie is an awful representation of the narcotics problem in mexico while the story initially seemed interesting it quickly became ridiculous the main premise of the film is that a cruel assassin drug lord becomes a martyr after losing his penis additionally selenas acting is subpar she cant even speak spanish well despite being cast as a mexican character none of the main actors are mexican and their spanish accents come from spain and the caribbean and frankly incomprehensible in selenas caseoverall a good idea turned into a bad movie",
         "0"
        ],
        [
         "1",
         "a tonedeaf musical disaster emilia pérez has sparked significant controversy and for good reason from the outset the lack of mexican representation like a glaring oversight the french directors admission that he didnt feel the need to research mexico paired with the casting directors claim that no talented mexican actors could be found only adds insult to injury these choices reflect a tonedeaf and dismissive approach to authenticitywhats even more baffling is how emilia pérez managed to garner so many oscar nominations while the academy has a history of nominating films with problematic undertones  those at least offered stories that entertained broad audiences emilia pérez however doesnt even accomplish that the story is dull and lifeless so much so that out of three of us who watched it two fell asleep and the third decided to switch to another movieto make matters worse emilia pérez is a musical  but not in a good way the songs are forgettable at best and cringeworthy at worst and most of the cast can barely sing the musical numbers which should have been a highlight drag the movie down even furtherthat said there are a couple of redeeming elements zoe saldaña and karla sofía gascón deliver strong performances and truly dont deserve the backlash tied to the films broader issues their nominations are the only ones that feel genuinely earned unfortunately the rest of the film is a messoverall emilia pérez is an underwhelming uninspired production that fails to justify the attention its received",
         "0"
        ],
        [
         "2",
         "okay so the problem with this movie is not selenas spanish i dont find this movie particularly bad but some of the dialogue is really cringy and as a mexican none of the people from here use the terms that were in the movie the portrayal of mexico in this film is very stereotypical and sometimes that isnt bad but i think they should had cast real latin writers and supervisors to make this movie more accurate and respectful to the country the fact that the director doesnt speak spanish or even english speaks volumes of the commitment to understanding what the movie is about and the emotions that triggersalso the songs are horriblethe only thing salvageable is zoe saldañas performance",
         "0"
        ],
        [
         "4",
         "emilia perez ambitious themes incomplete execution emilia perez isnt a bad movie but it felt somewhat flat at times the story seemed too easy for the characters lacking tension or conflict emilia in particular transforms into an overwhelmingly positive character even though we know from the backstory that she wasnt always so goodthe movie tackles a wide range of themes but struggles to fully explore them instead of diving deeply into any one idea it spreads itself too thin leaving several threads underdevelopedas someone who doesnt typically enjoy musicals this film didnt change my mind however i can appreciate that this was the directors vision and i know many viewers will enjoy the musical elements to its credit some of the musical numbers were well done especially those performed by zoe saldana her performance was a standout and arguably the films biggest revelation elevating many scenes with her presence and talentoverall emilia perez is an enjoyable film while i dont quite understand its acclaim at cannes it has its moments",
         "0"
        ],
        [
         "6",
         "overhyped emilia pérez is at best just okay it feels incredibly overhyped and i honestly dont understand how its winning so many awards zoe saldana delivers a strong performance but the rest of the cast is just averagethe film tries to mix crime drama and musical elements but the execution is uneven some scenes drag making the pacing feel sluggish and the emotional moments often seem forced rather than genuine while the cinematography and production design are impressive the storytelling lacks depth its a film that aims high but doesnt fully deliver a  for medecent but forgettable",
         "0"
        ],
        [
         "7",
         "hard to watch emilia pérez is a musical that has sparked debate due to its themes and execution particularly in mexico where its release has been surrounded by controversy i watched it with an open mind aware of its narrative focus and genre however i came away with mixed feelings which i will break down into three key points stereotypes performances and the script along with the songs stereotypes its impossible to discuss this movie without addressing its cultural treatment from the very beginning it feels more like a collection of clichés about mexico than a genuine exploration of its culture as a mexican im not offended by stereotypes per se but here there seems to be no interest in delving deeper it feels like a brainstorm of referencessombreros skulls and tequilawithout adding anything meaningful to the narrative this lack of authenticity turns the setting into a caricature the production could have set the story in any other country swapped these clichés for others and it wouldnt have made much difference to the plot performances its interesting that the performances have been nominated for multiple awards however as a spanish speaker the accent and diction were constant distractions the actresses seem to be trying hard but the result fails to convey genuine emotions or connect with the audience a crucial part of acting is mastering dialogue delivery intonation and how these elements evoke empathy or rejection toward the characters this doesnt happen here no character made me feel their storyi didnt suffer with them or celebrate their victories script and songs the script unfortunately is one of the films weakest points the dialogues feel as though they were mechanically translated into spanish riddled with errors in conjugation and awkward phrases this extends to the songs which fail to work as either music or narrative tools in a good musical the songs should integrate organically and move the story forward but here they feel forced as if they were shoehorned into a preexisting structure without concern for rhythm or coherence the theme the film touches on a sensitive nerve for mexicans its complicated to humanize drug cartels in a country that suffers the direct consequences of violence disappearances and daily fear the idea of portraying a drug lord as someone deserving of redemption who wishes to transition to stay true to their identity and even becomes a benefactor of social causes can feel insulting for a foreign audience it might be an interesting narrative but for those living in the reality of drugrelated violence this idealization borders on indifference toward collective sufferingin conclusion emilia pérez has some interesting technical elements and isolated moments worth noting but as a whole its not an enjoyable film the lack of authenticity in its cultural representation performances that fail to connect and a weak script weigh it down too much that said cinema is subjective and if this movie finds its audience good for it but for me rather than being a captivating musical it was a frustrating experience",
         "-1"
        ],
        [
         "8",
         "fine but there are two big problems with this this is an ambitious film that certainly succeeds in combining several genres it is also a film that manages to fascinate and captivate for its whole long running timehowever there are two major problems first the film is ridiculously moralisticsecond it is absurd to believe that nobody would immediately question the identity and therefore the background of the main character her motivation is legit she wants to make amends but it is mindboggling that the filmmakers apparently thought it could go unquestioned when the protagonist a mysterious woman in every respect carelessly decides to enter the spotlight",
         "0"
        ],
        [
         "9",
         "winning awards dont make a film great stupid film with stupid sentiment lot of the musicals doesnt fit and make sense at all felt forced kinda like joker  why was rita selected how she managed to do so many illegal stuff like an expert just with money nohing explained can a lawyer do all of these anyways i couldnt find any fault jn gustavo he didnt even know that emilia was manitas before his death and after all that emilia did are we supposed to feel sorry for her she was a cartel leader did lots of bad stuff and at the end also did bad stuff forcing his children to stay with him without explaining anything to his wife i feel bad for the kids their father ruined the whole family by running after his personal gains only he never thought of anyone else but himselfand why is rita always with them i mean does she have no family or close ones rita and emilia did lots of illegal stuff to get rich and the film tried to justify it by sentiment and emotion and people are praising them for the ngo whereas they themselves are twisted the song where rita mocks the corrupt people also doesnt make sense as she herself did illegal stuffs to get richsome of the visuals are good and thats why ive rated it higher otherwise this is garbage",
         "-1"
        ],
        [
         "10",
         "too many cooks in the kitchen just finished watching emilia perez and it was fine i guess there is a lot to like and dislike in this moviepositives for emilia perez  the movie looks good with some great cinematography the movie does get ambitious with the blending of genre thrown into the mix and i appreciate that the performances from zoe saldana and karla sofia gascon are very good the musical numbers are fun to watch and finally i thought that the movie did a great job at telling its transgender storymixed for emilia perez  while the movie is certainly ambitious with its blending of genres there are elements to this that felt out of place in this movie the musical numbers feel like they just came out of nowhere and it felt jarring at timesnegatives for emilia perez  the movie is way too long and i feel that this movie couldve told its story with a shorter runtime the movie lost my interest almost immediately and it just became background noise for meoverall i admired the filmmakers and actors for being ambitious with this movie it just fully worked for me however i would still recommend this movie to people if they are interested with this movie",
         "0"
        ],
        [
         "11",
         "is this a joke as a spanish native speaker i found this movie disrespectful and childish the spanish speakers characters can barely pronounce two words turning the whole script into an uncomfortable caricature although disguised as a modern production they fall into the same errors of typecast latinos into same old stereotypes the only valuable thing is the attempt to offer something different by mixing a spanish language film with a musical however its execution becomes irritating to watch im sure any positive reviews must come from someone totally unfamiliar with the spanish language as this is a determining factor in making this film totally inedible and a endless meme material",
         "-1"
        ],
        [
         "13",
         "the movie has a lack of focus i think the film juggles too many themes and none of them are fully explored leaving the narrative feeling rushed and incomplete and as a result it feels like a collection of ideas rather than a cohesive storyi also didnt quite understand why it was framed as a musicalthis choice felt disconnected from the rest of the storythe performances are solid but the characters arent developed enough to create a lasting emotional connectionhowever i really liked the cinematography beautifully shot and visually captivatingto sum up the movie leaves you wanting more depth and clarity",
         "0"
        ],
        [
         "14",
         "i cant believe this has  oscar nominees this movie is considered one of the best motion pictures of the past year how what a miserable experience why is this movie a musical why none of the songs do anything to advance the plot or tell us more about the characters in fact the awful songwriting makes every scene with a song feel like instead of getting a deeper understanding of anything through song the song is being used to tell us things that we can already see on screen and would be way more effectively communicated through better visual storytelling the songs also dont really have any structure to them they dont go anywhere it genuinely feels like it was translated by duolingo and the awful delivery of the lines doesnt help matters at all karla gascón is finebut not that fine to be nominated for an oscar",
         "-1"
        ],
        [
         "15",
         "strangely bleak enjoyable enough movie with two demanding leading roles and two supporting roles requiring excellent performers the first two are played by zoe saldaña and karla sofia gascón the second two by selena gomez and adriana paz this quartet shared the best actress award at cannes  they deserved it saldaña in particular is a revelationof writerdirector jacques audiards previous films ive seen four  each memorable in their different ways none of them prepared me for this one so hats of to him for not getting stuck in a genre ruttheres a lot of story and a lot of singing in emilia pérez when the singing is paired with damien jalets incisive choreography the effect is thrilling otherwise the songs drag the movie down they are musicaltheatre lite dont dig deep so are not up to the dramatic demands put upon them theyre at their best in the rapinclined numbers where rhythm is the most important elementthe moral of emilia pérez seems to be that we can never slough off the past change who we are or what we want its a strangely bleak vision to present in a musical",
         "0"
        ],
        [
         "16",
         "its a caricature i am speechless im guessing all the positive reviews are from people who a dont speak spanish and b wanted their caricatures of mexicans and trans people confirmedthe dialogues are insufferable no one speaks like that the music is jarring the accents are not goodthe bad words sprinkled thought the movie feel so unnatural not only because of the delivery but how they are used this was clearly written by somebody with some vague knowledge of mexican culture but definitely not enough to make something goodthe only redeeming quality this movie has is that its undoubtedly pretty thats itmexican people should avoid it at all costs",
         "-1"
        ],
        [
         "17",
         "felt like a fever dream a musical about a cartel leader undergoing a transition into a female social activist was not on my oscars bingo card i am a bit confused on how it snagged a leading  oscar nominations i really wanted to like it but it felt all over the place the story felt off somehow not satisfying i suppose the movie being a musical seemed really random and the songs were not that great i dont want to be super negative because it did have some good moments with the acting costumesmakeup and some of the choreography zoe saldana and karla sofia gascón put on a great performance and i think that they are deserving of some recognition but i still cant get over the  nominations",
         "0"
        ],
        [
         "18",
         "everything but mexican only money is capable of making someone consider this film a good representation of history culture or anything on its own or considering the mexican context the number of nominations and awards only demonstrates this that the outpouring of money moves the vote the mexican majority itself finds the film disrespectful a french director who thinks he knows enough about mexican culture an international cast with a mexican actress who isnt even being considered in the awards campaign its simply bizarre and frightening that the film industry and academia genuinely consider this work",
         "-1"
        ],
        [
         "19",
         "one word  flabbergasted came to write this after seeing its gala screening at the london film festivala wild insane roller coaster of a film that mixes crime comedy musical and thriller all into one and succeeds with flying coloursthe four actresses at the core are the strength and they were directed to perfection by audiardkarla plays her character pre transition and post as it comes to her naturally having underdone it publicly as an actor its a powerhouse performance that is so of our time im proud to be alive in a time when a trans actress plays a trans role and not only that she nails it the tragedy of leaving a life but the promise of the one shes always neededzoe gets to sing dance cry and laugh and everything which i think an actor dreams of doing let alone in one film i had never seen a film of hers before and i am so happy this was my first because she shines theres a scene of her in a car where realising what has just transpired she breaks down in hysteria think margo in i tonya or glenn in dangerous liasons that scene alone should win her an academy award and she has a beautiful voiceselena for whom i was most excited to see this film kicks it out of the ballpark playing a mob wife that icy stormsimmeringbelowthesurface kind of woman which she needs to revisit imo because as a young girl who endured intense scrutiny and then went through a psychosis she knows it too well whats it like to keep a lid on too long the one time during the screening where i felt i was having an out of body experience is where her character jessi finally unleashes her emotions onto us the audience after years of being oppressed the agony and anger is heard in her voice its evidence of why she has said acting is her true calling and how passionate she is about it it would be stupid to still think shes a disney kid and still has something to prove her acting journey is truly so exciting as a fan of almost  decadeslastly adrianas character is like the sunshine in the otherwise dark and twisted world the film lives in she is poignant and it perfectly complements the other  actresses work she brings love and softness to the story through her workone major thing to note is that this film is like an opera it reminds one of the umbrellas of cherbourg which was also almost entirely sung emotionally its definitely intense like one with small moments of calm when you realise youre watching a filmthe cinematography was brilliant at the end of the film selenas character lays almost unconscious on the passenger seat as her lover drives in rage the way the camera pans across the car to her face it felt like a painting very poetic but tragicso glad to have watched it before its netflix release its amazing when a film can make you feel like this to take you out of your normal and drive you a bit crazy",
         "1"
        ],
        [
         "20",
         "jacques audiard tried to do too much its a musical trans crime drama set in modern times in mexico bangkok tel aviv switzerland and london england the two main characters are a mexican lawyer rita mora castro  and a vicious cartel drug lord juan manitas  manitas has a wife jessi  and two children after the film demonstrates ritas legal capabilities manitas hires her to perform a servicefind a surgeon willing to perform genderaffirming surgery secretly rita is also to resettle his family in switzerland while manitas fakes his death and becomes emelia pérezfour years later emelia wants her children to live with her as their aunt in mexico rita is again enlisted to assist with things the film follows this initially successful transition that begins to sour as jessi pursues a relationship with gustavo and emelia explores a relationship with epifanía  it ends badlywith that plot its hard to see musical numbers sustaining it they mostly dont except for one riveting dance number at a fundraising dinner by zoe saldana the cinematography is occasionally stunning but the plot jumps from scene to scene with many unresolved issues eg why did the shootout end and how did emelia continue to function safely with drug lords after her transition jacques audiard tried to do too much and it didnt succeedzoe saldana and karla sofia gascón do very well the direction is the issue",
         "0"
        ],
        [
         "21",
         "unwatchable as a mexican and a musician emilia perez was an absolute assault on my ears the songs were atrociously written and horribly performedan unbearable disaster from start to finish the spanish dialogue completely unintelligible thanks to ridiculous accents and what seemed like google translatelevel writing seriously who thought this was acceptablethe story might have had some potential but even that was destroyed by how horribly written it was any shred of creativity was drowned in a sea of incompetence this isnt just a bad movie its an insult to anyone who appreciates decent filmmaking a complete and utter failure",
         "-1"
        ],
        [
         "23",
         "doesnt live up to its first act i really enjoy how director jacques audiard can embrace genre films something that stands out in french filmmaking you never know what to expect next with him and certainly not a spanishlanguage musical set in mexico and featuring a trans mob bossits also interesting to see how the movie does not so much deal with transsexuality or identity but rather use that story as a starting point to ask whether people can change whether a criminal rotten to hisher core can become another person and whether they can truly ever atone for their crimes beyond sex and gender can you change your soulthat being said the movie ultimately disappoints by leaving that theme aside in its last act for the benefit of a rather bland kidnapping storyline you feel like that our master criminal is sliding back toward their old violent habits until the story drops the ball and goes in a disappointing direction i was really looking forward to the resolution a sign that the film was working for me until i realized there was nothing more to expect from this movie what a wastethe plot also sacrifices the zoe saldana character who at first appears to be the protagonist until she fades aways in the background this points again at a screenplay that is good on buildup but weak on payoff",
         "0"
        ],
        [
         "24",
         "overhyped a cringey mess the portrayal of mexico is a caricature riddled with lazy stereotypes  other than the mum saying her son teacher was missing  so it covers a couple of violent headline news but far from a full critic of why it happens the fact that not a single mexican actor graces the screen a slap in the face to a rich culture and talented performers dealing with difficult themesthe music an offensive assault on the ears its as if the composers googled mexican music and slapped together the first five results no soul no nuance just a jarring cacophony sorry but hasta mi pinche vulva te extraña is so cringey in spanishand the trans representation the film reduces a complex and nuanced identity to a cheap plot device lacking any genuine depth or respect into a couple of poorly written songs about de pene a vaginaemilia pérez is not just a bad movie its an insult",
         "-1"
        ],
        [
         "26",
         "ignorance is bliss but its still ignorance the music is awful the characters are awful representation is awful privileged people thinking how exotic is to live in a country full of violence as if it was the wild westdevoid of the logical rationality behind human rightsfinally making the literal comparison of a cartel leader becoming a saintthey absolutely have no idea of the real worldeven from the title they thought of the most common stereotypical namealso its really ironic how they used google translate but couldnt use google search im not even asking for realism just for them to show they didnt do less than minimum effort",
         "-1"
        ],
        [
         "27",
         "outstanding this film is unique in every way possible to take such a story as this and add music seemed so bizarre and should not work however the incredible performances of both saldana and gascon drew me in i cant believe how i fell in love with amelia perez because one shouldnt but i didthe music too was emotive especially papa sung by amelias soni dont understand the negative reviews but i do understand why it has been nominated for so many academy awardsonly in very well thought out films can one be sucked into caring for a character which in life one really should notthis film is about truth and redemption as much as it is about understanding our own identities",
         "1"
        ],
        [
         "28",
         "a very mixed bag the critiques of this movie as inauthentic and cringy are not wrong in particular the music was really bad the songs are barely songs theyre more like chants on the other hand this movie tells a unique story and has great preformances by zoe saldana and karla gascon zaldana in particular is the only one who is entertaining in her musical numbers becuase she is actually a good dancer and a comelling preformer i almost felt sorry for selena gomez how could she look good when her songs and dialouge were so bad but saldana and gascon kept me watching until the end i think this would have been much better as a drama and not a musical and as for people who will say that this is not mexican well they are right about that",
         "0"
        ],
        [
         "29",
         "honestly one of worst films ever made as a mexican this is painful tu watch as a film lover this es dreadful if you are going to make a movie about mexico hire mexican actors the slang is terrible not even accurate is like listening to children cursing if you dont speak spanish if you have a terrible image of mexico and if youve never travel here because you are afraid youll get killed this is a movie for youif you been to this beautiful country and if you understand our language you would agree with me  esta película no representa a méxico ni a su gente ni a su situación y mucho menos a nuestro idiomawith that being said the movie just doesnt work there is no chemistry between the characters  the story goes nowhere  it is one of the worst movies out there  i swear this is not hate its just terrible",
         "-1"
        ],
        [
         "30",
         "better than joker  at least its interesting coming to emilia perez late after its caused the stir it has watching the film i was often thinking about whats rubbed people the wrong way and different things that rubbed different people the wrong way lots of it can be interpreted charitably or cynically even then how much of it is really supposed to be cynical is up to interpretationbut its already an overwhelming movie to think about so i want to focus on what i personally liked and disliked im not going to passionately defend the film but im also not going to tear it to piecesi thought it was an interesting film i appreciated its boldness i thought some of the acting was good  and some of its thrilling to watch its a movie that only sometimes comes alive but i liked the energy in those scenes that did work its a movie that does a lot and asks questions in a way that obviously some people will respond well to and some people will lash out against i think the film wants to be challengingstill even with that intent emilia perez does sometimes feel confused in ways that might not be intentional some songs are clunky and repetitive the editing is bad at times and the narrative doesnt flow well all three characters often feel like theyre off doing their own thing in their own movies and jumping between each one sometimes felt headscratchingit feels like a film where the people behind it wanted to do a lot but mightve been overconfident or more lost than they realisedwanted to admit its an imperfect shock not to the system but to so many systems and i dont know how many systemsthings it was targeting necessarilythinking about this film wears me out  but i think for better or worse itll kind of stick with me i dont know if i want it to for too long but i can say this i dont think i regret watching it",
         "0"
        ],
        [
         "34",
         "this was soooo bad as a spanish native speaker this was very hard to watch the songs are boring and lack good lyrics it just repeats the same phrase over and over its a poorly representation of mexican culture almost like a joke the concept was actually decent but honestly i dont know what happened in the execution and scripti fight myself to dont fall sleep because i honestly thought that itll get better in some point hahaa but i was wronga total waste of time dont bother watching this",
         "-1"
        ],
        [
         "36",
         "truly abysmal i want to be clear i agree this movie is denigrating to the mexican community and the trans community which by itself makes it an absolute disgrace as a movie by itself it is truly one of the biggest pieces of garbage i have ever seen zoe saldana is fine but the acting from every other person is quite frankly abhorrent selena gomez is truly shocking in both her grasp of spanish and her singing how this movie has garnered so much critical praise is beyond me i feel it serves as a huge reminder with how deluded hollywood is do not waste your time with this you will wish you could have the time back",
         "-1"
        ],
        [
         "38",
         "original but not without flaws original movie with a lot of creativitythe good you get some insight of transgenders spanish musical singing  actrice zoe and karla the setting and the way you can feel the mexico vibe some parts of the story where you can clearly feel the quality of the director the movie is very orginialthe bad the biggest problem is that they portray a drugs maffia lord responsible for  deaths or missing later on as a good house wife with a good moral sense that is just a big clap in the face of all people who lost someone because of the drugs wars in reality the whole basis of this movie just feels wrong and without respect to those peoplewhat is more bad it is too long selena gomez  all main actrices are woman  script story line and a clear goal or motive is missing what is the point or goal off any of the  main actrices of this movie there is nonejust a  out of ",
         "0"
        ],
        [
         "39",
         "worst movie ever watched  wasted of time seriously this movie is such a joke it literally lacks authentic representation of mexico as a mexican i am deeply offended this movie is poorly directed and written i was originallly very passionate and excited for this movie but after watching this it just upsets and offend me on top of that how did this film get nominated for oscar anyone with a good pair of eyes could see this film has nothing good at all especially the plot what in the world is it it is ridicoulous does not make any sense and again ridiculous please do not spend time watching this movie it is a complete waste of time",
         "-1"
        ],
        [
         "42",
         "worst movie of the whole decade or maybe life this movie is a complete disaster the music is terrible the singing is unbearable the storyline is shallow and nonsensical and the acting is completely flat its filled with bad references and cringeworthy moments that make it feel like a parody of itself a true humiliation for mexican cinema and culture the fact that it received nominations and awards only proves how biased and soldout these institutions are dont waste your time on this movie there are plenty of better films out there avoid it at all costs watch anything else instead even the worst lowbudget movies have more heart and effort than this mess",
         "-1"
        ],
        [
         "45",
         "failed to commit to any of its premises emilia perez is a drama thriller musical centred around a cartel boss and their lawyer whist i was somewhat invested throughout the film my main issue is that it did not commit to any of its premises which left the experience feeling very surface level with the most memorable part being that it tried to combine several genres togetherit didnt commit to being a thriller which meant there was nothing fresh regarding these elements the plot allowed allowing anything that might have been intriguing to simply happen by chance which removed the tension from these scenes the musical numbers werent particularly entertaining and the drama concerning the protagonist wasnt explored in a way that gave me meaningful insight into the character and their emotions so whilst the mishmash of genres was intriguing little else was memorable with the exception of zoe saldanas performance",
         "0"
        ],
        [
         "46",
         "ridiculous offensive pretentious garbage is this the plot of an episode of south parkno its your new pretentious french director mix of unique not talked about enough before themes into one piece of offensive exploiting of controversial made for bold american critics who want to see something different than their regular blockbuster jokes on them the end with the car crash was so hollywood but instead of doing a critic on how ridiculous cinema is when treating these themes with comedy its such a poor intent that it gets offensivelets put a transexual narco who wants to reedem itself by trying to help the poor mexicans who lost their relatives then they belive she is a goddess herself in what world this is a good idea this is offensive the stereotypes are too high why lucrate with a theme so delicate as the people who is lost bc narcotrafic this is a sensitive theme in mexico you put this into a comedylets laugh about a tragedy in the us in a comedy with french actors then would the academy like thatzoe saldaña is an incredible actor who shouldnt have been involved in this mess withouth her this movie would be in the garbage where it belongs of course they needed selena for audiences tooif they didnt had them or similar actresses hot on hollywood this mediocre film wouldnt be as famous as it isin the end scene this movie puts a red ribbon into the hate for mexicans making the bad stereotypes as strong as in a trump speech dumb mexicans would idolize a martir even if she was a narco seriously did the director saw a december  video of la basilica de guadalupe and tought mexicans love to pray to a plastic figureoffensive piece of crap with ridiculous attempt of mexican representation so cringy to watch so ridiculous that is praised for first world critics who dont have a slightly idea of what mexico is",
         "-1"
        ],
        [
         "49",
         "i hated this movie the title says it all i absolutely hated this film to the point where my partner and i noped out after about an hour and halfcaveat to begin with i am not a fan of musicals as a rule i can make exceptions if the songs are very good unfortunately the songs in emilia perez are not good very very not goodas everyone else has noted its been very well shot very colourful and some of the choreography during the unendurable song and dance numbers was pretty goodalas this good cinematopgraphy did not help make these sequences any more enjoyable mind you each song and dance number causes the overall story to screech to a halt this is super frustrating as there are moments where it seems like there could be an interesting story at play but these are soon washed away with another super cringey and cheesy songthe story as it is about a trans woman who changes their personality completely after transitioning is insulting tom the trans community as well as being utterly ridiculouszoe saldana is giving everything  so respect to her i only wish the film were worthy of her efforts everyone else was lousy especially selena gomez who with all her financial resources youd think could afford a dialect coachim not sure what the critics and award voters are seeing in this one its one of the worst films ive seen in a very long time",
         "-1"
        ],
        [
         "51",
         "dont bother im trying to be objective so here i go yes to photography no to everything else i dont usually end a movie feeling it was a waste of time but seriously it was exactly that the movie is constantly distracting you because its really hard to not no see from the littlest to the biggest disaster on screen very disrespectful with most of the situations the movie try to approach but hardly do and its not just selena gomez or her really bad spanish its the way she does the character and the script for sure let me tell you something its not her pronunciation we are in latinoamerica like who says that who use those words in real life every word she says sounded clinic and lets not talk about her acting and again thats not just her it was the whole cast the script the direction everything but hey good photography",
         "-1"
        ],
        [
         "55",
         "worst movie ever this is hands down the worst musical i have ever seen if zero stars were an option id be all over it watching this was like sitting through a bad high school play where everyone forgot their linesbut somehow they also forgot the plotlets talk about selena gomezs character jessi it was like her entire script got run through google translate twice i speak spanish and even i needed subtitles to understand her honestly it felt like the movie was actively trying to insult my brainthe plot had potentialill give it thatbut it was buried under layers of cringeworthy acting and a bafflingly tonedeaf approach the director must have skipped the mexican culture and language section during research  and dont even get me started on how wildly insensitive this movie is to families dealing with reallife disappearancesin conclusion this movie didnt just miss the markit missed the entire target fell off the stage and took the audiences patience with it",
         "-1"
        ],
        [
         "57",
         "caught me off guard i went into this a bit sceptical not a big fan of modern musicals but also not sure what to expect i have to say the first few minutes i almost turned it off but then zoe saldanha drew me in and i found myself utterly charmedi have loved zoe since i saw her many years ago in center stage she constantly delivered great work through the years and i have to say i am very happy that she finally has the role that will bring her some real awards attention she is co lead in this film and should go lead but i get it in supporting she might actually get to go all the way and win the oscar this is the role of het lifetime  and she is brilliant in it there is a scene at a benefit and she starts to sing and dance took my breath awayselena gomez like zoe i have loved since her wizards days very happy to see her doing so well in her acting career and she also gives a fantastic very mature grown up performance she is the supporting actress here i hope she also gets a nomination at leastthis is my first time watching karla sofia gascon in anything and yes she really delivers stealing every scene very raw emotional fierce fiery so many words i can use to describe her performance i really hope she gets that nomination i am writing this on  and watching the chatter online i do hope she makes history and can go all the way to the kodak theatrethe camera work the music the story and message at the core of the film are all really interesting and will make you think the film has a certain rhythm a beat at certain points i found myself tapping my featthere are a few songs where the lyrics were a bit strange and will make some people cringe but i think it may just me the spanish to english translationfor all movie lovers movie buffs awards watchers go see the film it really is a great one one of my fave of the year",
         "0"
        ],
        [
         "58",
         "horribly offensive to the mexican public for me being mexican it is very offensive not only because spanish is anything but mexican but because of the topics it deals with it is like this if i gathered mexican actors who do not know how to speak french and made them talk about the social problems of france and then said that i did not investigate anything about why i made this film and said that i did not even feel like investigating because i already knew everything about france because they represent a stereotypical and senseless mexico all they needed was the orange filter the charro hats and the desert everywhere and i still dont understand why this is nominated for best movie",
         "-1"
        ],
        [
         "59",
         "doctors can only do so much they can fix bodies but not souls a devious yet frequently overlooked mexico city defense attorney rita attracts the attention of manitas a notorious drug lord and criminal mastermind manitas has an interesting request and one that rita entertains at her peril for staging his murder secretly obtaining the perfect surgeon and providing for his family manitas will make rita rich the trick is that he will be reborn as she emilia things go well for a time but the past begins to creep back emilia misses her kids and wife and doesnt like the new influences on their lives emilia struggles to live half in one life and half in anotherthis combined narcothriller musical romance comedy characterdriven social piece and gender affirmation drama is mindblowing the film bumps around to different and interesting locations around the world too while the film has many plot twists director jacques audiard maintains firm control of the narrative i really admire and appreciate his work it is amazing that a film can be so thrilling and funny and yet manage to get in a plug about the  plus people who have disappeared in mexico due to drug violence but audiard does ittrue to the films multifaceted and surprising nature the actors won a combined award at the cannes film festival for their roles the film is intriguing and fascinating because it never loses sight of the human nature component emilias feelings are natural for what someone in her shoes might ask and wonder about for example was she really in love and did people love her further i am enthralled with the french style particularly its rawness no one pulls any punches and no censors are active with their censoring pride truth forgiveness love and more are all on full display",
         "1"
        ],
        [
         "64",
         "feels like college students made it as a project the plot is complete stupidity such an awful movie at times the movie feels like a forced high school play no real actors besides zoe saldana as much as i like selena gomez this movie was too far a stretch for her she cannot speak spanish as a native spanish speaker i needed to read the subtitles to understand what she was saying the songs try to be emotional but they end up being unrhythmic and nonstorytelling disasters how this movie could win so many golden globes is beyond my comprehension very distressed to see this movie receive any type of recognition the ending tries to be tragic but ends up leaving more questions than answers what a mess dont watch this",
         "-1"
        ],
        [
         "66",
         "too offensive for mexicans this movie shouldnt be even nominated at all its offensive who takes a serious subject from one country and decides to make it a musical frenchthe director admitted not doing any research about mexico and it shows this movie is hideous and disrespectful to my countrynon of the actressactors in the film are even mexican the songs are sloppy bad acting bad script bad everything and its not even released in mexico its a joke to usthe dissapearences in mexico are not for entertainment or your amusement take this movie down its badthis thing didnt let me give  stars",
         "-1"
        ],
        [
         "68",
         "simply audacious insane and incredible this movie is full of excitement and emotion i really love how different it was i can say  sure that ill take some years to watch something so different and at the same time incredible again the plot is interesting enough to keep you tuned some of the musical numbers were not my cup of tea but i dont think any of them was unnecessary shout out to bienvenida and el mal my favorites for surebut lets get into the not perfect part i think jessi shouldve been more developed i could understand her motivations but it left me begging for morei love how selena portrayed this crazy insane and stressed ex wife shes exactly how shes supposed to bezoe is extremely good and her charisma keeps it workingkarla well karla is just spectacular no wordsemilia perez is indeed an insane movie it has everything to go wrong but its the opposite it works beautifully the director was really original and audacious while also brave cause i can see a lot of people will see this and just laugh  its not for everyone  you have to be a  to go ahead and believe in your crazy ideas or youll never know if it works or not well emilia perezs  worked",
         "0"
        ],
        [
         "69",
         "this is an insult this movie is horrible is so disrespectful about mexican culture the spanish is so awful no one talks like that is so difficult to understand what they are saying there are no mexican actors in the movie it shows how the director did not care about make a properly research this films just gives cringe i cant understand how this piece of garbage is nominated to oscars and had won some awards and the people that is praising this movie does not know anything about the real sitaution if not there is no way that this could have positive reactions in resume this is an insult and shouldnt be considerarse as a great film",
         "-1"
        ],
        [
         "70",
         "brilliant i watched this masterpiece as described by micheal mann on stage introducing the film at the opening night of the american french film festival in la the theatre was full supporters riding high from collecting accolades at cannes all the way around to the film festivals circuit with crew heads held high and what applauds they deserve the actors the plot the depths of emotion camera shots and storytelling was absolutely brilliant the dancing moving script colors visualsits not about man meets woman its about anything you want it to be those scenes were shot in paris recreating the stress of mexico city just like the plot was meant for you to recreate it any which meaning you want it to give",
         "1"
        ],
        [
         "71",
         "emilia the ganster and the love i didnt found the movie that bad to be honest but there are some things that bothered me during my time watching it im not really fan about how they balanced things between musical and serious moments there are some times that i felt that even the actors didnt know how they performed when there was some serious moment or musical  even the musical part i was not that fan  for me it was a lot of noise and it get pretty distracting when they revealing some part of the stories while singing  i was not a big fan of thisbut for me the thing that i really enjoyed and i think the most interesting thing in that movie was that trio  emilia  jessi and rita it was very interesting because emilia was a man before  she was the ex husband of jessi and rita know that and after that it was an interesting game between all these elements  when jessi announce she is getting married and will bring the kids with her in front of emilia and us as a viewer we know who is emilia and we know it will not go very well  and at the same time we know the movie will offer that confrontation between jessi and emilia and the truth will be revealed i like that kind of suspense and when she knows  she knows i love also that scene when jessi  rita and emilia was on the phones and we saw how rita tried to handle every person during the big problem between emilia  jessi it have some interesting moments also all along but the beginning took some times to really give the real interest  in my opinion in that movie i was a little bit scared at first  i was very confusing and didnt understand what that movie was really about  the trailer didnt give too much info too  but after a few moments we know whats going to happen and it generate suspense and interest to the movie again but once again the musical part was not that necessary in my opinion and sometimes was too much distracting sadlybut i appreciate it anyway and found it a little bit long for what the movie is really about so im still mixed feeling about this movie and its clearly not for everyone but i appreciate the trio emilia rita jessi and i love the musical when it was jessi who performed on the bed  it was very sensual but what i love also its that we saw a lot of womens on screen and its a really good thing in my opinion and i enjoyed watching it  despite not liking the musical part  i need to say that the visuals make it pleaseant anyway we had also that side story about workers and bad conditions of work but it was not really that impactful in my opinion there was also some moments where i felt also that the movie lack clearly of directions but its watchable and i think after a while when you will see what the movie is really about it will be suspensful and interesting despite a long and slow build good anyway",
         "0"
        ],
        [
         "72",
         "mocking reality zero acting skills little little into the middle no point im speechles waste of money and time i mean just because you brought  actress and  celebirty wont make your movie successful i mean the producers or the writers couldnt decide which scenerio to choose thats why they mixed it all together like a puke insult to the musical industry insult to the sad realities big insult to the people who dealt with these kind of situations such as murder loosing someone because of murder missing family member covering innocent peoples murderemilias charity work  cringe showi mean what the heck did i just watchonly zoe saldana can act the rest is just very bad i mean people study acting or musical theatre for years but nooo this is the cast that they came upselenas character could be foreigner directly instead of speaking spanish and sometimes englishone of the worst movie i have ever seenit is like first you ate an omlette then ate waffle then fish and chips then baked alaska then pizza and puked all of them",
         "-1"
        ],
        [
         "74",
         "would a film have all those awards and nominations if it came from somewhere else if we made a musical about  in latin america would it go so far in hollywoodmy rating goes beyond the acting performance it has to do with a terrible script a superficial and halfbaked message and poor executionfor latinos it is a clear example of how disconnected hollywood is not only from problems outside of them but also from the cultures that surround them i mean most of the movie takes place in mexico city but it all feels like a caricature not like it was done on purpose but it all feels caricatured due to a vast lack of knowledge of the city that was obviously had when making the movie  ive never been to mexico city and it still took me  seconds to realize that and again the fact that it wasnt obvious to hollywood is something that should worry themthe musical numbers feel strange and out of place the conversations are not very fluid they seem written by ai and the terrible spanish makes it impossible to watch the film as a latin americani pirated the movie to watch it and i still want my money back",
         "-1"
        ],
        [
         "76",
         "when you saw a couple of bad movies came this one in  we witnessed two of the worst movies of the year madame web and joker  just when we thought nothing could be worse emilia perez came alongthis film was intended to showcase mexican actresses and be filmed in mexico yet none of that is evident throughout the movie the director did not take the time to research the country he aimed to portrayas a musical it falls flat the music is quite mediocrealmost as if it were generated by chatgptand the performances are largely disappointing except zoe saldañasthis movie serves as a glaring example of how a film can insult the entire latin american continent through its portrayal of our cultureit is incomprehensible how this film received  oscar nominations",
         "-1"
        ],
        [
         "77",
         "nonstop thrill ride hold her protect herme encanta la películato say that i was sceptical of this movie would be an understatement on paper it shouldnt work but never have i been gladder to be wrong fortunately the film exceeded my expectations watching this movie is equivalent to getting a dose of heroin injected into your veins the film blends in various genres at once and not only succeeds at it but outright knocks it out of the park and surpasses my lukewarm expectations it starts off as a procedural drama and musical then seamlessly transitions into a family drama crime comedy and thriller the director doubles down and explores all these genres to their full extent the film also suggests that it is kind of a gangster epos telling the story of a cartel boss on a journey of selfdiscovery ever since he was a child he dreamt of being someone else it is strange to me that these kinds of people have those aspirations i always think they lack empathy and are not very progressive this might be quite narrowminded of me to say and might land me in hot water with some people but its what i believe and what i experienced if that makes me out of touch then so be it im not really involved with those kinds of people but im glad i was exposed to this otherworldly world on a happier note selena gomez is phenomenal and radiates beauty in this filmselena gomez has always been a terrific actress but this movie takes it to a whole other level im a simple guy if i see selena gomez singing and dancing in spanish it is an automatic five stars she has never looked more beautiful its true what they say you become more beautiful as you age ill always be a fan of selena gomez no matter what if her character in the movie wants to brutally torture her very close friend  then thats her pejorativei cant wait to download the films soundtrack so i can listen to it on repeat im the kind of person who listens and obsesses over a song for months on end the film can get quite dark at times but the doom and gloom aspects are balanced out by the incredible and wholesome musical moments the musical moments were without a doubt magnificent and flawlessly executed the viewer is completely immersed in the diegetic world thanks to the thrilling and catchy songsthe ending is to put it simply heartbreaking i never expected a happy ending but i thought emilias life would continue emiliamanitas wanted to spare jessi from the pain of their transgender operation but i think they underestimated her as is evident throughout the film especially the unfortunate and tragic ending the film really captures the transgender experience realistically one might decree that the film is a clever commentary on transgender identity and how it impacts all the facets of their lifein a nutshell the film is an adrenalinefuelled spectacle with action humour suspense thrills and not to forget song and dance it was difficult to ascertain the mood of the audience  but i think that most people enjoyed it like me its certainly a divisive film emilia perez is the wackiest surrealist intoxicating original musical of the decade so far it had everything you could possibly want from a film making for a super fun and memorable cinemagoing experiencefinal verdict 10the film kind of reminded me of this quote from donald trump now she wants to do transgender operations on illegal aliens that are in prison this is a radical left liberal that would do this",
         "1"
        ],
        [
         "79",
         "just awful this is one of the if not the worst movie ive ever seen and im not exaggerating i even created an account just to write this at one point during the film i found myself wondering if it was so groundbreaking that i simply couldnt understand itits not just the muchdiscussed poor representation of mexico or the terrible spanish spoken by most of the cast or even the horrendous songs the real problem is that the plot makes absolutely no sense the movie touches on several themes but fails to explore any of them in depth it feels as if they cut all the scenes that might have given the story some coherence or emotional weight making it impossible to connect with or care about the charactersi honestly would love to know if the actors and production team genuinely liked the final result because its still hard for me to believe that anyone could see this as a good movie its baffling",
         "-1"
        ]
       ],
       "shape": {
        "columns": 2,
        "rows": 360
       }
      },
      "text/html": [
       "<div>\n",
       "<style scoped>\n",
       "    .dataframe tbody tr th:only-of-type {\n",
       "        vertical-align: middle;\n",
       "    }\n",
       "\n",
       "    .dataframe tbody tr th {\n",
       "        vertical-align: top;\n",
       "    }\n",
       "\n",
       "    .dataframe thead th {\n",
       "        text-align: right;\n",
       "    }\n",
       "</style>\n",
       "<table border=\"1\" class=\"dataframe\">\n",
       "  <thead>\n",
       "    <tr style=\"text-align: right;\">\n",
       "      <th></th>\n",
       "      <th>text</th>\n",
       "      <th>sentiment</th>\n",
       "    </tr>\n",
       "  </thead>\n",
       "  <tbody>\n",
       "    <tr>\n",
       "      <th>0</th>\n",
       "      <td>the worst representation of mexicos actual dru...</td>\n",
       "      <td>0</td>\n",
       "    </tr>\n",
       "    <tr>\n",
       "      <th>1</th>\n",
       "      <td>a tonedeaf musical disaster emilia pérez has s...</td>\n",
       "      <td>0</td>\n",
       "    </tr>\n",
       "    <tr>\n",
       "      <th>2</th>\n",
       "      <td>okay so the problem with this movie is not sel...</td>\n",
       "      <td>0</td>\n",
       "    </tr>\n",
       "    <tr>\n",
       "      <th>4</th>\n",
       "      <td>emilia perez ambitious themes incomplete execu...</td>\n",
       "      <td>0</td>\n",
       "    </tr>\n",
       "    <tr>\n",
       "      <th>6</th>\n",
       "      <td>overhyped emilia pérez is at best just okay it...</td>\n",
       "      <td>0</td>\n",
       "    </tr>\n",
       "    <tr>\n",
       "      <th>...</th>\n",
       "      <td>...</td>\n",
       "      <td>...</td>\n",
       "    </tr>\n",
       "    <tr>\n",
       "      <th>472</th>\n",
       "      <td>an original thriller with a twist emilia perez...</td>\n",
       "      <td>0</td>\n",
       "    </tr>\n",
       "    <tr>\n",
       "      <th>473</th>\n",
       "      <td>good subject and acting but bad movie  bad exe...</td>\n",
       "      <td>0</td>\n",
       "    </tr>\n",
       "    <tr>\n",
       "      <th>475</th>\n",
       "      <td>should not work on any level  yet has enough s...</td>\n",
       "      <td>0</td>\n",
       "    </tr>\n",
       "    <tr>\n",
       "      <th>476</th>\n",
       "      <td>tonedeaf in more than one sense i was stunned ...</td>\n",
       "      <td>0</td>\n",
       "    </tr>\n",
       "    <tr>\n",
       "      <th>477</th>\n",
       "      <td>a wild entertaining ride that overwhelms itsel...</td>\n",
       "      <td>0</td>\n",
       "    </tr>\n",
       "  </tbody>\n",
       "</table>\n",
       "<p>360 rows × 2 columns</p>\n",
       "</div>"
      ],
      "text/plain": [
       "                                                  text  sentiment\n",
       "0    the worst representation of mexicos actual dru...          0\n",
       "1    a tonedeaf musical disaster emilia pérez has s...          0\n",
       "2    okay so the problem with this movie is not sel...          0\n",
       "4    emilia perez ambitious themes incomplete execu...          0\n",
       "6    overhyped emilia pérez is at best just okay it...          0\n",
       "..                                                 ...        ...\n",
       "472  an original thriller with a twist emilia perez...          0\n",
       "473  good subject and acting but bad movie  bad exe...          0\n",
       "475  should not work on any level  yet has enough s...          0\n",
       "476  tonedeaf in more than one sense i was stunned ...          0\n",
       "477  a wild entertaining ride that overwhelms itsel...          0\n",
       "\n",
       "[360 rows x 2 columns]"
      ]
     },
     "execution_count": 12,
     "metadata": {},
     "output_type": "execute_result"
    }
   ],
   "source": [
    "df_final"
   ]
  },
  {
   "cell_type": "code",
   "execution_count": 13,
   "metadata": {},
   "outputs": [],
   "source": [
    "# remove stop word: \n",
    "stop_words = stopwords.words()\n",
    "df_final['text'] = df_final['text'].apply(lambda x: ' '.join([word for word in x.split() if word not in (stop_words)]))"
   ]
  },
  {
   "cell_type": "code",
   "execution_count": 14,
   "metadata": {},
   "outputs": [
    {
     "data": {
      "application/vnd.microsoft.datawrangler.viewer.v0+json": {
       "columns": [
        {
         "name": "index",
         "rawType": "int64",
         "type": "integer"
        },
        {
         "name": "text",
         "rawType": "object",
         "type": "string"
        },
        {
         "name": "sentiment",
         "rawType": "int64",
         "type": "integer"
        }
       ],
       "conversionMethod": "pd.DataFrame",
       "ref": "195c1bcd-b06e-42f2-9010-9761087bdabf",
       "rows": [
        [
         "0",
         "worst representation mexicos actual problems mexican movie awful representation narcotics problem mexico story initially interesting quickly ridiculous premise film cruel assassin lord martyr losing penis additionally selenas acting subpar speak spanish despite cast mexican character actors mexican spanish accents spain caribbean frankly incomprehensible selenas caseoverall idea turned movie",
         "0"
        ],
        [
         "1",
         "tonedeaf musical disaster emilia pérez sparked significant controversy reason outset lack mexican representation glaring oversight french directors admission feel research mexico paired casting directors claim talented mexican actors found adds insult injury choices reflect tonedeaf dismissive approach authenticitywhats baffling emilia pérez managed garner oscar nominations academy history nominating films problematic undertones offered stories entertained broad audiences emilia pérez accomplish story dull lifeless watched fell asleep decided switch movieto make matters worse emilia pérez musical songs forgettable cringeworthy worst cast barely sing musical numbers highlight drag movie furtherthat couple redeeming elements zoe saldaña karla sofía gascón deliver strong performances deserve backlash tied films broader issues nominations feel genuinely earned unfortunately rest film messoverall emilia pérez underwhelming uninspired production fails justify attention received",
         "0"
        ],
        [
         "2",
         "problem movie selenas spanish find movie particularly dialogue cringy mexican terms movie portrayal mexico film stereotypical cast real latin writers supervisors make movie accurate respectful country fact director speak spanish english speaks volumes commitment understanding movie emotions triggersalso songs horriblethe salvageable zoe saldañas performance",
         "0"
        ],
        [
         "4",
         "emilia perez ambitious themes incomplete execution emilia perez movie felt flat times story easy characters lacking tension conflict emilia particular transforms overwhelmingly positive character backstory goodthe movie tackles wide range themes struggles fully explore instead diving deeply idea spreads thin leaving threads underdevelopedas typically enjoy musicals film change mind appreciate directors vision viewers enjoy musical elements credit musical numbers especially performed zoe saldana performance standout arguably films biggest revelation elevating scenes presence talentoverall emilia perez enjoyable film understand acclaim cannes moments",
         "0"
        ],
        [
         "6",
         "overhyped emilia pérez feels incredibly overhyped honestly understand winning awards zoe saldana delivers strong performance rest cast averagethe film mix crime drama musical elements execution uneven scenes drag making pacing feel sluggish emotional moments forced genuine cinematography production design impressive storytelling lacks depth film aims high fully deliver medecent forgettable",
         "0"
        ],
        [
         "7",
         "hard watch emilia pérez musical sparked debate due themes execution particularly mexico release surrounded controversy watched open mind aware narrative focus genre away mixed feelings break key points stereotypes performances script songs stereotypes impossible discuss movie addressing cultural treatment beginning feels collection clichés mexico genuine exploration culture mexican offended stereotypes interest delving deeper feels brainstorm referencessombreros skulls tequilawithout adding meaningful narrative lack authenticity turns setting caricature production set story country swapped clichés made difference plot performances interesting performances nominated multiple awards spanish speaker accent diction constant distractions actresses hard result fails convey genuine emotions connect audience crucial part acting mastering dialogue delivery intonation elements evoke empathy rejection characters happen character made feel storyi suffer celebrate victories script songs script unfortunately films weakest points dialogues feel mechanically translated spanish riddled errors conjugation awkward phrases extends songs fail work music narrative tools musical songs integrate organically move story forward feel forced shoehorned preexisting structure concern rhythm coherence theme film touches sensitive nerve mexicans complicated humanize cartels country suffers direct consequences violence disappearances daily fear idea portraying lord deserving redemption wishes transition stay identity benefactor social feel insulting foreign audience interesting narrative living reality drugrelated violence idealization borders indifference collective sufferingin conclusion emilia pérez interesting technical elements isolated moments worth noting enjoyable film lack authenticity cultural representation performances fail connect weak script weigh cinema subjective movie finds audience captivating musical frustrating experience",
         "-1"
        ],
        [
         "8",
         "fine big problems ambitious film succeeds combining genres film manages fascinate captivate long running timehowever major problems film ridiculously moralisticsecond absurd believe immediately question identity background character motivation legit make amends mindboggling filmmakers apparently unquestioned protagonist mysterious woman respect carelessly decides enter spotlight",
         "0"
        ],
        [
         "9",
         "winning awards make film great stupid film stupid sentiment lot musicals fit make felt forced kinda joker rita selected managed illegal stuff expert money nohing explained lawyer find fault jn gustavo emilia manitas death emilia supposed feel sorry cartel leader lots stuff stuff forcing children stay explaining wife feel kids father ruined family running personal gains himselfand rita family close rita emilia lots illegal stuff rich film justify sentiment emotion praising ngo twisted song rita mocks corrupt make illegal stuffs richsome visuals ive rated higher garbage",
         "-1"
        ],
        [
         "10",
         "cooks kitchen finished watching emilia perez fine guess lot dislike moviepositives emilia perez movie great cinematography movie ambitious blending genre thrown mix appreciate performances zoe saldana karla sofia gascon musical numbers fun watch finally movie great job telling transgender storymixed emilia perez movie ambitious blending genres elements felt place movie musical numbers feel felt jarring timesnegatives emilia perez movie long feel movie couldve told story shorter runtime movie lost interest immediately background noise meoverall admired filmmakers actors ambitious movie fully worked recommend movie interested movie",
         "0"
        ],
        [
         "11",
         "joke spanish native speaker found movie disrespectful childish spanish speakers characters barely pronounce words turning script uncomfortable caricature disguised modern production fall errors typecast latinos stereotypes valuable attempt offer different mixing spanish language film musical execution irritating watch positive reviews totally unfamiliar spanish language determining factor making film totally inedible endless meme material",
         "-1"
        ],
        [
         "13",
         "movie lack focus film juggles themes fully explored leaving narrative feeling rushed incomplete result feels collection ideas cohesive storyi understand framed musicalthis choice felt disconnected rest storythe performances solid characters developed create lasting emotional connectionhowever cinematography beautifully shot visually captivatingto sum movie leaves wanting depth clarity",
         "0"
        ],
        [
         "14",
         "believe oscar nominees movie considered motion pictures past year miserable experience movie musical songs advance plot characters fact awful songwriting makes scene song feel instead deeper understanding song song things screen effectively communicated visual storytelling songs structure genuinely feels translated duolingo awful delivery lines matters karla gascón finebut fine nominated oscar",
         "-1"
        ],
        [
         "15",
         "strangely bleak enjoyable movie demanding leading roles supporting roles requiring excellent performers played zoe saldaña karla sofia gascón selena gomez adriana paz quartet shared actress award cannes deserved saldaña particular revelationof writerdirector jacques audiards previous films ive memorable different ways prepared hats stuck genre ruttheres lot story lot singing emilia pérez singing paired damien jalets incisive choreography effect thrilling songs drag movie musicaltheatre lite deep dramatic demands put theyre rapinclined numbers rhythm important elementthe emilia pérez slough past change strangely bleak vision present musical",
         "0"
        ],
        [
         "16",
         "caricature speechless guessing positive reviews speak spanish b wanted caricatures mexicans trans confirmedthe dialogues insufferable speaks music jarring accents goodthe words sprinkled movie feel unnatural delivery written vague knowledge mexican culture definitely make goodthe redeeming quality movie undoubtedly pretty itmexican avoid costs",
         "-1"
        ],
        [
         "17",
         "felt fever dream musical cartel leader undergoing transition female social activist oscars bingo card bit confused snagged leading oscar nominations wanted felt place story felt satisfying suppose movie musical random songs great super negative moments acting costumesmakeup choreography zoe saldana karla sofia gascón put great performance deserving recognition nominations",
         "0"
        ],
        [
         "18",
         "mexican money capable making consider film representation history culture considering mexican context number nominations awards demonstrates outpouring money moves vote mexican majority finds film disrespectful french director thinks mexican culture international cast mexican actress considered awards campaign simply bizarre frightening film industry academia genuinely consider work",
         "-1"
        ],
        [
         "19",
         "word flabbergasted write gala screening london film festivala wild insane roller coaster film mixes crime comedy musical thriller succeeds flying coloursthe actresses core strength directed perfection audiardkarla plays character pre transition post naturally underdone publicly actor powerhouse performance time proud alive time trans actress plays trans role nails tragedy leaving life promise shes neededzoe sing dance cry laugh actor dreams film film happy shines scene car realising transpired breaks hysteria margo tonya glenn dangerous liasons scene win academy award beautiful voiceselena excited film kicks ballpark playing mob wife icy stormsimmeringbelowthesurface kind woman revisit young girl endured intense scrutiny psychosis whats lid long time screening felt body experience character jessi finally unleashes emotions audience years oppressed agony anger heard voice evidence acting calling passionate stupid shes disney kid prove acting journey exciting decadeslastly adrianas character sunshine dark twisted world film lives poignant perfectly complements actresses work brings love softness story workone major note film opera reminds umbrellas cherbourg entirely sung emotionally definitely intense small moments calm realise youre watching filmthe cinematography brilliant film selenas character lays unconscious passenger seat lover drives rage camera pans car felt painting poetic tragicso glad watched netflix release amazing film make feel normal drive bit crazy",
         "1"
        ],
        [
         "20",
         "jacques audiard musical trans crime drama set modern times mexico bangkok tel aviv switzerland london england characters mexican lawyer rita castro vicious cartel lord juan manitas manitas wife jessi children film demonstrates ritas legal capabilities manitas hires perform servicefind surgeon perform genderaffirming surgery secretly rita resettle family switzerland manitas fakes death emelia pérezfour years emelia children live aunt mexico rita enlisted assist things film initially successful transition begins sour jessi pursues relationship gustavo emelia explores relationship epifanía ends badlywith plot hard musical numbers sustaining riveting dance number fundraising dinner zoe saldana cinematography occasionally stunning plot jumps scene scene unresolved issues shootout emelia continue function safely lords transition jacques audiard succeedzoe saldana karla sofia gascón direction issue",
         "0"
        ],
        [
         "21",
         "unwatchable mexican musician emilia perez absolute assault ears songs atrociously written horribly performedan unbearable disaster start finish spanish dialogue completely unintelligible ridiculous accents google translatelevel writing acceptablethe story potential destroyed horribly written shred creativity drowned incompetence movie insult appreciates decent filmmaking complete utter failure",
         "-1"
        ],
        [
         "23",
         "live act enjoy director jacques audiard embrace genre films stands french filmmaking expect spanishlanguage musical set mexico featuring trans mob bossits interesting movie deal transsexuality identity story starting point change criminal rotten hisher core person atone crimes sex gender change soulthat movie ultimately disappoints leaving theme act benefit bland kidnapping storyline feel master criminal sliding back violent habits story drops ball disappointing direction forward resolution sign film working realized expect movie wastethe plot sacrifices zoe saldana character appears protagonist fades aways background points screenplay buildup weak payoff",
         "0"
        ],
        [
         "24",
         "overhyped cringey mess portrayal mexico caricature riddled lazy stereotypes mum teacher missing covers couple violent headline news full critic fact single mexican actor graces screen slap rich culture talented performers dealing difficult themesthe music offensive assault ears composers googled mexican music slapped results soul nuance jarring cacophony sorry pinche vulva extraña cringey spanishand trans representation film reduces complex nuanced identity cheap plot device lacking genuine depth respect couple poorly written songs pene vaginaemilia pérez movie insult",
         "-1"
        ],
        [
         "26",
         "ignorance bliss ignorance music awful characters awful representation awful privileged exotic live country full violence wild westdevoid logical rationality human rightsfinally making literal comparison cartel leader saintthey absolutely idea real worldeven title common stereotypical namealso ironic google translate google search realism show minimum effort",
         "-1"
        ],
        [
         "27",
         "outstanding film unique possible story add music bizarre work incredible performances saldana gascon drew believe fell love amelia perez didthe music emotive especially papa sung amelias soni understand negative reviews understand nominated academy awardsonly films sucked caring character life notthis film truth redemption understanding identities",
         "1"
        ],
        [
         "28",
         "mixed bag critiques movie inauthentic cringy wrong particular music songs barely songs theyre chants hand movie tells unique story great preformances zoe saldana karla gascon zaldana particular entertaining musical numbers becuase dancer comelling preformer felt sorry selena gomez songs dialouge saldana gascon watching drama musical mexican",
         "0"
        ],
        [
         "29",
         "honestly worst films made mexican painful watch film lover dreadful make movie mexico hire mexican actors slang terrible accurate listening children cursing speak spanish terrible image mexico youve travel afraid youll killed movie youif beautiful country understand language agree película representa méxico gente situación menos idiomawith movie work chemistry characters story worst movies swear hate terrible",
         "-1"
        ],
        [
         "30",
         "joker interesting coming emilia perez late caused stir watching film whats rubbed wrong different things rubbed different wrong lots interpreted charitably cynically supposed cynical interpretationbut overwhelming movie focus personally disliked passionately defend film tear piecesi interesting film appreciated boldness acting thrilling watch movie alive energy scenes work movie lot asks questions respond lash film challengingstill intent emilia perez feel confused ways intentional songs clunky repetitive editing times narrative flow characters feel theyre movies jumping felt headscratchingit feels film wanted lot mightve overconfident lost realisedwanted admit imperfect shock system systems systemsthings targeting necessarilythinking film wears worse itll kind stick long regret watching",
         "0"
        ],
        [
         "34",
         "soooo spanish native speaker hard watch songs boring lack lyrics repeats phrase poorly representation mexican culture joke concept decent honestly happened execution scripti fight fall sleep honestly itll point hahaa wronga total waste time bother watching",
         "-1"
        ],
        [
         "36",
         "abysmal clear agree movie denigrating mexican community trans community makes absolute disgrace movie biggest pieces garbage zoe saldana fine acting person frankly abhorrent selena gomez shocking grasp spanish singing movie garnered critical praise feel serves huge reminder deluded hollywood waste time wish time back",
         "-1"
        ],
        [
         "38",
         "original flaws original movie lot creativitythe insight transgenders spanish musical singing actrice zoe karla setting feel mexico vibe parts story feel quality director movie orginialthe biggest problem portray drugs maffia lord responsible deaths missing house wife big clap lost drugs wars reality basis movie feels wrong respect peoplewhat long selena gomez actrices woman script story line clear goal motive missing point goal actrices movie nonejust",
         "0"
        ],
        [
         "39",
         "worst movie watched wasted time movie joke literally lacks authentic representation mexico mexican deeply offended movie poorly directed written originallly passionate excited movie watching upsets offend top film nominated oscar pair eyes film especially plot world ridicoulous make ridiculous spend time watching movie complete waste time",
         "-1"
        ],
        [
         "42",
         "worst movie decade life movie complete disaster music terrible singing unbearable storyline shallow nonsensical acting completely flat filled references cringeworthy moments make feel parody humiliation mexican cinema culture fact received nominations awards proves biased soldout institutions waste time movie plenty films avoid costs watch instead worst lowbudget movies heart effort mess",
         "-1"
        ],
        [
         "45",
         "failed commit premises emilia perez drama thriller musical centred cartel boss lawyer whist invested film issue commit premises left experience feeling surface level memorable part combine genres togetherit commit thriller meant fresh elements plot allowed allowing intriguing simply happen chance removed tension scenes musical numbers particularly entertaining drama concerning protagonist explored gave meaningful insight character emotions whilst mishmash genres intriguing memorable exception zoe saldanas performance",
         "0"
        ],
        [
         "46",
         "ridiculous offensive pretentious garbage plot episode south parkno pretentious french director mix unique talked themes piece offensive exploiting controversial made bold american critics different regular blockbuster jokes car crash hollywood instead critic ridiculous cinema treating themes comedy poor intent offensivelets put transexual narco reedem poor mexicans lost relatives belive goddess world idea offensive stereotypes high lucrate theme delicate lost narcotrafic sensitive theme mexico put comedylets laugh tragedy comedy french actors academy thatzoe saldaña incredible actor involved mess withouth movie garbage belongs course needed selena audiences tooif similar actresses hot hollywood mediocre film famous isin scene movie puts red ribbon hate mexicans making stereotypes strong trump speech dumb mexicans idolize martir narco director december video basilica guadalupe tought mexicans love pray plastic figureoffensive piece crap ridiculous attempt mexican representation cringy watch ridiculous praised world critics slightly idea mexico",
         "-1"
        ],
        [
         "49",
         "hated movie title absolutely hated film point partner noped hour halfcaveat begin musicals rule make exceptions songs unfortunately songs emilia perez goodas noted shot colourful choreography unendurable song dance numbers pretty goodalas cinematopgraphy make sequences enjoyable mind song dance number story screech halt super frustrating moments interesting story play washed away super cringey cheesy songthe story trans woman changes personality completely transitioning insulting tom trans community utterly ridiculouszoe saldana giving respect wish film worthy efforts lousy especially selena gomez financial resources youd afford dialect coachim critics award voters worst films ive long time",
         "-1"
        ],
        [
         "51",
         "bother objective photography movie feeling waste time movie constantly distracting hard littlest biggest disaster screen disrespectful situations movie approach selena gomez spanish character script pronunciation latinoamerica words real life word sounded clinic lets talk acting cast script direction hey photography",
         "-1"
        ],
        [
         "55",
         "worst movie hands worst musical zero stars option id watching sitting high school play forgot linesbut forgot plotlets talk selena gomezs character jessi entire script run google translate speak spanish needed subtitles understand honestly felt movie actively insult brainthe plot potentialill give thatbut buried layers cringeworthy acting bafflingly tonedeaf approach director skipped mexican culture language section research started wildly insensitive movie families dealing reallife disappearancesin conclusion movie miss markit missed entire target fell stage audiences patience",
         "-1"
        ],
        [
         "57",
         "caught guard bit sceptical big modern musicals expect minutes turned zoe saldanha drew found utterly charmedi loved zoe years ago center stage constantly delivered great work years happy finally role bring real awards attention co lead film lead supporting win oscar role lifetime brilliant scene benefit starts sing dance breath awayselena gomez zoe loved wizards days happy acting career fantastic mature grown performance supporting actress hope nomination leastthis time watching karla sofia gascon delivers stealing scene raw emotional fierce fiery words describe performance hope nomination writing watching chatter online hope makes history kodak theatrethe camera work music story message core film interesting make film rhythm beat points found tapping featthere songs lyrics bit strange make cringe spanish english translationfor movie lovers movie buffs awards watchers film great fave year",
         "0"
        ],
        [
         "58",
         "horribly offensive mexican public mexican offensive spanish mexican topics deals gathered mexican actors speak french made talk social problems france investigate made film feel investigating knew france represent stereotypical senseless mexico needed orange filter charro hats desert understand nominated movie",
         "-1"
        ],
        [
         "59",
         "doctors fix bodies souls devious frequently overlooked mexico city defense attorney rita attracts attention manitas notorious lord criminal mastermind manitas interesting request rita entertains peril staging murder secretly obtaining perfect surgeon providing family manitas make rita rich trick reborn emilia things time past begins creep back emilia misses kids wife influences lives emilia struggles live half life half anotherthis combined narcothriller musical romance comedy characterdriven social piece gender affirmation drama mindblowing film bumps different interesting locations world film plot twists director jacques audiard maintains firm control narrative admire appreciate work amazing film thrilling funny manage plug disappeared mexico due violence audiard ittrue films multifaceted surprising nature actors combined award cannes film festival roles film intriguing fascinating loses sight human nature component emilias feelings natural shoes wonder love love enthralled french style particularly rawness pulls punches censors active censoring pride truth forgiveness love full display",
         "1"
        ],
        [
         "64",
         "feels college students made project plot complete stupidity awful movie times movie feels forced high school play real actors zoe saldana selena gomez movie stretch speak spanish native spanish speaker needed read subtitles understand songs emotional unrhythmic nonstorytelling disasters movie win golden globes comprehension distressed movie receive type recognition ending tragic ends leaving questions answers mess watch",
         "-1"
        ],
        [
         "66",
         "offensive mexicans movie nominated offensive takes subject country decides make musical frenchthe director admitted research mexico shows movie hideous disrespectful countrynon actressactors film mexican songs sloppy acting script released mexico joke usthe dissapearences mexico entertainment amusement movie badthis give stars",
         "-1"
        ],
        [
         "68",
         "simply audacious insane incredible movie full excitement emotion love different years watch different time incredible plot interesting tuned musical numbers cup tea unnecessary shout bienvenida favorites surebut lets perfect part jessi shouldve developed understand motivations left begging morei love selena portrayed crazy insane stressed wife shes shes supposed bezoe extremely charisma workingkarla karla spectacular wordsemilia perez indeed insane movie wrong opposite works beautifully director original audacious brave lot laugh ahead believe crazy ideas youll works emilia perezs worked",
         "0"
        ],
        [
         "69",
         "insult movie horrible disrespectful mexican culture spanish awful talks difficult understand mexican actors movie shows director make properly research films cringe understand piece garbage nominated oscars awards praising movie real sitaution positive reactions resume insult considerarse great film",
         "-1"
        ],
        [
         "70",
         "brilliant watched masterpiece described micheal mann stage introducing film opening night american french film festival theatre full supporters riding high collecting accolades cannes film festivals circuit crew heads held high applauds deserve actors plot depths emotion camera shots storytelling absolutely brilliant dancing moving script colors visualsits meets woman scenes shot paris recreating stress mexico city plot meant recreate meaning give",
         "1"
        ],
        [
         "71",
         "emilia ganster love found movie honest things bothered time watching balanced things musical moments times felt actors performed moment musical musical part lot noise pretty distracting revealing part stories singing big thisbut enjoyed interesting movie trio emilia jessi rita interesting emilia husband jessi rita interesting game elements jessi announce married bring kids front emilia viewer emilia time movie offer confrontation jessi emilia truth revealed kind suspense love scene jessi rita emilia phones rita handle person big problem emilia jessi interesting moments beginning times give real interest opinion movie bit scared confusing understand movie trailer give info moments whats happen generate suspense interest movie musical part opinion distracting sadlybut appreciate found bit long movie mixed feeling movie appreciate trio emilia rita jessi love musical jessi performed bed sensual love lot womens screen opinion enjoyed watching despite liking musical part visuals make pleaseant side story workers conditions work impactful opinion moments felt movie lack directions watchable movie suspensful interesting despite long slow build",
         "0"
        ],
        [
         "72",
         "mocking reality zero acting skills middle point speechles waste money time brought actress celebirty make movie successful producers writers decide scenerio choose mixed puke insult musical industry insult sad realities big insult dealt kind situations murder loosing murder missing family member covering innocent peoples murderemilias charity work cringe showi heck watchonly zoe saldana act rest study acting musical theatre years nooo cast upselenas character foreigner directly instead speaking spanish englishone worst movie seenit omlette waffle fish chips baked alaska pizza puked",
         "-1"
        ],
        [
         "74",
         "film awards nominations made musical latin america hollywoodmy rating acting performance terrible script superficial halfbaked message poor executionfor latinos clear disconnected hollywood problems cultures surround movie takes place mexico city feels caricature purpose feels caricatured due vast lack knowledge city making movie ive mexico city seconds realize fact obvious hollywood worry themthe musical numbers feel strange place conversations fluid written terrible spanish makes impossible watch film latin americani pirated movie watch money back",
         "-1"
        ],
        [
         "76",
         "couple movies witnessed worst movies year madame web joker worse emilia perez alongthis film intended showcase mexican actresses filmed mexico evident movie director time research country aimed portrayas musical falls flat music mediocrealmost generated chatgptand performances largely disappointing zoe saldañasthis movie serves glaring film insult entire latin american continent portrayal cultureit incomprehensible film received oscar nominations",
         "-1"
        ],
        [
         "77",
         "nonstop thrill ride hold protect herme encanta películato sceptical movie understatement paper work gladder wrong fortunately film exceeded expectations watching movie equivalent dose heroin injected veins film blends genres succeeds outright knocks park surpasses lukewarm expectations starts procedural drama musical seamlessly transitions family drama crime comedy thriller director doubles explores genres full extent film suggests kind gangster epos telling story cartel boss journey selfdiscovery child dreamt strange kinds aspirations lack empathy progressive narrowminded land hot water believe experienced makes touch involved kinds glad exposed otherworldly world happier note selena gomez phenomenal radiates beauty filmselena gomez terrific actress movie takes level simple guy selena gomez singing dancing spanish automatic stars looked beautiful beautiful age selena gomez matter character movie brutally torture close friend pejorativei wait download films soundtrack listen repeat kind person listens obsesses song months film dark times doom gloom aspects balanced incredible wholesome musical moments musical moments doubt magnificent flawlessly executed viewer completely immersed diegetic world thrilling catchy songsthe ending put simply heartbreaking expected happy ending emilias life continue emiliamanitas wanted spare jessi pain transgender operation underestimated evident film especially unfortunate tragic ending film captures transgender experience realistically decree film clever commentary transgender identity impacts facets lifein nutshell film adrenalinefuelled spectacle action humour suspense thrills forget song dance difficult ascertain mood audience enjoyed divisive film emilia perez wackiest surrealist intoxicating original musical decade possibly film making super fun memorable cinemagoing experiencefinal verdict 10the film kind reminded quote donald trump transgender operations illegal aliens prison radical left liberal",
         "1"
        ],
        [
         "79",
         "awful worst movie ive exaggerating created account write point film found wondering groundbreaking simply understand itits muchdiscussed poor representation mexico terrible spanish spoken cast horrendous songs real problem plot makes absolutely movie touches themes fails explore depth feels cut scenes story coherence emotional weight making impossible connect charactersi honestly love actors production team genuinely final result hard believe movie baffling",
         "-1"
        ]
       ],
       "shape": {
        "columns": 2,
        "rows": 360
       }
      },
      "text/html": [
       "<div>\n",
       "<style scoped>\n",
       "    .dataframe tbody tr th:only-of-type {\n",
       "        vertical-align: middle;\n",
       "    }\n",
       "\n",
       "    .dataframe tbody tr th {\n",
       "        vertical-align: top;\n",
       "    }\n",
       "\n",
       "    .dataframe thead th {\n",
       "        text-align: right;\n",
       "    }\n",
       "</style>\n",
       "<table border=\"1\" class=\"dataframe\">\n",
       "  <thead>\n",
       "    <tr style=\"text-align: right;\">\n",
       "      <th></th>\n",
       "      <th>text</th>\n",
       "      <th>sentiment</th>\n",
       "    </tr>\n",
       "  </thead>\n",
       "  <tbody>\n",
       "    <tr>\n",
       "      <th>0</th>\n",
       "      <td>worst representation mexicos actual problems m...</td>\n",
       "      <td>0</td>\n",
       "    </tr>\n",
       "    <tr>\n",
       "      <th>1</th>\n",
       "      <td>tonedeaf musical disaster emilia pérez sparked...</td>\n",
       "      <td>0</td>\n",
       "    </tr>\n",
       "    <tr>\n",
       "      <th>2</th>\n",
       "      <td>problem movie selenas spanish find movie parti...</td>\n",
       "      <td>0</td>\n",
       "    </tr>\n",
       "    <tr>\n",
       "      <th>4</th>\n",
       "      <td>emilia perez ambitious themes incomplete execu...</td>\n",
       "      <td>0</td>\n",
       "    </tr>\n",
       "    <tr>\n",
       "      <th>6</th>\n",
       "      <td>overhyped emilia pérez feels incredibly overhy...</td>\n",
       "      <td>0</td>\n",
       "    </tr>\n",
       "    <tr>\n",
       "      <th>...</th>\n",
       "      <td>...</td>\n",
       "      <td>...</td>\n",
       "    </tr>\n",
       "    <tr>\n",
       "      <th>472</th>\n",
       "      <td>original thriller twist emilia perez foreign l...</td>\n",
       "      <td>0</td>\n",
       "    </tr>\n",
       "    <tr>\n",
       "      <th>473</th>\n",
       "      <td>subject acting movie execution emilia pérez sp...</td>\n",
       "      <td>0</td>\n",
       "    </tr>\n",
       "    <tr>\n",
       "      <th>475</th>\n",
       "      <td>work level standout scenes match massive faili...</td>\n",
       "      <td>0</td>\n",
       "    </tr>\n",
       "    <tr>\n",
       "      <th>476</th>\n",
       "      <td>tonedeaf stunned watching emilia perez wrong r...</td>\n",
       "      <td>0</td>\n",
       "    </tr>\n",
       "    <tr>\n",
       "      <th>477</th>\n",
       "      <td>wild entertaining ride overwhelms mixes ideas ...</td>\n",
       "      <td>0</td>\n",
       "    </tr>\n",
       "  </tbody>\n",
       "</table>\n",
       "<p>360 rows × 2 columns</p>\n",
       "</div>"
      ],
      "text/plain": [
       "                                                  text  sentiment\n",
       "0    worst representation mexicos actual problems m...          0\n",
       "1    tonedeaf musical disaster emilia pérez sparked...          0\n",
       "2    problem movie selenas spanish find movie parti...          0\n",
       "4    emilia perez ambitious themes incomplete execu...          0\n",
       "6    overhyped emilia pérez feels incredibly overhy...          0\n",
       "..                                                 ...        ...\n",
       "472  original thriller twist emilia perez foreign l...          0\n",
       "473  subject acting movie execution emilia pérez sp...          0\n",
       "475  work level standout scenes match massive faili...          0\n",
       "476  tonedeaf stunned watching emilia perez wrong r...          0\n",
       "477  wild entertaining ride overwhelms mixes ideas ...          0\n",
       "\n",
       "[360 rows x 2 columns]"
      ]
     },
     "execution_count": 14,
     "metadata": {},
     "output_type": "execute_result"
    }
   ],
   "source": [
    "df_final"
   ]
  },
  {
   "cell_type": "code",
   "execution_count": 15,
   "metadata": {},
   "outputs": [
    {
     "data": {
      "application/vnd.microsoft.datawrangler.viewer.v0+json": {
       "columns": [
        {
         "name": "index",
         "rawType": "int64",
         "type": "integer"
        },
        {
         "name": "word",
         "rawType": "object",
         "type": "string"
        },
        {
         "name": "count",
         "rawType": "int64",
         "type": "integer"
        }
       ],
       "conversionMethod": "pd.DataFrame",
       "ref": "98ab7d69-dbdd-4ab7-9cd4-fed7dfb2c5b4",
       "rows": [
        [
         "0",
         "movie",
         "661"
        ],
        [
         "1",
         "film",
         "566"
        ],
        [
         "2",
         "emilia",
         "294"
        ],
        [
         "3",
         "musical",
         "281"
        ],
        [
         "4",
         "mexican",
         "225"
        ],
        [
         "5",
         "mexico",
         "187"
        ],
        [
         "6",
         "story",
         "181"
        ],
        [
         "7",
         "spanish",
         "167"
        ],
        [
         "8",
         "make",
         "140"
        ],
        [
         "9",
         "time",
         "132"
        ],
        [
         "10",
         "pérez",
         "125"
        ],
        [
         "11",
         "selena",
         "120"
        ],
        [
         "12",
         "character",
         "116"
        ],
        [
         "13",
         "songs",
         "116"
        ],
        [
         "14",
         "perez",
         "115"
        ],
        [
         "15",
         "characters",
         "112"
        ],
        [
         "16",
         "director",
         "106"
        ],
        [
         "17",
         "trans",
         "104"
        ],
        [
         "18",
         "feels",
         "103"
        ],
        [
         "19",
         "acting",
         "102"
        ],
        [
         "20",
         "zoe",
         "102"
        ],
        [
         "21",
         "plot",
         "102"
        ],
        [
         "22",
         "feel",
         "100"
        ],
        [
         "23",
         "watch",
         "92"
        ],
        [
         "24",
         "culture",
         "91"
        ],
        [
         "25",
         "worst",
         "90"
        ],
        [
         "26",
         "actors",
         "84"
        ],
        [
         "27",
         "music",
         "83"
        ],
        [
         "28",
         "films",
         "79"
        ],
        [
         "29",
         "performances",
         "79"
        ],
        [
         "30",
         "gomez",
         "79"
        ],
        [
         "31",
         "life",
         "78"
        ],
        [
         "32",
         "work",
         "77"
        ],
        [
         "33",
         "karla",
         "74"
        ],
        [
         "34",
         "making",
         "72"
        ],
        [
         "35",
         "great",
         "71"
        ],
        [
         "36",
         "cast",
         "70"
        ],
        [
         "37",
         "nominations",
         "70"
        ],
        [
         "38",
         "made",
         "70"
        ],
        [
         "39",
         "cartel",
         "70"
        ]
       ],
       "shape": {
        "columns": 2,
        "rows": 40
       }
      },
      "text/html": [
       "<div>\n",
       "<style scoped>\n",
       "    .dataframe tbody tr th:only-of-type {\n",
       "        vertical-align: middle;\n",
       "    }\n",
       "\n",
       "    .dataframe tbody tr th {\n",
       "        vertical-align: top;\n",
       "    }\n",
       "\n",
       "    .dataframe thead th {\n",
       "        text-align: right;\n",
       "    }\n",
       "</style>\n",
       "<table border=\"1\" class=\"dataframe\">\n",
       "  <thead>\n",
       "    <tr style=\"text-align: right;\">\n",
       "      <th></th>\n",
       "      <th>word</th>\n",
       "      <th>count</th>\n",
       "    </tr>\n",
       "  </thead>\n",
       "  <tbody>\n",
       "    <tr>\n",
       "      <th>0</th>\n",
       "      <td>movie</td>\n",
       "      <td>661</td>\n",
       "    </tr>\n",
       "    <tr>\n",
       "      <th>1</th>\n",
       "      <td>film</td>\n",
       "      <td>566</td>\n",
       "    </tr>\n",
       "    <tr>\n",
       "      <th>2</th>\n",
       "      <td>emilia</td>\n",
       "      <td>294</td>\n",
       "    </tr>\n",
       "    <tr>\n",
       "      <th>3</th>\n",
       "      <td>musical</td>\n",
       "      <td>281</td>\n",
       "    </tr>\n",
       "    <tr>\n",
       "      <th>4</th>\n",
       "      <td>mexican</td>\n",
       "      <td>225</td>\n",
       "    </tr>\n",
       "    <tr>\n",
       "      <th>5</th>\n",
       "      <td>mexico</td>\n",
       "      <td>187</td>\n",
       "    </tr>\n",
       "    <tr>\n",
       "      <th>6</th>\n",
       "      <td>story</td>\n",
       "      <td>181</td>\n",
       "    </tr>\n",
       "    <tr>\n",
       "      <th>7</th>\n",
       "      <td>spanish</td>\n",
       "      <td>167</td>\n",
       "    </tr>\n",
       "    <tr>\n",
       "      <th>8</th>\n",
       "      <td>make</td>\n",
       "      <td>140</td>\n",
       "    </tr>\n",
       "    <tr>\n",
       "      <th>9</th>\n",
       "      <td>time</td>\n",
       "      <td>132</td>\n",
       "    </tr>\n",
       "    <tr>\n",
       "      <th>10</th>\n",
       "      <td>pérez</td>\n",
       "      <td>125</td>\n",
       "    </tr>\n",
       "    <tr>\n",
       "      <th>11</th>\n",
       "      <td>selena</td>\n",
       "      <td>120</td>\n",
       "    </tr>\n",
       "    <tr>\n",
       "      <th>12</th>\n",
       "      <td>character</td>\n",
       "      <td>116</td>\n",
       "    </tr>\n",
       "    <tr>\n",
       "      <th>13</th>\n",
       "      <td>songs</td>\n",
       "      <td>116</td>\n",
       "    </tr>\n",
       "    <tr>\n",
       "      <th>14</th>\n",
       "      <td>perez</td>\n",
       "      <td>115</td>\n",
       "    </tr>\n",
       "    <tr>\n",
       "      <th>15</th>\n",
       "      <td>characters</td>\n",
       "      <td>112</td>\n",
       "    </tr>\n",
       "    <tr>\n",
       "      <th>16</th>\n",
       "      <td>director</td>\n",
       "      <td>106</td>\n",
       "    </tr>\n",
       "    <tr>\n",
       "      <th>17</th>\n",
       "      <td>trans</td>\n",
       "      <td>104</td>\n",
       "    </tr>\n",
       "    <tr>\n",
       "      <th>18</th>\n",
       "      <td>feels</td>\n",
       "      <td>103</td>\n",
       "    </tr>\n",
       "    <tr>\n",
       "      <th>19</th>\n",
       "      <td>acting</td>\n",
       "      <td>102</td>\n",
       "    </tr>\n",
       "    <tr>\n",
       "      <th>20</th>\n",
       "      <td>zoe</td>\n",
       "      <td>102</td>\n",
       "    </tr>\n",
       "    <tr>\n",
       "      <th>21</th>\n",
       "      <td>plot</td>\n",
       "      <td>102</td>\n",
       "    </tr>\n",
       "    <tr>\n",
       "      <th>22</th>\n",
       "      <td>feel</td>\n",
       "      <td>100</td>\n",
       "    </tr>\n",
       "    <tr>\n",
       "      <th>23</th>\n",
       "      <td>watch</td>\n",
       "      <td>92</td>\n",
       "    </tr>\n",
       "    <tr>\n",
       "      <th>24</th>\n",
       "      <td>culture</td>\n",
       "      <td>91</td>\n",
       "    </tr>\n",
       "    <tr>\n",
       "      <th>25</th>\n",
       "      <td>worst</td>\n",
       "      <td>90</td>\n",
       "    </tr>\n",
       "    <tr>\n",
       "      <th>26</th>\n",
       "      <td>actors</td>\n",
       "      <td>84</td>\n",
       "    </tr>\n",
       "    <tr>\n",
       "      <th>27</th>\n",
       "      <td>music</td>\n",
       "      <td>83</td>\n",
       "    </tr>\n",
       "    <tr>\n",
       "      <th>28</th>\n",
       "      <td>films</td>\n",
       "      <td>79</td>\n",
       "    </tr>\n",
       "    <tr>\n",
       "      <th>29</th>\n",
       "      <td>performances</td>\n",
       "      <td>79</td>\n",
       "    </tr>\n",
       "    <tr>\n",
       "      <th>30</th>\n",
       "      <td>gomez</td>\n",
       "      <td>79</td>\n",
       "    </tr>\n",
       "    <tr>\n",
       "      <th>31</th>\n",
       "      <td>life</td>\n",
       "      <td>78</td>\n",
       "    </tr>\n",
       "    <tr>\n",
       "      <th>32</th>\n",
       "      <td>work</td>\n",
       "      <td>77</td>\n",
       "    </tr>\n",
       "    <tr>\n",
       "      <th>33</th>\n",
       "      <td>karla</td>\n",
       "      <td>74</td>\n",
       "    </tr>\n",
       "    <tr>\n",
       "      <th>34</th>\n",
       "      <td>making</td>\n",
       "      <td>72</td>\n",
       "    </tr>\n",
       "    <tr>\n",
       "      <th>35</th>\n",
       "      <td>great</td>\n",
       "      <td>71</td>\n",
       "    </tr>\n",
       "    <tr>\n",
       "      <th>36</th>\n",
       "      <td>cast</td>\n",
       "      <td>70</td>\n",
       "    </tr>\n",
       "    <tr>\n",
       "      <th>37</th>\n",
       "      <td>nominations</td>\n",
       "      <td>70</td>\n",
       "    </tr>\n",
       "    <tr>\n",
       "      <th>38</th>\n",
       "      <td>made</td>\n",
       "      <td>70</td>\n",
       "    </tr>\n",
       "    <tr>\n",
       "      <th>39</th>\n",
       "      <td>cartel</td>\n",
       "      <td>70</td>\n",
       "    </tr>\n",
       "  </tbody>\n",
       "</table>\n",
       "</div>"
      ],
      "text/plain": [
       "            word  count\n",
       "0          movie    661\n",
       "1           film    566\n",
       "2         emilia    294\n",
       "3        musical    281\n",
       "4        mexican    225\n",
       "5         mexico    187\n",
       "6          story    181\n",
       "7        spanish    167\n",
       "8           make    140\n",
       "9           time    132\n",
       "10         pérez    125\n",
       "11        selena    120\n",
       "12     character    116\n",
       "13         songs    116\n",
       "14         perez    115\n",
       "15    characters    112\n",
       "16      director    106\n",
       "17         trans    104\n",
       "18         feels    103\n",
       "19        acting    102\n",
       "20           zoe    102\n",
       "21          plot    102\n",
       "22          feel    100\n",
       "23         watch     92\n",
       "24       culture     91\n",
       "25         worst     90\n",
       "26        actors     84\n",
       "27         music     83\n",
       "28         films     79\n",
       "29  performances     79\n",
       "30         gomez     79\n",
       "31          life     78\n",
       "32          work     77\n",
       "33         karla     74\n",
       "34        making     72\n",
       "35         great     71\n",
       "36          cast     70\n",
       "37   nominations     70\n",
       "38          made     70\n",
       "39        cartel     70"
      ]
     },
     "execution_count": 15,
     "metadata": {},
     "output_type": "execute_result"
    }
   ],
   "source": [
    "for text in df_final['text'].values:\n",
    "    for word in text.split():\n",
    "        cnt[word] += 1\n",
    "temp = pd.DataFrame(cnt.most_common(40))\n",
    "temp.columns=['word', 'count']\n",
    "temp"
   ]
  },
  {
   "cell_type": "code",
   "execution_count": 16,
   "metadata": {},
   "outputs": [
    {
     "data": {
      "application/vnd.microsoft.datawrangler.viewer.v0+json": {
       "columns": [
        {
         "name": "index",
         "rawType": "int64",
         "type": "integer"
        },
        {
         "name": "text",
         "rawType": "object",
         "type": "string"
        },
        {
         "name": "sentiment",
         "rawType": "int64",
         "type": "integer"
        }
       ],
       "conversionMethod": "pd.DataFrame",
       "ref": "75731888-e677-4ba9-8dab-638bac863a69",
       "rows": [
        [
         "0",
         "representation mexicos actual problems awful representation narcotics problem initially interesting quickly ridiculous premise cruel assassin lord martyr losing penis additionally selenas subpar speak despite accents spain caribbean frankly incomprehensible selenas caseoverall idea turned",
         "0"
        ],
        [
         "1",
         "tonedeaf disaster sparked significant controversy reason outset lack representation glaring oversight french directors admission research paired casting directors claim talented found adds insult injury choices reflect tonedeaf dismissive approach authenticitywhats baffling managed garner oscar academy history nominating problematic undertones offered stories entertained broad audiences accomplish dull lifeless watched fell asleep decided switch movieto matters worse forgettable cringeworthy barely sing numbers highlight drag furtherthat couple redeeming elements saldaña sofía gascón deliver strong deserve backlash tied broader issues genuinely earned unfortunately rest messoverall underwhelming uninspired production fails justify attention received",
         "0"
        ],
        [
         "2",
         "problem selenas find particularly dialogue cringy terms portrayal stereotypical real latin writers supervisors accurate respectful country fact speak english speaks volumes commitment understanding emotions triggersalso horriblethe salvageable saldañas performance",
         "0"
        ],
        [
         "4",
         "ambitious themes incomplete execution felt flat times easy lacking tension conflict particular transforms overwhelmingly positive backstory goodthe tackles wide range themes struggles fully explore instead diving deeply idea spreads thin leaving threads underdevelopedas typically enjoy musicals change mind appreciate directors vision viewers enjoy elements credit numbers especially performed saldana performance standout arguably biggest revelation elevating scenes presence talentoverall enjoyable understand acclaim cannes moments",
         "0"
        ],
        [
         "6",
         "overhyped incredibly overhyped honestly understand winning awards saldana delivers strong performance rest averagethe mix crime drama elements execution uneven scenes drag pacing sluggish emotional moments forced genuine cinematography production design impressive storytelling lacks depth aims high fully deliver medecent forgettable",
         "0"
        ]
       ],
       "shape": {
        "columns": 2,
        "rows": 5
       }
      },
      "text/html": [
       "<div>\n",
       "<style scoped>\n",
       "    .dataframe tbody tr th:only-of-type {\n",
       "        vertical-align: middle;\n",
       "    }\n",
       "\n",
       "    .dataframe tbody tr th {\n",
       "        vertical-align: top;\n",
       "    }\n",
       "\n",
       "    .dataframe thead th {\n",
       "        text-align: right;\n",
       "    }\n",
       "</style>\n",
       "<table border=\"1\" class=\"dataframe\">\n",
       "  <thead>\n",
       "    <tr style=\"text-align: right;\">\n",
       "      <th></th>\n",
       "      <th>text</th>\n",
       "      <th>sentiment</th>\n",
       "    </tr>\n",
       "  </thead>\n",
       "  <tbody>\n",
       "    <tr>\n",
       "      <th>0</th>\n",
       "      <td>representation mexicos actual problems awful r...</td>\n",
       "      <td>0</td>\n",
       "    </tr>\n",
       "    <tr>\n",
       "      <th>1</th>\n",
       "      <td>tonedeaf disaster sparked significant controve...</td>\n",
       "      <td>0</td>\n",
       "    </tr>\n",
       "    <tr>\n",
       "      <th>2</th>\n",
       "      <td>problem selenas find particularly dialogue cri...</td>\n",
       "      <td>0</td>\n",
       "    </tr>\n",
       "    <tr>\n",
       "      <th>4</th>\n",
       "      <td>ambitious themes incomplete execution felt fla...</td>\n",
       "      <td>0</td>\n",
       "    </tr>\n",
       "    <tr>\n",
       "      <th>6</th>\n",
       "      <td>overhyped incredibly overhyped honestly unders...</td>\n",
       "      <td>0</td>\n",
       "    </tr>\n",
       "  </tbody>\n",
       "</table>\n",
       "</div>"
      ],
      "text/plain": [
       "                                                text  sentiment\n",
       "0  representation mexicos actual problems awful r...          0\n",
       "1  tonedeaf disaster sparked significant controve...          0\n",
       "2  problem selenas find particularly dialogue cri...          0\n",
       "4  ambitious themes incomplete execution felt fla...          0\n",
       "6  overhyped incredibly overhyped honestly unders...          0"
      ]
     },
     "execution_count": 16,
     "metadata": {},
     "output_type": "execute_result"
    }
   ],
   "source": [
    "# Remove the most frequent words:\n",
    "FREQWORDS = set([w for (w, wc) in cnt.most_common(40)])\n",
    "def remove_freqwords(text):\n",
    "    \"\"\"custom function to remove the frequent words\"\"\"\n",
    "    return \" \".join([word for word in str(text).split() if word not in FREQWORDS])\n",
    "df_final[\"text\"] = df_final[\"text\"].apply(lambda text: remove_freqwords(text))\n",
    "df_final.head()"
   ]
  },
  {
   "cell_type": "code",
   "execution_count": 17,
   "metadata": {},
   "outputs": [
    {
     "data": {
      "application/vnd.microsoft.datawrangler.viewer.v0+json": {
       "columns": [
        {
         "name": "index",
         "rawType": "int64",
         "type": "integer"
        },
        {
         "name": "text",
         "rawType": "object",
         "type": "string"
        },
        {
         "name": "sentiment",
         "rawType": "int64",
         "type": "integer"
        }
       ],
       "conversionMethod": "pd.DataFrame",
       "ref": "e86cb208-e6f9-49b1-a745-26332cd5a1d9",
       "rows": [
        [
         "0",
         "representation mexicos actual problems awful representation narcotics problem initially interesting quickly ridiculous premise cruel assassin lord martyr losing penis additionally selenas subpar speak despite accents spain caribbean frankly incomprehensible selenas caseoverall idea turned",
         "0"
        ],
        [
         "1",
         "tonedeaf disaster sparked significant controversy reason outset lack representation glaring oversight french directors admission research paired casting directors claim talented found adds insult injury choices reflect tonedeaf dismissive approach authenticitywhats baffling managed garner oscar academy history nominating problematic undertones offered stories entertained broad audiences accomplish dull lifeless watched fell asleep decided switch movieto matters worse forgettable cringeworthy barely sing numbers highlight drag furtherthat couple redeeming elements saldaña sofía gascón deliver strong deserve backlash tied broader issues genuinely earned unfortunately rest messoverall underwhelming uninspired production fails justify attention received",
         "0"
        ],
        [
         "2",
         "problem selenas find particularly dialogue cringy terms portrayal stereotypical real latin writers supervisors accurate respectful country fact speak english speaks volumes commitment understanding emotions triggersalso horriblethe salvageable saldañas performance",
         "0"
        ],
        [
         "4",
         "ambitious themes incomplete execution felt flat times easy lacking tension conflict particular transforms overwhelmingly positive backstory goodthe tackles wide range themes struggles fully explore instead diving deeply idea spreads thin leaving threads underdevelopedas typically enjoy musicals change mind appreciate directors vision viewers enjoy elements credit numbers especially performed saldana performance standout arguably biggest revelation elevating scenes presence talentoverall enjoyable understand acclaim cannes moments",
         "0"
        ],
        [
         "6",
         "overhyped incredibly overhyped honestly understand winning awards saldana delivers strong performance rest averagethe mix crime drama elements execution uneven scenes drag pacing sluggish emotional moments forced genuine cinematography production design impressive storytelling lacks depth aims high fully deliver medecent forgettable",
         "0"
        ],
        [
         "7",
         "hard sparked debate due themes execution particularly release surrounded controversy watched open mind aware narrative focus genre away mixed feelings break key points stereotypes script stereotypes impossible discuss addressing cultural treatment beginning collection clichés genuine exploration offended stereotypes interest delving deeper brainstorm referencessombreros skulls tequilawithout adding meaningful narrative lack authenticity turns setting caricature production set country swapped clichés difference interesting nominated multiple awards speaker accent diction constant distractions actresses hard result fails convey genuine emotions connect audience crucial part mastering dialogue delivery intonation elements evoke empathy rejection happen storyi suffer celebrate victories script script unfortunately weakest points dialogues mechanically translated riddled errors conjugation awkward phrases extends fail narrative tools integrate organically move forward forced shoehorned preexisting structure concern rhythm coherence theme touches sensitive nerve mexicans complicated humanize cartels country suffers direct consequences violence disappearances daily fear idea portraying lord deserving redemption wishes transition stay identity benefactor social insulting foreign audience interesting narrative living reality drugrelated violence idealization borders indifference collective sufferingin conclusion interesting technical elements isolated moments worth noting enjoyable lack authenticity cultural representation fail connect weak script weigh cinema subjective finds audience captivating frustrating experience",
         "-1"
        ],
        [
         "8",
         "fine big problems ambitious succeeds combining genres manages fascinate captivate long running timehowever major problems ridiculously moralisticsecond absurd believe immediately question identity background motivation legit amends mindboggling filmmakers apparently unquestioned protagonist mysterious woman respect carelessly decides enter spotlight",
         "0"
        ],
        [
         "9",
         "winning awards stupid stupid sentiment lot musicals fit felt forced kinda joker rita selected managed illegal stuff expert money nohing explained lawyer find fault jn gustavo manitas death supposed sorry leader lots stuff stuff forcing children stay explaining wife kids father ruined family running personal gains himselfand rita family close rita lots illegal stuff rich justify sentiment emotion praising ngo twisted song rita mocks corrupt illegal stuffs richsome visuals ive rated higher garbage",
         "-1"
        ],
        [
         "10",
         "cooks kitchen finished watching fine guess lot dislike moviepositives cinematography ambitious blending genre thrown mix appreciate saldana sofia gascon numbers fun finally job telling transgender storymixed ambitious blending genres elements felt place numbers felt jarring timesnegatives long couldve told shorter runtime lost interest immediately background noise meoverall admired filmmakers ambitious fully worked recommend interested",
         "0"
        ],
        [
         "11",
         "joke native speaker found disrespectful childish speakers barely pronounce words turning script uncomfortable caricature disguised modern production fall errors typecast latinos stereotypes valuable attempt offer different mixing language execution irritating positive reviews totally unfamiliar language determining factor totally inedible endless meme material",
         "-1"
        ],
        [
         "13",
         "lack focus juggles themes fully explored leaving narrative feeling rushed incomplete result collection ideas cohesive storyi understand framed musicalthis choice felt disconnected rest storythe solid developed create lasting emotional connectionhowever cinematography beautifully shot visually captivatingto sum leaves wanting depth clarity",
         "0"
        ],
        [
         "14",
         "believe oscar nominees considered motion pictures past year miserable experience advance fact awful songwriting makes scene song instead deeper understanding song song things screen effectively communicated visual storytelling structure genuinely translated duolingo awful delivery lines matters gascón finebut fine nominated oscar",
         "-1"
        ],
        [
         "15",
         "strangely bleak enjoyable demanding leading roles supporting roles requiring excellent performers played saldaña sofia gascón adriana paz quartet shared actress award cannes deserved saldaña particular revelationof writerdirector jacques audiards previous ive memorable different ways prepared hats stuck genre ruttheres lot lot singing singing paired damien jalets incisive choreography effect thrilling drag musicaltheatre lite deep dramatic demands put theyre rapinclined numbers rhythm important elementthe slough past change strangely bleak vision present",
         "0"
        ],
        [
         "16",
         "caricature speechless guessing positive reviews speak b wanted caricatures mexicans confirmedthe dialogues insufferable speaks jarring accents goodthe words sprinkled unnatural delivery written vague knowledge definitely goodthe redeeming quality undoubtedly pretty itmexican avoid costs",
         "-1"
        ],
        [
         "17",
         "felt fever dream leader undergoing transition female social activist oscars bingo card bit confused snagged leading oscar wanted felt place felt satisfying suppose random super negative moments costumesmakeup choreography saldana sofia gascón put performance deserving recognition",
         "0"
        ],
        [
         "18",
         "money capable consider representation history considering context number awards demonstrates outpouring money moves vote majority finds disrespectful french thinks international actress considered awards campaign simply bizarre frightening industry academia genuinely consider",
         "-1"
        ],
        [
         "19",
         "word flabbergasted write gala screening london festivala wild insane roller coaster mixes crime comedy thriller succeeds flying coloursthe actresses core strength directed perfection audiardkarla plays pre transition post naturally underdone publicly actor powerhouse performance proud alive actress plays role nails tragedy leaving promise shes neededzoe sing dance cry laugh actor dreams happy shines scene car realising transpired breaks hysteria margo tonya glenn dangerous liasons scene win academy award beautiful voiceselena excited kicks ballpark playing mob wife icy stormsimmeringbelowthesurface kind woman revisit young girl endured intense scrutiny psychosis whats lid long screening felt body experience jessi finally unleashes emotions audience years oppressed agony anger heard voice evidence calling passionate stupid shes disney kid prove journey exciting decadeslastly adrianas sunshine dark twisted world lives poignant perfectly complements actresses brings love softness workone major note opera reminds umbrellas cherbourg entirely sung emotionally definitely intense small moments calm realise youre watching filmthe cinematography brilliant selenas lays unconscious passenger seat lover drives rage camera pans car felt painting poetic tragicso glad watched netflix release amazing normal drive bit crazy",
         "1"
        ],
        [
         "20",
         "jacques audiard crime drama set modern times bangkok tel aviv switzerland london england lawyer rita castro vicious lord juan manitas manitas wife jessi children demonstrates ritas legal capabilities manitas hires perform servicefind surgeon perform genderaffirming surgery secretly rita resettle family switzerland manitas fakes death emelia pérezfour years emelia children live aunt rita enlisted assist things initially successful transition begins sour jessi pursues relationship gustavo emelia explores relationship epifanía ends badlywith hard numbers sustaining riveting dance number fundraising dinner saldana cinematography occasionally stunning jumps scene scene unresolved issues shootout emelia continue function safely lords transition jacques audiard succeedzoe saldana sofia gascón direction issue",
         "0"
        ],
        [
         "21",
         "unwatchable musician absolute assault ears atrociously written horribly performedan unbearable disaster start finish dialogue completely unintelligible ridiculous accents google translatelevel writing acceptablethe potential destroyed horribly written shred creativity drowned incompetence insult appreciates decent filmmaking complete utter failure",
         "-1"
        ],
        [
         "23",
         "live act enjoy jacques audiard embrace genre stands french filmmaking expect spanishlanguage set featuring mob bossits interesting deal transsexuality identity starting point change criminal rotten hisher core person atone crimes sex gender change soulthat ultimately disappoints leaving theme act benefit bland kidnapping storyline master criminal sliding back violent habits drops ball disappointing direction forward resolution sign working realized expect wastethe sacrifices saldana appears protagonist fades aways background points screenplay buildup weak payoff",
         "0"
        ],
        [
         "24",
         "overhyped cringey mess portrayal caricature riddled lazy stereotypes mum teacher missing covers couple violent headline news full critic fact single actor graces screen slap rich talented performers dealing difficult themesthe offensive assault ears composers googled slapped results soul nuance jarring cacophony sorry pinche vulva extraña cringey spanishand representation reduces complex nuanced identity cheap device lacking genuine depth respect couple poorly written pene vaginaemilia insult",
         "-1"
        ],
        [
         "26",
         "ignorance bliss ignorance awful awful representation awful privileged exotic live country full violence wild westdevoid logical rationality human rightsfinally literal comparison leader saintthey absolutely idea real worldeven title common stereotypical namealso ironic google translate google search realism show minimum effort",
         "-1"
        ],
        [
         "27",
         "outstanding unique possible add bizarre incredible saldana gascon drew believe fell love amelia didthe emotive especially papa sung amelias soni understand negative reviews understand nominated academy awardsonly sucked caring notthis truth redemption understanding identities",
         "1"
        ],
        [
         "28",
         "mixed bag critiques inauthentic cringy wrong particular barely theyre chants hand tells unique preformances saldana gascon zaldana particular entertaining numbers becuase dancer comelling preformer felt sorry dialouge saldana gascon watching drama",
         "0"
        ],
        [
         "29",
         "honestly painful lover dreadful hire slang terrible accurate listening children cursing speak terrible image youve travel afraid youll killed youif beautiful country understand language agree película representa méxico gente situación menos idiomawith chemistry movies swear hate terrible",
         "-1"
        ],
        [
         "30",
         "joker interesting coming late caused stir watching whats rubbed wrong different things rubbed different wrong lots interpreted charitably cynically supposed cynical interpretationbut overwhelming focus personally disliked passionately defend tear piecesi interesting appreciated boldness thrilling alive energy scenes lot asks questions respond lash challengingstill intent confused ways intentional clunky repetitive editing times narrative flow theyre movies jumping felt headscratchingit wanted lot mightve overconfident lost realisedwanted admit imperfect shock system systems systemsthings targeting necessarilythinking wears worse itll kind stick long regret watching",
         "0"
        ],
        [
         "34",
         "soooo native speaker hard boring lack lyrics repeats phrase poorly representation joke concept decent honestly happened execution scripti fight fall sleep honestly itll point hahaa wronga total waste bother watching",
         "-1"
        ],
        [
         "36",
         "abysmal clear agree denigrating community community makes absolute disgrace biggest pieces garbage saldana fine person frankly abhorrent shocking grasp singing garnered critical praise serves huge reminder deluded hollywood waste wish back",
         "-1"
        ],
        [
         "38",
         "original flaws original lot creativitythe insight transgenders singing actrice setting vibe parts quality orginialthe biggest problem portray drugs maffia lord responsible deaths missing house wife big clap lost drugs wars reality basis wrong respect peoplewhat long actrices woman script line clear goal motive missing point goal actrices nonejust",
         "0"
        ],
        [
         "39",
         "watched wasted joke literally lacks authentic representation deeply offended poorly directed written originallly passionate excited watching upsets offend top nominated oscar pair eyes especially world ridicoulous ridiculous spend watching complete waste",
         "-1"
        ],
        [
         "42",
         "decade complete disaster terrible singing unbearable storyline shallow nonsensical completely flat filled references cringeworthy moments parody humiliation cinema fact received awards proves biased soldout institutions waste plenty avoid costs instead lowbudget movies heart effort mess",
         "-1"
        ],
        [
         "45",
         "failed commit premises drama thriller centred boss lawyer whist invested issue commit premises left experience feeling surface level memorable part combine genres togetherit commit thriller meant fresh elements allowed allowing intriguing simply happen chance removed tension scenes numbers particularly entertaining drama concerning protagonist explored gave meaningful insight emotions whilst mishmash genres intriguing memorable exception saldanas performance",
         "0"
        ],
        [
         "46",
         "ridiculous offensive pretentious garbage episode south parkno pretentious french mix unique talked themes piece offensive exploiting controversial bold american critics different regular blockbuster jokes car crash hollywood instead critic ridiculous cinema treating themes comedy poor intent offensivelets put transexual narco reedem poor mexicans lost relatives belive goddess world idea offensive stereotypes high lucrate theme delicate lost narcotrafic sensitive theme put comedylets laugh tragedy comedy french academy thatzoe saldaña incredible actor involved mess withouth garbage belongs course needed audiences tooif similar actresses hot hollywood mediocre famous isin scene puts red ribbon hate mexicans stereotypes strong trump speech dumb mexicans idolize martir narco december video basilica guadalupe tought mexicans love pray plastic figureoffensive piece crap ridiculous attempt representation cringy ridiculous praised world critics slightly idea",
         "-1"
        ],
        [
         "49",
         "hated title absolutely hated point partner noped hour halfcaveat begin musicals rule exceptions unfortunately goodas noted shot colourful choreography unendurable song dance numbers pretty goodalas cinematopgraphy sequences enjoyable mind song dance number screech halt super frustrating moments interesting play washed away super cringey cheesy songthe woman changes personality completely transitioning insulting tom community utterly ridiculouszoe saldana giving respect wish worthy efforts lousy especially financial resources youd afford dialect coachim critics award voters ive long",
         "-1"
        ],
        [
         "51",
         "bother objective photography feeling waste constantly distracting hard littlest biggest disaster screen disrespectful situations approach script pronunciation latinoamerica words real word sounded clinic lets talk script direction hey photography",
         "-1"
        ],
        [
         "55",
         "hands zero stars option id watching sitting high school play forgot linesbut forgot plotlets talk gomezs jessi entire script run google translate speak needed subtitles understand honestly felt actively insult brainthe potentialill give thatbut buried layers cringeworthy bafflingly tonedeaf approach skipped language section research started wildly insensitive families dealing reallife disappearancesin conclusion miss markit missed entire target fell stage audiences patience",
         "-1"
        ],
        [
         "57",
         "caught guard bit sceptical big modern musicals expect minutes turned saldanha drew found utterly charmedi loved years ago center stage constantly delivered years happy finally role bring real awards attention co lead lead supporting win oscar role lifetime brilliant scene benefit starts sing dance breath awayselena loved wizards days happy career fantastic mature grown performance supporting actress hope nomination leastthis watching sofia gascon delivers stealing scene raw emotional fierce fiery words describe performance hope nomination writing watching chatter online hope makes history kodak theatrethe camera message core interesting rhythm beat points found tapping featthere lyrics bit strange cringe english translationfor lovers buffs awards watchers fave year",
         "0"
        ],
        [
         "58",
         "horribly offensive public offensive topics deals gathered speak french talk social problems france investigate investigating knew france represent stereotypical senseless needed orange filter charro hats desert understand nominated",
         "-1"
        ],
        [
         "59",
         "doctors fix bodies souls devious frequently overlooked city defense attorney rita attracts attention manitas notorious lord criminal mastermind manitas interesting request rita entertains peril staging murder secretly obtaining perfect surgeon providing family manitas rita rich trick reborn things past begins creep back misses kids wife influences lives struggles live half half anotherthis combined narcothriller romance comedy characterdriven social piece gender affirmation drama mindblowing bumps different interesting locations world twists jacques audiard maintains firm control narrative admire appreciate amazing thrilling funny manage plug disappeared due violence audiard ittrue multifaceted surprising nature combined award cannes festival roles intriguing fascinating loses sight human nature component emilias feelings natural shoes wonder love love enthralled french style particularly rawness pulls punches censors active censoring pride truth forgiveness love full display",
         "1"
        ],
        [
         "64",
         "college students project complete stupidity awful times forced high school play real saldana stretch speak native speaker needed read subtitles understand emotional unrhythmic nonstorytelling disasters win golden globes comprehension distressed receive type recognition ending tragic ends leaving questions answers mess",
         "-1"
        ],
        [
         "66",
         "offensive mexicans nominated offensive takes subject country decides frenchthe admitted research shows hideous disrespectful countrynon actressactors sloppy script released joke usthe dissapearences entertainment amusement badthis give stars",
         "-1"
        ],
        [
         "68",
         "simply audacious insane incredible full excitement emotion love different years different incredible interesting tuned numbers cup tea unnecessary shout bienvenida favorites surebut lets perfect part jessi shouldve developed understand motivations left begging morei love portrayed crazy insane stressed wife shes shes supposed bezoe extremely charisma workingkarla spectacular wordsemilia indeed insane wrong opposite works beautifully original audacious brave lot laugh ahead believe crazy ideas youll works perezs worked",
         "0"
        ],
        [
         "69",
         "insult horrible disrespectful awful talks difficult understand shows properly research cringe understand piece garbage nominated oscars awards praising real sitaution positive reactions resume insult considerarse",
         "-1"
        ],
        [
         "70",
         "brilliant watched masterpiece described micheal mann stage introducing opening night american french festival theatre full supporters riding high collecting accolades cannes festivals circuit crew heads held high applauds deserve depths emotion camera shots storytelling absolutely brilliant dancing moving script colors visualsits meets woman scenes shot paris recreating stress city meant recreate meaning give",
         "1"
        ],
        [
         "71",
         "ganster love found honest things bothered watching balanced things moments times felt performed moment part lot noise pretty distracting revealing part stories singing big thisbut enjoyed interesting trio jessi rita interesting husband jessi rita interesting game elements jessi announce married bring kids front viewer offer confrontation jessi truth revealed kind suspense love scene jessi rita phones rita handle person big problem jessi interesting moments beginning times give real interest opinion bit scared confusing understand trailer give info moments whats happen generate suspense interest part opinion distracting sadlybut appreciate found bit long mixed feeling appreciate trio rita jessi love jessi performed bed sensual love lot womens screen opinion enjoyed watching despite liking part visuals pleaseant side workers conditions impactful opinion moments felt lack directions watchable suspensful interesting despite long slow build",
         "0"
        ],
        [
         "72",
         "mocking reality zero skills middle point speechles waste money brought actress celebirty successful producers writers decide scenerio choose mixed puke insult industry insult sad realities big insult dealt kind situations murder loosing murder missing family member covering innocent peoples murderemilias charity cringe showi heck watchonly saldana act rest study theatre years nooo upselenas foreigner directly instead speaking englishone seenit omlette waffle fish chips baked alaska pizza puked",
         "-1"
        ],
        [
         "74",
         "awards latin america hollywoodmy rating performance terrible script superficial halfbaked message poor executionfor latinos clear disconnected hollywood problems cultures surround takes place city caricature purpose caricatured due vast lack knowledge city ive city seconds realize fact obvious hollywood worry themthe numbers strange place conversations fluid written terrible makes impossible latin americani pirated money back",
         "-1"
        ],
        [
         "76",
         "couple movies witnessed movies year madame web joker worse alongthis intended showcase actresses filmed evident research country aimed portrayas falls flat mediocrealmost generated chatgptand largely disappointing saldañasthis serves glaring insult entire latin american continent portrayal cultureit incomprehensible received oscar",
         "-1"
        ],
        [
         "77",
         "nonstop thrill ride hold protect herme encanta películato sceptical understatement paper gladder wrong fortunately exceeded expectations watching equivalent dose heroin injected veins blends genres succeeds outright knocks park surpasses lukewarm expectations starts procedural drama seamlessly transitions family drama crime comedy thriller doubles explores genres full extent suggests kind gangster epos telling boss journey selfdiscovery child dreamt strange kinds aspirations lack empathy progressive narrowminded land hot water believe experienced makes touch involved kinds glad exposed otherworldly world happier note phenomenal radiates beauty filmselena terrific actress takes level simple guy singing dancing automatic stars looked beautiful beautiful age matter brutally torture close friend pejorativei wait download soundtrack listen repeat kind person listens obsesses song months dark times doom gloom aspects balanced incredible wholesome moments moments doubt magnificent flawlessly executed viewer completely immersed diegetic world thrilling catchy songsthe ending put simply heartbreaking expected happy ending emilias continue emiliamanitas wanted spare jessi pain transgender operation underestimated evident especially unfortunate tragic ending captures transgender experience realistically decree clever commentary transgender identity impacts facets lifein nutshell adrenalinefuelled spectacle action humour suspense thrills forget song dance difficult ascertain mood audience enjoyed divisive wackiest surrealist intoxicating original decade possibly super fun memorable cinemagoing experiencefinal verdict 10the kind reminded quote donald trump transgender operations illegal aliens prison radical left liberal",
         "1"
        ],
        [
         "79",
         "awful ive exaggerating created account write point found wondering groundbreaking simply understand itits muchdiscussed poor representation terrible spoken horrendous real problem makes absolutely touches themes fails explore depth cut scenes coherence emotional weight impossible connect charactersi honestly love production team genuinely final result hard believe baffling",
         "-1"
        ]
       ],
       "shape": {
        "columns": 2,
        "rows": 360
       }
      },
      "text/html": [
       "<div>\n",
       "<style scoped>\n",
       "    .dataframe tbody tr th:only-of-type {\n",
       "        vertical-align: middle;\n",
       "    }\n",
       "\n",
       "    .dataframe tbody tr th {\n",
       "        vertical-align: top;\n",
       "    }\n",
       "\n",
       "    .dataframe thead th {\n",
       "        text-align: right;\n",
       "    }\n",
       "</style>\n",
       "<table border=\"1\" class=\"dataframe\">\n",
       "  <thead>\n",
       "    <tr style=\"text-align: right;\">\n",
       "      <th></th>\n",
       "      <th>text</th>\n",
       "      <th>sentiment</th>\n",
       "    </tr>\n",
       "  </thead>\n",
       "  <tbody>\n",
       "    <tr>\n",
       "      <th>0</th>\n",
       "      <td>representation mexicos actual problems awful r...</td>\n",
       "      <td>0</td>\n",
       "    </tr>\n",
       "    <tr>\n",
       "      <th>1</th>\n",
       "      <td>tonedeaf disaster sparked significant controve...</td>\n",
       "      <td>0</td>\n",
       "    </tr>\n",
       "    <tr>\n",
       "      <th>2</th>\n",
       "      <td>problem selenas find particularly dialogue cri...</td>\n",
       "      <td>0</td>\n",
       "    </tr>\n",
       "    <tr>\n",
       "      <th>4</th>\n",
       "      <td>ambitious themes incomplete execution felt fla...</td>\n",
       "      <td>0</td>\n",
       "    </tr>\n",
       "    <tr>\n",
       "      <th>6</th>\n",
       "      <td>overhyped incredibly overhyped honestly unders...</td>\n",
       "      <td>0</td>\n",
       "    </tr>\n",
       "    <tr>\n",
       "      <th>...</th>\n",
       "      <td>...</td>\n",
       "      <td>...</td>\n",
       "    </tr>\n",
       "    <tr>\n",
       "      <th>472</th>\n",
       "      <td>original thriller twist foreign lgbt thriller ...</td>\n",
       "      <td>0</td>\n",
       "    </tr>\n",
       "    <tr>\n",
       "      <th>473</th>\n",
       "      <td>subject execution language french crime comedy...</td>\n",
       "      <td>0</td>\n",
       "    </tr>\n",
       "    <tr>\n",
       "      <th>475</th>\n",
       "      <td>level standout scenes match massive failings f...</td>\n",
       "      <td>0</td>\n",
       "    </tr>\n",
       "    <tr>\n",
       "      <th>476</th>\n",
       "      <td>tonedeaf stunned watching wrong reasonsi deny ...</td>\n",
       "      <td>0</td>\n",
       "    </tr>\n",
       "    <tr>\n",
       "      <th>477</th>\n",
       "      <td>wild entertaining ride overwhelms mixes ideas ...</td>\n",
       "      <td>0</td>\n",
       "    </tr>\n",
       "  </tbody>\n",
       "</table>\n",
       "<p>360 rows × 2 columns</p>\n",
       "</div>"
      ],
      "text/plain": [
       "                                                  text  sentiment\n",
       "0    representation mexicos actual problems awful r...          0\n",
       "1    tonedeaf disaster sparked significant controve...          0\n",
       "2    problem selenas find particularly dialogue cri...          0\n",
       "4    ambitious themes incomplete execution felt fla...          0\n",
       "6    overhyped incredibly overhyped honestly unders...          0\n",
       "..                                                 ...        ...\n",
       "472  original thriller twist foreign lgbt thriller ...          0\n",
       "473  subject execution language french crime comedy...          0\n",
       "475  level standout scenes match massive failings f...          0\n",
       "476  tonedeaf stunned watching wrong reasonsi deny ...          0\n",
       "477  wild entertaining ride overwhelms mixes ideas ...          0\n",
       "\n",
       "[360 rows x 2 columns]"
      ]
     },
     "execution_count": 17,
     "metadata": {},
     "output_type": "execute_result"
    }
   ],
   "source": [
    "df_final"
   ]
  },
  {
   "cell_type": "code",
   "execution_count": 18,
   "metadata": {},
   "outputs": [
    {
     "data": {
      "application/vnd.microsoft.datawrangler.viewer.v0+json": {
       "columns": [
        {
         "name": "index",
         "rawType": "int64",
         "type": "integer"
        },
        {
         "name": "text",
         "rawType": "object",
         "type": "string"
        },
        {
         "name": "sentiment",
         "rawType": "int64",
         "type": "integer"
        }
       ],
       "conversionMethod": "pd.DataFrame",
       "ref": "0bf00227-9af8-405a-8c42-fe5c61715226",
       "rows": [
        [
         "0",
         "actual awful narcotic interesting ridiculous selenas accent caribbean incomprehensible",
         "0"
        ],
        [
         "1",
         "significant oversight insult dismissive academy problematic broad accomplish decided forgettable couple strong broader rest uninspired justify",
         "0"
        ],
        [
         "2",
         "dialogue cringy stereotypical real latin respectful speak english salvageable",
         "0"
        ],
        [
         "4",
         "ambitious incomplete flat easy particular positive wide thread underdevelopedas enjoy musical appreciate saldana biggest enjoyable understand",
         "0"
        ],
        [
         "6",
         "understand strong element uneven sluggish emotional genuine impressive high forgettable",
         "0"
        ],
        [
         "7",
         "hard sparked due theme open aware narrative mixed break key impossible cultural genuine stereotype deeper meaningful narrative clichés nominated multiple accent constant hard convey genuine crucial empathy weakest riddled narrative rhythm touch sensitive humanize direct daily lord wish social insulting foreign narrative collective technical enjoyable cultural weak weigh subjective frustrating",
         "-1"
        ],
        [
         "8",
         "fine big ambitious long major absurd question unquestioned mysterious",
         "0"
        ],
        [
         "9",
         "stupid stupid musical managed illegal sorry child personal rita illegal rich corrupt illegal higher",
         "-1"
        ],
        [
         "10",
         "fine ambitious genre thrown ambitious genre told shorter ambitious interested",
         "0"
        ],
        [
         "11",
         "native disrespectful childish uncomfortable modern valuable different positive unfamiliar inedible endless",
         "-1"
        ],
        [
         "13",
         "narrative incomplete cohesive musicalthis disconnected solid developed lasting emotional captivatingto depth",
         "0"
        ],
        [
         "14",
         "miserable awful make song visual duolingo awful fine",
         "-1"
        ],
        [
         "15",
         "bleak enjoyable leading excellent award saldaña particular previous memorable different genre paired damien incisive lite deep dramatic rapinclined important bleak",
         "0"
        ],
        [
         "16",
         "positive insufferable unnatural vague goodthe itmexican",
         "-1"
        ],
        [
         "17",
         "female social snagged felt suppose random super negative",
         "0"
        ],
        [
         "18",
         "capable context disrespectful international bizarre",
         "-1"
        ],
        [
         "19",
         "write london festivala wild coloursthe pre underdone proud alive nail happy break dangerous academy beautiful kick mob young intense scrutiny unleashes agony heard stupid adrianas complement major umbrella intense small filmthe unconscious lover poetic netflix normal drive crazy",
         "1"
        ],
        [
         "20",
         "modern bangkok vicious ritas legal resettle child live assist successful sour emelia epifanía hard saldana stunning unresolved lord succeedzoe gascón",
         "0"
        ],
        [
         "21",
         "unwatchable musician unbearable finish unintelligible ridiculous acceptablethe potential decent complete utter",
         "-1"
        ],
        [
         "23",
         "live genre expect criminal core theme storyline violent disappointing wastethe protagonist weak",
         "0"
        ],
        [
         "24",
         "portrayal lazy violent full single rich performer difficult themesthe offensive cheap genuine respect pene",
         "-1"
        ],
        [
         "26",
         "bliss awful awful exotic live full wild westdevoid logical human literal real worldeven common stereotypical ironic minimum",
         "-1"
        ],
        [
         "27",
         "outstanding unique possible bizarre incredible didthe emotive papa sung understand negative notthis",
         "1"
        ],
        [
         "28",
         "mixed inauthentic wrong particular theyre chant unique gascon particular sorry",
         "0"
        ],
        [
         "29",
         "painful dreadful terrible accurate speak terrible afraid beautiful agree swear terrible",
         "-1"
        ],
        [
         "30",
         "wrong different different wrong cynical overwhelming defend tear boldness alive intentional repetitive narrative headscratchingit realisedwanted wear worse regret",
         "0"
        ],
        [
         "34",
         "native hard boring lyric poorly sleep itll total",
         "-1"
        ],
        [
         "36",
         "abysmal clear agree absolute biggest saldana fine frankly critical huge wish",
         "-1"
        ],
        [
         "38",
         "original original insight vibe biggest responsible big wrong long clear motive",
         "0"
        ],
        [
         "39",
         "authentic passionate upset pair ridicoulous ridiculous complete",
         "-1"
        ],
        [
         "42",
         "complete terrible unbearable shallow nonsensical flat cringeworthy soldout",
         "-1"
        ],
        [
         "45",
         "failed memorable fresh entertaining protagonist meaningful insight memorable",
         "0"
        ],
        [
         "46",
         "ridiculous offensive pretentious south pretentious theme offensive controversial bold american critic different regular critic ridiculous theme poor intent transexual poor relative offensive high narcotrafic sensitive laugh incredible similar hot famous isin red strong dumb narco figureoffensive ridiculous ridiculous praised",
         "-1"
        ],
        [
         "49",
         "musical goodas shot colourful unendurable goodalas enjoyable screech interesting super songthe tom ridiculouszoe respect wish worthy financial critic",
         "-1"
        ],
        [
         "51",
         "objective hard littlest biggest disrespectful real clinic script",
         "-1"
        ],
        [
         "55",
         "high linesbut forgot gomezs entire subtitle tonedeaf insensitive entire stage",
         "-1"
        ],
        [
         "57",
         "guard sceptical big modern musical saldanha happy real lead win brilliant start wizard happy fantastic actress sofia raw emotional interesting lyric strange english",
         "0"
        ],
        [
         "58",
         "offensive public offensive speak social france represent stereotypical",
         "-1"
        ],
        [
         "59",
         "devious notorious lord peril perfect rich reborn past miss live narcothriller social bump different narrative funny due surprising festival sight human natural rawness active full",
         "1"
        ],
        [
         "64",
         "complete awful high real native read subtitle understand emotional unrhythmic golden receive tragic",
         "-1"
        ],
        [
         "66",
         "offensive offensive subject hideous disrespectful sloppy usthe",
         "-1"
        ],
        [
         "68",
         "audacious incredible full different different incredible unnecessary favorite perfect understand crazy charisma spectacular wrong opposite original audacious crazy",
         "0"
        ],
        [
         "69",
         "horrible disrespectful awful difficult properly real positive",
         "-1"
        ],
        [
         "70",
         "micheal mann american full high accolade festival head high depth brilliant shot stress",
         "1"
        ],
        [
         "71",
         "honest balanced big interesting interesting bring big interesting give real scared understand sadlybut long mixed bed sensual screen pleaseant impactful lack watchable suspensful interesting long slow",
         "0"
        ],
        [
         "72",
         "middle celebirty successful mixed sad big innocent act upselenas fish alaska",
         "-1"
        ],
        [
         "74",
         "america terrible superficial poor executionfor clear take due vast second realize obvious themthe strange terrible impossible latin",
         "-1"
        ],
        [
         "76",
         "couple intended evident portrayas flat disappointing entire latin american incomprehensible",
         "-1"
        ],
        [
         "77",
         "nonstop protect sceptical understatement wrong exceeded equivalent vein lukewarm procedural transition double full strange empathy hot touch phenomenal filmselena simple automatic beautiful beautiful close song dark incredible wholesome diegetic catchy happy emilia spare evident unfortunate tragic decree commentary facet spectacle song difficult mood divisive wackiest original super memorable experiencefinal illegal alien radical liberal",
         "1"
        ],
        [
         "79",
         "awful write poor terrible horrendous real touch depth emotional impossible final hard",
         "-1"
        ]
       ],
       "shape": {
        "columns": 2,
        "rows": 360
       }
      },
      "text/html": [
       "<div>\n",
       "<style scoped>\n",
       "    .dataframe tbody tr th:only-of-type {\n",
       "        vertical-align: middle;\n",
       "    }\n",
       "\n",
       "    .dataframe tbody tr th {\n",
       "        vertical-align: top;\n",
       "    }\n",
       "\n",
       "    .dataframe thead th {\n",
       "        text-align: right;\n",
       "    }\n",
       "</style>\n",
       "<table border=\"1\" class=\"dataframe\">\n",
       "  <thead>\n",
       "    <tr style=\"text-align: right;\">\n",
       "      <th></th>\n",
       "      <th>text</th>\n",
       "      <th>sentiment</th>\n",
       "    </tr>\n",
       "  </thead>\n",
       "  <tbody>\n",
       "    <tr>\n",
       "      <th>0</th>\n",
       "      <td>actual awful narcotic interesting ridiculous s...</td>\n",
       "      <td>0</td>\n",
       "    </tr>\n",
       "    <tr>\n",
       "      <th>1</th>\n",
       "      <td>significant oversight insult dismissive academ...</td>\n",
       "      <td>0</td>\n",
       "    </tr>\n",
       "    <tr>\n",
       "      <th>2</th>\n",
       "      <td>dialogue cringy stereotypical real latin respe...</td>\n",
       "      <td>0</td>\n",
       "    </tr>\n",
       "    <tr>\n",
       "      <th>4</th>\n",
       "      <td>ambitious incomplete flat easy particular posi...</td>\n",
       "      <td>0</td>\n",
       "    </tr>\n",
       "    <tr>\n",
       "      <th>6</th>\n",
       "      <td>understand strong element uneven sluggish emot...</td>\n",
       "      <td>0</td>\n",
       "    </tr>\n",
       "    <tr>\n",
       "      <th>...</th>\n",
       "      <td>...</td>\n",
       "      <td>...</td>\n",
       "    </tr>\n",
       "    <tr>\n",
       "      <th>472</th>\n",
       "      <td>original foreign lgbt gomezzoe saldana perezno...</td>\n",
       "      <td>0</td>\n",
       "    </tr>\n",
       "    <tr>\n",
       "      <th>473</th>\n",
       "      <td>subject audiard libretto unexpected emotional ...</td>\n",
       "      <td>0</td>\n",
       "    </tr>\n",
       "    <tr>\n",
       "      <th>475</th>\n",
       "      <td>massive input justified entire latin short fla...</td>\n",
       "      <td>0</td>\n",
       "    </tr>\n",
       "    <tr>\n",
       "      <th>476</th>\n",
       "      <td>wrong innovative nonsense tonedeaf unsensitive...</td>\n",
       "      <td>0</td>\n",
       "    </tr>\n",
       "    <tr>\n",
       "      <th>477</th>\n",
       "      <td>wild genre hard half pretty intriguing arc hav...</td>\n",
       "      <td>0</td>\n",
       "    </tr>\n",
       "  </tbody>\n",
       "</table>\n",
       "<p>360 rows × 2 columns</p>\n",
       "</div>"
      ],
      "text/plain": [
       "                                                  text  sentiment\n",
       "0    actual awful narcotic interesting ridiculous s...          0\n",
       "1    significant oversight insult dismissive academ...          0\n",
       "2    dialogue cringy stereotypical real latin respe...          0\n",
       "4    ambitious incomplete flat easy particular posi...          0\n",
       "6    understand strong element uneven sluggish emot...          0\n",
       "..                                                 ...        ...\n",
       "472  original foreign lgbt gomezzoe saldana perezno...          0\n",
       "473  subject audiard libretto unexpected emotional ...          0\n",
       "475  massive input justified entire latin short fla...          0\n",
       "476  wrong innovative nonsense tonedeaf unsensitive...          0\n",
       "477  wild genre hard half pretty intriguing arc hav...          0\n",
       "\n",
       "[360 rows x 2 columns]"
      ]
     },
     "execution_count": 18,
     "metadata": {},
     "output_type": "execute_result"
    }
   ],
   "source": [
    "wordnet_lem = WordNetLemmatizer()\n",
    "\n",
    "def lemmatize(text):\n",
    "    text = \" \".join([wordnet_lem.lemmatize(word) for word in text.split()])\n",
    "    \n",
    "    # Only keep adjectives (JJ, JJR, JJS)\n",
    "    text = ' '.join([word for word, pos in pos_tag(text.split()) if pos in ['JJ', 'JJR', 'JJS'] and word not in ['ive','french', 'mexican']])\n",
    "    return text\n",
    "\n",
    "df_final['text'] = df_final['text'].apply(lemmatize)\n",
    "df_final"
   ]
  },
  {
   "cell_type": "markdown",
   "metadata": {},
   "source": [
    "### Tokenize"
   ]
  },
  {
   "cell_type": "code",
   "execution_count": 19,
   "metadata": {},
   "outputs": [
    {
     "data": {
      "text/plain": [
       "0    [actual, awful, narcotic, interesting, ridicul...\n",
       "1    [significant, oversight, insult, dismissive, a...\n",
       "2    [dialogue, cringy, stereotypical, real, latin,...\n",
       "4    [ambitious, incomplete, flat, easy, particular...\n",
       "6    [understand, strong, element, uneven, sluggish...\n",
       "Name: text, dtype: object"
      ]
     },
     "execution_count": 19,
     "metadata": {},
     "output_type": "execute_result"
    }
   ],
   "source": [
    "tokenized_review=df_final['text'].apply(lambda x: x.split())\n",
    "tokenized_review.head(5)"
   ]
  },
  {
   "cell_type": "code",
   "execution_count": 20,
   "metadata": {},
   "outputs": [
    {
     "name": "stderr",
     "output_type": "stream",
     "text": [
      "/Users/cdroin/.pyenv/versions/3.11.7/lib/python3.11/site-packages/sklearn/feature_extraction/text.py:521: UserWarning: The parameter 'token_pattern' will not be used since 'tokenizer' is not None'\n",
      "  warnings.warn(\n"
     ]
    }
   ],
   "source": [
    "token = RegexpTokenizer(r'[a-zA-Z0-9]+')\n",
    "cv = CountVectorizer(stop_words='english',ngram_range = (1,1),tokenizer = token.tokenize)\n",
    "text_counts = cv.fit_transform(df_final['text'])"
   ]
  },
  {
   "cell_type": "code",
   "execution_count": 21,
   "metadata": {},
   "outputs": [
    {
     "data": {
      "text/plain": [
       "<360x1966 sparse matrix of type '<class 'numpy.int64'>'\n",
       "\twith 5258 stored elements in Compressed Sparse Row format>"
      ]
     },
     "execution_count": 21,
     "metadata": {},
     "output_type": "execute_result"
    }
   ],
   "source": [
    "text_counts"
   ]
  },
  {
   "cell_type": "markdown",
   "metadata": {},
   "source": [
    "### Classify"
   ]
  },
  {
   "cell_type": "code",
   "execution_count": 22,
   "metadata": {},
   "outputs": [],
   "source": [
    "X=text_counts\n",
    "y=df_final['sentiment']\n",
    "X_train, X_test, y_train, y_test = train_test_split(X, y, test_size=0.20,random_state=30)"
   ]
  },
  {
   "cell_type": "code",
   "execution_count": 23,
   "metadata": {},
   "outputs": [
    {
     "name": "stdout",
     "output_type": "stream",
     "text": [
      "MultinominalNB model accuracy is 75.00%\n",
      "------------------------------------------------\n",
      "Confusion Matrix:\n",
      "    0  1   2\n",
      "0  33  5   2\n",
      "1   2  6   3\n",
      "2   3  3  15\n",
      "------------------------------------------------\n",
      "Classification Report:\n",
      "              precision    recall  f1-score   support\n",
      "\n",
      "          -1       0.87      0.82      0.85        40\n",
      "           0       0.43      0.55      0.48        11\n",
      "           1       0.75      0.71      0.73        21\n",
      "\n",
      "    accuracy                           0.75        72\n",
      "   macro avg       0.68      0.69      0.69        72\n",
      "weighted avg       0.77      0.75      0.76        72\n",
      "\n"
     ]
    }
   ],
   "source": [
    "MNB = MultinomialNB()\n",
    "MNB.fit(X_train, y_train)\n",
    "\n",
    "predicted = MNB.predict(X_test)\n",
    "accuracy_score = metrics.accuracy_score(predicted, y_test)\n",
    "\n",
    "print('MultinominalNB model accuracy is',str('{:04.2f}'.format(accuracy_score*100))+'%')\n",
    "print('------------------------------------------------')\n",
    "print('Confusion Matrix:')\n",
    "print(pd.DataFrame(confusion_matrix(y_test, predicted)))\n",
    "print('------------------------------------------------')\n",
    "print('Classification Report:')\n",
    "print(classification_report(y_test, predicted))"
   ]
  },
  {
   "cell_type": "code",
   "execution_count": 24,
   "metadata": {},
   "outputs": [
    {
     "data": {
      "text/plain": [
       "array([173.,  57.,  58.])"
      ]
     },
     "execution_count": 24,
     "metadata": {},
     "output_type": "execute_result"
    }
   ],
   "source": [
    "MNB.class_count_"
   ]
  },
  {
   "cell_type": "code",
   "execution_count": 25,
   "metadata": {},
   "outputs": [
    {
     "name": "stdout",
     "output_type": "stream",
     "text": [
      "-1 ['american', 'poor', 'entire', 'touch', 'shallow', 'wrong', 'high', 'lyric', 'speak', 'ridiculous', 'social', 'cultural', 'narrative', 'horrible', 'disrespectful', 'real', 'awful', 'hard', 'offensive', 'terrible']\n",
      "0 ['terrible', 'subject', 'past', 'unique', 'entire', 'important', 'golden', 'understand', 'hard', 'musical', 'lead', 'real', 'emotional', 'narrative', 'different', 'strong', 'interesting', 'ambitious', 'big', 'wrong']\n",
      "1 ['female', 'sad', 'narrative', 'rita', 'past', 'complete', 'unforgettable', 'happy', 'raw', 'powerful', 'emotional', 'brilliant', 'big', 'different', 'unique', 'musical', 'incredible', 'real', 'beautiful', 'original']\n"
     ]
    }
   ],
   "source": [
    "MNB.feature_log_prob_\n",
    "\n",
    "# Only keep the 10 best word for each class, display the corresponding words\n",
    "n = 20\n",
    "for i, label in enumerate(MNB.classes_):\n",
    "    top_n = np.argsort(MNB.feature_log_prob_[i])[-n:]\n",
    "    print(label, [cv.get_feature_names_out()[i] for i in top_n])\n"
   ]
  },
  {
   "cell_type": "code",
   "execution_count": 26,
   "metadata": {},
   "outputs": [
    {
     "name": "stdout",
     "output_type": "stream",
     "text": [
      "MultinominalNB model accuracy is 72.22%\n",
      "------------------------------------------------\n",
      "Confusion Matrix:\n",
      "    0  1   2\n",
      "0  35  4   1\n",
      "1   7  2   2\n",
      "2   6  0  15\n",
      "------------------------------------------------\n",
      "Classification Report:\n",
      "              precision    recall  f1-score   support\n",
      "\n",
      "          -1       0.73      0.88      0.80        40\n",
      "           0       0.33      0.18      0.24        11\n",
      "           1       0.83      0.71      0.77        21\n",
      "\n",
      "    accuracy                           0.72        72\n",
      "   macro avg       0.63      0.59      0.60        72\n",
      "weighted avg       0.70      0.72      0.70        72\n",
      "\n"
     ]
    }
   ],
   "source": [
    "# Redo the classification with only the 20 best words for each class (remove the other words in text_counts)\n",
    "n = 20\n",
    "top_n_1 = []\n",
    "for i, label in enumerate(MNB.classes_):\n",
    "    top_n_1 += list(np.argsort(MNB.feature_log_prob_[i])[-n:])\n",
    "top_n_1 = list(set(top_n_1))\n",
    "\n",
    "# Only keep words for which the std is above a certain threshold\n",
    "# threshold = 0.05\n",
    "# top_n_2 = []\n",
    "# for i, label in enumerate(MNB.classes_):\n",
    "#     top_n_2 += list(np.where(np.std(text_counts[:, np.argsort(MNB.feature_log_prob_[i])], axis=0) > threshold)[0])\n",
    "    \n",
    "# top_n_2 = list(set(top_n_2))\n",
    "\n",
    "top_n = top_n_1#list(set(top_n_1) & set(top_n_2))\n",
    "\n",
    "X = text_counts[:, top_n]\n",
    "X_train, X_test, y_train, y_test = train_test_split(X, y, test_size=0.20,random_state=30)\n",
    "\n",
    "\n",
    "MNB = MultinomialNB()\n",
    "MNB.fit(X_train, y_train)\n",
    "\n",
    "predicted = MNB.predict(X_test)\n",
    "accuracy_score = metrics.accuracy_score(predicted, y_test)\n",
    "\n",
    "print('MultinominalNB model accuracy is',str('{:04.2f}'.format(accuracy_score*100))+'%')\n",
    "print('------------------------------------------------')\n",
    "print('Confusion Matrix:')\n",
    "print(pd.DataFrame(confusion_matrix(y_test, predicted)))\n",
    "print('------------------------------------------------')\n",
    "print('Classification Report:')\n",
    "print(classification_report(y_test, predicted))"
   ]
  },
  {
   "cell_type": "code",
   "execution_count": 31,
   "metadata": {},
   "outputs": [
    {
     "data": {
      "image/png": "[encoded data removed]",
      "text/plain": [
       "<Figure size 1500x400 with 2 Axes>"
      ]
     },
     "metadata": {},
     "output_type": "display_data"
    }
   ],
   "source": [
    "# Plot the matrix of probabilities per word\n",
    "import matplotlib.pyplot as plt\n",
    "fig = plt.figure(figsize=(15, 4))\n",
    "# Sort MNB.feature_log_prob_ by increasing difference between row 0 and row 2\n",
    "order = np.argsort(MNB.feature_log_prob_[0] - MNB.feature_log_prob_[2])\n",
    "words = [cv.get_feature_names_out()[i] for i in top_n]\n",
    "words_sorted = [words[i] for i in order]\n",
    "\n",
    "\n",
    "plt.imshow(np.exp(MNB.feature_log_prob_[:, order]), cmap='viridis', aspect='auto')\n",
    "plt.colorbar()\n",
    "plt.yticks(range(3), ['Negative', 'Neutral', 'Positive'])\n",
    "plt.xticks(range(len(order)), words_sorted, rotation=90)\n",
    "plt.show()\n"
   ]
  },
  {
   "cell_type": "code",
   "execution_count": 28,
   "metadata": {},
   "outputs": [
    {
     "data": {
      "text/plain": [
       "<288x46 sparse matrix of type '<class 'numpy.int64'>'\n",
       "\twith 828 stored elements in Compressed Sparse Row format>"
      ]
     },
     "execution_count": 28,
     "metadata": {},
     "output_type": "execute_result"
    }
   ],
   "source": [
    "X_train"
   ]
  },
  {
   "cell_type": "code",
   "execution_count": null,
   "metadata": {},
   "outputs": [],
   "source": []
  }
 ],
 "metadata": {
  "kernelspec": {
   "display_name": "Python 3",
   "language": "python",
   "name": "python3"
  },
  "language_info": {
   "codemirror_mode": {
    "name": "ipython",
    "version": 3
   },
   "file_extension": ".py",
   "mimetype": "text/x-python",
   "name": "python",
   "nbconvert_exporter": "python",
   "pygments_lexer": "ipython3",
   "version": "3.11.7"
  }
 },
 "nbformat": 4,
 "nbformat_minor": 2
}
